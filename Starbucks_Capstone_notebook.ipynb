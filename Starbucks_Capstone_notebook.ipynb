{
 "cells": [
  {
   "cell_type": "markdown",
   "metadata": {},
   "source": [
    "# Starbucks Capstone Challenge\n",
    "\n",
    "### Introduction\n",
    "\n",
    "This data set contains simulated data that mimics customer behavior on the Starbucks rewards mobile app. Once every few days, Starbucks sends out an offer to users of the mobile app. An offer can be merely an advertisement for a drink or an actual offer such as a discount or BOGO (buy one get one free). Some users might not receive any offer during certain weeks. \n",
    "\n",
    "Not all users receive the same offer, and that is the challenge to solve with this data set.\n",
    "\n",
    "Your task is to combine transaction, demographic and offer data to determine which demographic groups respond best to which offer type. This data set is a simplified version of the real Starbucks app because the underlying simulator only has one product whereas Starbucks actually sells dozens of products.\n",
    "\n",
    "Every offer has a validity period before the offer expires. As an example, a BOGO offer might be valid for only 5 days. You'll see in the data set that informational offers have a validity period even though these ads are merely providing information about a product; for example, if an informational offer has 7 days of validity, you can assume the customer is feeling the influence of the offer for 7 days after receiving the advertisement.\n",
    "\n",
    "You'll be given transactional data showing user purchases made on the app including the timestamp of purchase and the amount of money spent on a purchase. This transactional data also has a record for each offer that a user receives as well as a record for when a user actually views the offer. There are also records for when a user completes an offer. \n",
    "\n",
    "Keep in mind as well that someone using the app might make a purchase through the app without having received an offer or seen an offer.\n",
    "\n",
    "### Example\n",
    "\n",
    "To give an example, a user could receive a discount offer buy 10 dollars get 2 off on Monday. The offer is valid for 10 days from receipt. If the customer accumulates at least 10 dollars in purchases during the validity period, the customer completes the offer.\n",
    "\n",
    "However, there are a few things to watch out for in this data set. Customers do not opt into the offers that they receive; in other words, a user can receive an offer, never actually view the offer, and still complete the offer. For example, a user might receive the \"buy 10 dollars get 2 dollars off offer\", but the user never opens the offer during the 10 day validity period. The customer spends 15 dollars during those ten days. There will be an offer completion record in the data set; however, the customer was not influenced by the offer because the customer never viewed the offer.\n",
    "\n",
    "### Cleaning\n",
    "\n",
    "This makes data cleaning especially important and tricky.\n",
    "\n",
    "You'll also want to take into account that some demographic groups will make purchases even if they don't receive an offer. From a business perspective, if a customer is going to make a 10 dollar purchase without an offer anyway, you wouldn't want to send a buy 10 dollars get 2 dollars off offer. You'll want to try to assess what a certain demographic group will buy when not receiving any offers.\n",
    "\n",
    "### Final Advice\n",
    "\n",
    "Because this is a capstone project, you are free to analyze the data any way you see fit. For example, you could build a machine learning model that predicts how much someone will spend based on demographics and offer type. Or you could build a model that predicts whether or not someone will respond to an offer. Or, you don't need to build a machine learning model at all. You could develop a set of heuristics that determine what offer you should send to each customer (i.e., 75 percent of women customers who were 35 years old responded to offer A vs 40 percent from the same demographic to offer B, so send offer A)."
   ]
  },
  {
   "cell_type": "markdown",
   "metadata": {},
   "source": [
    "# Data Sets\n",
    "\n",
    "The data is contained in three files:\n",
    "\n",
    "* portfolio.json - containing offer ids and meta data about each offer (duration, type, etc.)\n",
    "* profile.json - demographic data for each customer\n",
    "* transcript.json - records for transactions, offers received, offers viewed, and offers completed\n",
    "\n",
    "Here is the schema and explanation of each variable in the files:\n",
    "\n",
    "**portfolio.json**\n",
    "* id (string) - offer id\n",
    "* offer_type (string) - type of offer ie BOGO, discount, informational\n",
    "* difficulty (int) - minimum required spend to complete an offer\n",
    "* reward (int) - reward given for completing an offer\n",
    "* duration (int) - time for offer to be open, in days\n",
    "* channels (list of strings)\n",
    "\n",
    "**profile.json**\n",
    "* age (int) - age of the customer \n",
    "* became_member_on (int) - date when customer created an app account\n",
    "* gender (str) - gender of the customer (note some entries contain 'O' for other rather than M or F)\n",
    "* id (str) - customer id\n",
    "* income (float) - customer's income\n",
    "\n",
    "**transcript.json**\n",
    "* event (str) - record description (ie transaction, offer received, offer viewed, etc.)\n",
    "* person (str) - customer id\n",
    "* time (int) - time in hours since start of test. The data begins at time t=0\n",
    "* value - (dict of strings) - either an offer id or transaction amount depending on the record"
   ]
  },
  {
   "cell_type": "markdown",
   "metadata": {},
   "source": [
    "# Table of contents"
   ]
  },
  {
   "cell_type": "markdown",
   "metadata": {},
   "source": [
    "1. [Importing libaries & dataset](#data)\n",
    "2. Explore and clean data :\n",
    "    [portfolio](#portfolio)\n",
    "    [profile](#profile)\n",
    "    [transcript](#transcript)\n",
    "3. [Exploratory analysis: Part1](#explore-part1)\n",
    "4. [Exploratory analysis: Part2](#explore-part2)\n",
    "5. [Feature engineering](#feature)\n",
    "6. [Modeling](#model)\n",
    "7. [Conclusion](#conclude)\n",
    "\n",
    "\n",
    "<font color=\"orangered\">Jump right into the <strong> 3. Exporatory Analysis</strong> part if you want to skip the data cleaning and </font>"
   ]
  },
  {
   "cell_type": "markdown",
   "metadata": {},
   "source": [
    "<a id=\"data\"></a>\n",
    "# `SECTION 1`\n",
    "\n",
    "## Importing libraries"
   ]
  },
  {
   "cell_type": "markdown",
   "metadata": {},
   "source": [
    "<a id=\"modules\"></a>"
   ]
  },
  {
   "cell_type": "code",
   "execution_count": 1,
   "metadata": {},
   "outputs": [],
   "source": [
    "import pandas as pd\n",
    "import numpy as np\n",
    "import matplotlib.pyplot as plt\n",
    "import seaborn as sns\n",
    "import math\n",
    "import json\n",
    "import os.path\n",
    "from tqdm import tqdm # progress bar\n",
    "\n",
    "%matplotlib inline\n",
    "%config Completer.use_jedi = False # autocomplete"
   ]
  },
  {
   "cell_type": "code",
   "execution_count": 163,
   "metadata": {},
   "outputs": [],
   "source": [
    "# Scikit learn modules\n"
   ]
  },
  {
   "cell_type": "markdown",
   "metadata": {},
   "source": [
    "[to the current workspace](#work)"
   ]
  },
  {
   "cell_type": "markdown",
   "metadata": {},
   "source": [
    "## Importing data"
   ]
  },
  {
   "cell_type": "code",
   "execution_count": 122,
   "metadata": {},
   "outputs": [],
   "source": [
    "# read in the json files\n",
    "portfolio = pd.read_json('data/portfolio.json', orient='records', lines=True)\n",
    "profile = pd.read_json('data/profile.json', orient='records', lines=True)\n",
    "transcript = pd.read_json('data/transcript.json', orient='records', lines=True)"
   ]
  },
  {
   "cell_type": "markdown",
   "metadata": {},
   "source": [
    "---\n",
    "# `SECTION 2` Exploring & cleaning data\n",
    "\n",
    "There are three dataset to explore and clean."
   ]
  },
  {
   "cell_type": "markdown",
   "metadata": {},
   "source": [
    "<a id=\"portfolio\"></a>\n",
    "## `DATA 1` portfolio"
   ]
  },
  {
   "cell_type": "code",
   "execution_count": null,
   "metadata": {
    "scrolled": true
   },
   "outputs": [],
   "source": [
    "portfolio.info() "
   ]
  },
  {
   "cell_type": "markdown",
   "metadata": {},
   "source": [
    "#### Commentary\n",
    "\n",
    "There are only 10 offers available in the data as it is a simplified version. \n",
    "\n",
    "For cleaning, note the following:\n",
    "- no missing value exists\n",
    "- date types look okay\n",
    "- need to destructure `channels` column as it is list <font color=\"orangered\">(to do)</font>\n",
    "- just confirm if there is any duplicates <font color=\"orangered\">(to do)</font>\n",
    "\n",
    "After cleaning, I would like to return:\n",
    "- a grouped by table that shows summary statistics of offers by `offer_type`"
   ]
  },
  {
   "cell_type": "markdown",
   "metadata": {},
   "source": [
    "### Function to clean `portfolio` data"
   ]
  },
  {
   "cell_type": "code",
   "execution_count": null,
   "metadata": {},
   "outputs": [],
   "source": [
    "def clean_portfolio(df):\n",
    "    ''' Clean the 'portolio' dataset, achieving :\n",
    "    1. Destructure 'channels' column\n",
    "    2. Drop 'channels' column after destructing\n",
    "    \n",
    "    INPUT: a Pandas dataframe that contains portfolio data\n",
    "    OUTPUT: a clean dataframe \n",
    "    '''\n",
    "    \n",
    "    # Get unique channels \n",
    "    temp_list = list()\n",
    "\n",
    "    for _type in df.channels:\n",
    "        temp_list.extend(_type)\n",
    "\n",
    "    channel_list = set(temp_list)\n",
    "    \n",
    "    \n",
    "    # Create binary tables for channels\n",
    "    channel_bool = dict()\n",
    "\n",
    "    for _type in channel_list:\n",
    "        channel_bool[_type] = df.channels.apply(lambda x: _type in x)\n",
    "    \n",
    "    channel_df = pd.DataFrame(channel_bool)\n",
    "    \n",
    "    \n",
    "    # Transform boolean to binary integer (True: 1, False: 0)\n",
    "    binary_rule = {True: 1, False: 0}\n",
    "    \n",
    "    for col in channel_df.columns:\n",
    "        channel_df[col] = channel_df[col].map(binary_rule) \n",
    "       \n",
    "    # Join the binary columns to the original dataframe\n",
    "    df_clean = df.join(channel_df)\n",
    "    \n",
    "    # Drop 'channels' columns\n",
    "    df_clean = df_clean.drop(columns='channels')\n",
    "    \n",
    "    \n",
    "    return df_clean\n",
    "    "
   ]
  },
  {
   "cell_type": "code",
   "execution_count": null,
   "metadata": {},
   "outputs": [],
   "source": [
    "# Clean portfolio dataframe\n",
    "portfolio_v1 = clean_portfolio(portfolio)\n",
    "portfolio_v1"
   ]
  },
  {
   "cell_type": "code",
   "execution_count": null,
   "metadata": {},
   "outputs": [],
   "source": [
    "# Check for duplicates\n",
    "assert portfolio_v1.duplicated().sum() == 0, \"There is at least one duplicated offer\""
   ]
  },
  {
   "cell_type": "code",
   "execution_count": null,
   "metadata": {},
   "outputs": [],
   "source": [
    "# Printing stats table including channels\n",
    "portfolio_v1.groupby('offer_type').mean()"
   ]
  },
  {
   "cell_type": "markdown",
   "metadata": {},
   "source": [
    "#### Commentary:\n",
    "\n",
    "Customers gets the most reward from `bogo` it is less difficult to redeem than `discount` which requires more spends. \n",
    "\n",
    "When sending out offers, `email` is opted always. `bogo` looks the most aggressive offer utilising the 4 channels the most (just as it sounds)."
   ]
  },
  {
   "cell_type": "code",
   "execution_count": null,
   "metadata": {},
   "outputs": [],
   "source": [
    "# Saving the cleand dataframe as 'portfolio_v1'\n",
    "portfolio_v1.to_csv('data/portfolio_v1.csv', index=False)"
   ]
  },
  {
   "cell_type": "markdown",
   "metadata": {},
   "source": [
    "<a id=\"profile\"></a>\n",
    "## `DATA 2` profile"
   ]
  },
  {
   "cell_type": "code",
   "execution_count": null,
   "metadata": {},
   "outputs": [],
   "source": [
    "profile.head(3) "
   ]
  },
  {
   "cell_type": "code",
   "execution_count": null,
   "metadata": {},
   "outputs": [],
   "source": [
    "# Check for duplicates by id\n",
    "assert profile.duplicated(subset='id').sum() == 0, \"There is at least one duplicated record\""
   ]
  },
  {
   "cell_type": "code",
   "execution_count": null,
   "metadata": {},
   "outputs": [],
   "source": [
    "# 2175 records with null data \n",
    "# age of 118 is odd so to remove\n",
    "print(profile[profile.gender.isnull()].head(3))\n",
    "profile[profile.gender.isnull()].age.value_counts() "
   ]
  },
  {
   "cell_type": "markdown",
   "metadata": {},
   "source": [
    "#### Commentary\n",
    "\n",
    "There is no duplicated id. `profile` data contains all unique user ids.\n",
    "\n",
    "For cleaning, note the following:\n",
    "- 2175 missing value exists in `gender`, `income` columns: contain age of 118 which is abnormal <font color=\"orangered\">(drop them) - 12.7% of the data</font>\n",
    "- `become_member_on` to be converted to datetime object"
   ]
  },
  {
   "cell_type": "markdown",
   "metadata": {},
   "source": [
    "### Function to clean `profile` data"
   ]
  },
  {
   "cell_type": "code",
   "execution_count": null,
   "metadata": {},
   "outputs": [],
   "source": [
    "def clean_profile(df):\n",
    "    ''' Clean the 'portolio' dataset, achieving :\n",
    "    1. Drop nulls\n",
    "    2. Convert 'become_member_on' to datetime object\n",
    "    \n",
    "    INPUT: a Pandas dataframe that contains profile data\n",
    "    OUTPUT: a clean dataframe \n",
    "    '''\n",
    "    \n",
    "    # Copy the original dataframe\n",
    "    df_clean = df.copy()\n",
    "    \n",
    "    # Drop nulls\n",
    "    df_clean = df_clean[df_clean.gender.notnull()]\n",
    "    \n",
    "    # Convert to datetime object\n",
    "    df_clean.loc[:, 'became_member_on'] = pd.to_datetime(df_clean.became_member_on, format=\"%Y%m%d\")\n",
    "    \n",
    "    return df_clean\n"
   ]
  },
  {
   "cell_type": "code",
   "execution_count": null,
   "metadata": {},
   "outputs": [],
   "source": [
    "# Check for any remaining null data \n",
    "assert profile_v1.shape[0] == profile.shape[0] - 2175, \"It looks that missing values are not dropped correctly\"\n",
    "assert profile_v1.isnull().sum().sum() == 0, \"There still is missing value\""
   ]
  },
  {
   "cell_type": "code",
   "execution_count": null,
   "metadata": {},
   "outputs": [],
   "source": [
    "# Save the clean data as profile_v1\n",
    "profile_v1.to_csv('data/profile_v1.csv', index=False)"
   ]
  },
  {
   "cell_type": "markdown",
   "metadata": {},
   "source": [
    "<a id=\"transcript\"></a>\n",
    "## `DATA 3` transcript"
   ]
  },
  {
   "cell_type": "code",
   "execution_count": null,
   "metadata": {},
   "outputs": [],
   "source": [
    "transcript.info()"
   ]
  },
  {
   "cell_type": "code",
   "execution_count": null,
   "metadata": {},
   "outputs": [],
   "source": [
    "transcript.head()"
   ]
  },
  {
   "cell_type": "code",
   "execution_count": null,
   "metadata": {
    "scrolled": true
   },
   "outputs": [],
   "source": [
    "transcript.event.value_counts()"
   ]
  },
  {
   "cell_type": "markdown",
   "metadata": {},
   "source": [
    "### Quick inspection of the `value` column"
   ]
  },
  {
   "cell_type": "code",
   "execution_count": null,
   "metadata": {},
   "outputs": [],
   "source": [
    "# Destructoring dictionary in 'value' column \n",
    "temp = transcript.copy()"
   ]
  },
  {
   "cell_type": "code",
   "execution_count": null,
   "metadata": {
    "scrolled": false
   },
   "outputs": [],
   "source": [
    "# Extract unique keys from the dictionary\n",
    "value_keys = []\n",
    "\n",
    "for _dict in temp.value:\n",
    "    for keys in _dict.keys():\n",
    "        value_keys.append(keys)\n",
    "        \n",
    "print(set(value_keys))"
   ]
  },
  {
   "cell_type": "markdown",
   "metadata": {},
   "source": [
    "#### Commentary\n",
    "\n",
    "There are 3 unique keys in the dictionary, while `offer_id` and `offer id` should give the same information. \n",
    "\n",
    "- We need destructuring the dictionary first \n",
    "- Then combine `offer_id` and `offer id` column together into `offer_id` column\n",
    "- drop `offer id` column"
   ]
  },
  {
   "cell_type": "code",
   "execution_count": null,
   "metadata": {},
   "outputs": [],
   "source": [
    "# Quick way to destructure using 'json_normalize' method\n",
    "value_destructured = pd.json_normalize(temp['value'])\n",
    "value_destructured"
   ]
  },
  {
   "cell_type": "code",
   "execution_count": null,
   "metadata": {},
   "outputs": [],
   "source": [
    "# Merge 'offer_id' and 'offer id' columns \n",
    "# np.where(condition, value if true, value if false)\n",
    "value_destructured['offer_id'] = np.where(value_destructured['offer id'].notnull(), \n",
    "                                          value_destructured['offer id'], \n",
    "                                          value_destructured['offer_id'])\n",
    "\n",
    "# Drop the unnecessary offer id column if merger successful\n",
    "assert value_destructured['offer_id'].notnull().sum() == 167581, \"It is an incorrect merge\"\n",
    "value_destructured = value_destructured.drop(columns='offer id')"
   ]
  },
  {
   "cell_type": "code",
   "execution_count": null,
   "metadata": {},
   "outputs": [],
   "source": [
    "# Inspecting amount column\n",
    "print('Number of transactions made: ', value_destructured.amount.notnull().sum(), end='\\n\\n')\n",
    "print(value_destructured.amount.describe())\n",
    "\n",
    "sns.histplot(x=value_destructured.amount, binwidth=5); # every $5\n",
    "plt.title('Distribution of transaction amounts');\n",
    "plt.xlim([0,100]); # removing outliers i.e. max value of $1062.28"
   ]
  },
  {
   "cell_type": "code",
   "execution_count": null,
   "metadata": {},
   "outputs": [],
   "source": [
    "# Transation value over $100 (hidden from the graph above)\n",
    "print(f'#trans over $100: {(value_destructured.amount > 100).sum()}')\n",
    "print(f'  in percentage: {(value_destructured.amount > 100).sum() / 138953 * 100:.2f}%')"
   ]
  },
  {
   "cell_type": "markdown",
   "metadata": {},
   "source": [
    "Most of the amounts fall below $100 with some outliers that are minor enough to be ignored. Note that transaction values here includes those purchased with no offers as well."
   ]
  },
  {
   "cell_type": "code",
   "execution_count": null,
   "metadata": {},
   "outputs": [],
   "source": [
    "# Inspecting reward column\n",
    "print('Total number of rewards given:', len(value_destructured.reward.notnull()))\n",
    "\n",
    "sns.countplot(x=value_destructured.reward);\n",
    "plt.title('Rewards given for completing offers and their counts');"
   ]
  },
  {
   "cell_type": "markdown",
   "metadata": {},
   "source": [
    "Rewards are given for offers that are completed. Therefore, it must correspond to `offer completed` events only. Reward 5 has been given the most followed by reward 2. "
   ]
  },
  {
   "cell_type": "markdown",
   "metadata": {},
   "source": [
    "#### Commentary - `transcript` data:\n",
    "\n",
    "There are four types of event following marketing funnels. As mentioned earlier an offer can be completed without receiving / viewing offer. Also, transaction can happen with no offer redeemed.\n",
    "\n",
    "No missing data is found in `transcript` data. However, after destructuring `value` column many null values are generated, which is to address no transactions / rewards and delivers a correct picture - no need to drop.\n",
    " \n",
    "For cleaning, \n",
    "- destructor dictionary in `value` column <font color=\"orangered\">(to do)</font>\n",
    "- make the keys of the ditionary in `value` column consistent <font color=\"orangered\">(to do)</font>\n",
    "- drop the original `value` column <font color=\"orangered\">(to do)</font>"
   ]
  },
  {
   "cell_type": "markdown",
   "metadata": {},
   "source": [
    "### Function to clean `transcript` data"
   ]
  },
  {
   "cell_type": "code",
   "execution_count": null,
   "metadata": {},
   "outputs": [],
   "source": [
    "def clean_transcript(df):\n",
    "    ''' Clean the 'transcript' dataset, achieving :\n",
    "    1. Destructure dictionary in 'value' column & create a new dataframe\n",
    "    2. Ensure consistency by merging offer_id with offer id column\n",
    "    3. Drop the duplicated offer id column\n",
    "    3. Join the new dataframe to the original transcript dataframe\n",
    "    4. Drop the original 'value' column\n",
    "\n",
    "    INPUT: a Pandas dataframe that contains transcript data\n",
    "    OUTPUT: a clean dataframe \n",
    "    '''\n",
    "    \n",
    "    # Instantiate df_clean as a copy of df\n",
    "    df_clean = df.copy()\n",
    "    \n",
    "    # Destructoring dictionary in 'value' column \n",
    "    value_df = pd.json_normalize(df.value)\n",
    "    \n",
    "    # Making values in 'value_key' column consistent + testing the result\n",
    "    # 'offer id' column merged 'offer_id' & test the change\n",
    "\n",
    "    # For testing, the merged column size should match sum of count 1 & 2\n",
    "    count1 = value_df['offer_id'].notnull().sum()\n",
    "    count2 = value_df['offer id'].notnull().sum()\n",
    "    \n",
    "    value_df['offer_id'] = np.where(value_df['offer id'].notnull(), \n",
    "                                    value_df['offer id'], value_df['offer_id'])\n",
    "    \n",
    "    # Testing if merged successfully\n",
    "    assert value_df['offer_id'].notnull().sum() == count1 + count2\n",
    "    \n",
    "    # Drop offer id column\n",
    "    value_df = value_df.drop(columns='offer id')\n",
    "\n",
    "    df_clean = df_clean.join(value_df)\n",
    "    \n",
    "    # Drop the original 'value' column\n",
    "    df_clean = df_clean.drop(columns='value')\n",
    "    \n",
    "    \n",
    "    return df_clean\n",
    "    "
   ]
  },
  {
   "cell_type": "code",
   "execution_count": null,
   "metadata": {},
   "outputs": [],
   "source": [
    "# Returning the clean dataframe\n",
    "transcript_v1 = clean_transcript(transcript)\n",
    "transcript_v1"
   ]
  },
  {
   "cell_type": "markdown",
   "metadata": {},
   "source": [
    "### Post cleaning inspection for `transcript_v1`"
   ]
  },
  {
   "cell_type": "code",
   "execution_count": null,
   "metadata": {},
   "outputs": [],
   "source": [
    "# If there is a value in 'amount', it should be about transaction\n",
    "assert transcript_v1[transcript_v1.amount.notnull()].event.unique()[0] == 'transaction'"
   ]
  },
  {
   "cell_type": "code",
   "execution_count": null,
   "metadata": {
    "scrolled": false
   },
   "outputs": [],
   "source": [
    "# Check for duplicates by 'person' and 'value_key'\n",
    "transript_v1_duplicated = transcript_v1[transcript_v1.duplicated(keep=False)]\n",
    "transript_v1_duplicated"
   ]
  },
  {
   "cell_type": "code",
   "execution_count": null,
   "metadata": {},
   "outputs": [],
   "source": [
    "# Duplicated event \n",
    "transript_v1_duplicated.event.hist();"
   ]
  },
  {
   "cell_type": "code",
   "execution_count": null,
   "metadata": {},
   "outputs": [],
   "source": [
    "# Inspection for duplicates with a sample \n",
    "sample = transcript_v1[transcript_v1.person == 'b7e216b6472b46648272c29a52a86702']\n",
    "sample"
   ]
  },
  {
   "cell_type": "markdown",
   "metadata": {},
   "source": [
    "#### Commentary\n",
    "About 397 fields (793 rows / 2) have duplicated records and it happends for `offer completed` event only. \n",
    "\n",
    "The above sample data shows the same type of duplication (idx# 305550, 305551). The duplicated fields do not really convery any meaningful data so drop duplicates (keep first)."
   ]
  },
  {
   "cell_type": "markdown",
   "metadata": {},
   "source": [
    "### Drop duplicates in `transcript_v1`"
   ]
  },
  {
   "cell_type": "code",
   "execution_count": null,
   "metadata": {},
   "outputs": [],
   "source": [
    "print(f'Before dropping duplicates: {transcript_v1.shape[0]} records')\n",
    "print(f'Total {transcript_v1.duplicated().sum()} duplicates exist')"
   ]
  },
  {
   "cell_type": "code",
   "execution_count": null,
   "metadata": {},
   "outputs": [],
   "source": [
    "transcript_v1 = transcript_v1.drop_duplicates(keep='first')"
   ]
  },
  {
   "cell_type": "code",
   "execution_count": null,
   "metadata": {},
   "outputs": [],
   "source": [
    "# Confirm the changes\n",
    "assert transcript_v1.shape[0] == 306534 - 397, \"There is something wrong\""
   ]
  },
  {
   "cell_type": "code",
   "execution_count": null,
   "metadata": {},
   "outputs": [],
   "source": [
    "# Save the clean data as transcript_v1\n",
    "transcript_v1.to_csv('data/transcript_v1.csv', index=False)"
   ]
  },
  {
   "cell_type": "markdown",
   "metadata": {},
   "source": [
    "### `transcript_v1` - further cleaning needed!\n",
    "Before any explatory analysis, we need a further cleaning of `transcript_v1` dataframe in order to clearly identify how funnels work and customers react to offers.\n",
    "\n",
    "As instructed in the introdution, transactions can be made without customers actually viewing offers, which does not really tell that customers were influenced by the offers.\n",
    "\n",
    "Therefore, we need to work on:\n",
    "1. Make `event` column categorical ordered\n",
    "2. Fill NaN value in `offer_id` for `transaction` made as a result of offer completion\n",
    "3. Pivot `transcript_v1` to see which offer / person completed offer or not\n",
    "\n",
    "The explanation here may not sound clear. So, I will explain the work along the way."
   ]
  },
  {
   "cell_type": "code",
   "execution_count": 23,
   "metadata": {},
   "outputs": [],
   "source": [
    "transcript_v1 = pd.read_csv('data/transcript_v1.csv')\n",
    "portfolio_v1 = pd.read_csv('data/portfolio_v1.csv')"
   ]
  },
  {
   "cell_type": "markdown",
   "metadata": {},
   "source": [
    "#### Re-order event\n",
    "It is understood that when an offer is completed, it follows funnles like below:  \n",
    "    \n",
    "    'offer received' -> 'offer viewed' ->'transaction' -> 'offer completed'"
   ]
  },
  {
   "cell_type": "markdown",
   "metadata": {},
   "source": [
    "<font color=\"orangered\">It is important to note that there are two offers that are informational. These two offers have only two events: offer received and offer viewed. </font> "
   ]
  },
  {
   "cell_type": "code",
   "execution_count": 37,
   "metadata": {},
   "outputs": [
    {
     "data": {
      "text/plain": [
       "['3f207df678b143eea3cee63160fa8bed', '5a8bc65990b245e5a138643cd4eb9837']"
      ]
     },
     "execution_count": 37,
     "metadata": {},
     "output_type": "execute_result"
    }
   ],
   "source": [
    "# Get offer_id for the two information offer types\n",
    "information_ids = portfolio_v1[portfolio_v1['offer_type'] == 'informational']['id'].to_list()\n",
    "information_ids"
   ]
  },
  {
   "cell_type": "code",
   "execution_count": 40,
   "metadata": {},
   "outputs": [
    {
     "data": {
      "text/plain": [
       "array(['offer received', 'offer viewed'], dtype=object)"
      ]
     },
     "execution_count": 40,
     "metadata": {},
     "output_type": "execute_result"
    }
   ],
   "source": [
    "# Events for informational offers\n",
    "transcript_v1[transcript_v1['offer_id'].isin(information_ids)]['event'].unique()"
   ]
  },
  {
   "cell_type": "markdown",
   "metadata": {},
   "source": [
    "For the ease of analysis, we transform `event` column categorical, ordered following funnels."
   ]
  },
  {
   "cell_type": "code",
   "execution_count": 41,
   "metadata": {},
   "outputs": [],
   "source": [
    "# Transform event column into categorical ordered dtype\n",
    "funnel_order = ['offer received', 'offer viewed', 'transaction', 'offer completed']\n",
    "transcript_v1.event = pd.Categorical(transcript_v1.event, categories=funnel_order, ordered=True)"
   ]
  },
  {
   "cell_type": "code",
   "execution_count": 42,
   "metadata": {},
   "outputs": [
    {
     "data": {
      "text/html": [
       "<div>\n",
       "<style scoped>\n",
       "    .dataframe tbody tr th:only-of-type {\n",
       "        vertical-align: middle;\n",
       "    }\n",
       "\n",
       "    .dataframe tbody tr th {\n",
       "        vertical-align: top;\n",
       "    }\n",
       "\n",
       "    .dataframe thead th {\n",
       "        text-align: right;\n",
       "    }\n",
       "</style>\n",
       "<table border=\"1\" class=\"dataframe\">\n",
       "  <thead>\n",
       "    <tr style=\"text-align: right;\">\n",
       "      <th></th>\n",
       "      <th>person</th>\n",
       "      <th>event</th>\n",
       "      <th>time</th>\n",
       "      <th>amount</th>\n",
       "      <th>offer_id</th>\n",
       "      <th>reward</th>\n",
       "    </tr>\n",
       "  </thead>\n",
       "  <tbody>\n",
       "    <tr>\n",
       "      <th>247632</th>\n",
       "      <td>0009655768c64bdeb2e877511632db8f</td>\n",
       "      <td>offer received</td>\n",
       "      <td>576</td>\n",
       "      <td>NaN</td>\n",
       "      <td>2906b810c7d4411798c6938adc9daaa5</td>\n",
       "      <td>NaN</td>\n",
       "    </tr>\n",
       "    <tr>\n",
       "      <th>258632</th>\n",
       "      <td>0009655768c64bdeb2e877511632db8f</td>\n",
       "      <td>offer completed</td>\n",
       "      <td>576</td>\n",
       "      <td>NaN</td>\n",
       "      <td>2906b810c7d4411798c6938adc9daaa5</td>\n",
       "      <td>2.0</td>\n",
       "    </tr>\n",
       "    <tr>\n",
       "      <th>113591</th>\n",
       "      <td>0009655768c64bdeb2e877511632db8f</td>\n",
       "      <td>offer received</td>\n",
       "      <td>336</td>\n",
       "      <td>NaN</td>\n",
       "      <td>3f207df678b143eea3cee63160fa8bed</td>\n",
       "      <td>NaN</td>\n",
       "    </tr>\n",
       "    <tr>\n",
       "      <th>139973</th>\n",
       "      <td>0009655768c64bdeb2e877511632db8f</td>\n",
       "      <td>offer viewed</td>\n",
       "      <td>372</td>\n",
       "      <td>NaN</td>\n",
       "      <td>3f207df678b143eea3cee63160fa8bed</td>\n",
       "      <td>NaN</td>\n",
       "    </tr>\n",
       "    <tr>\n",
       "      <th>55972</th>\n",
       "      <td>0009655768c64bdeb2e877511632db8f</td>\n",
       "      <td>offer received</td>\n",
       "      <td>168</td>\n",
       "      <td>NaN</td>\n",
       "      <td>5a8bc65990b245e5a138643cd4eb9837</td>\n",
       "      <td>NaN</td>\n",
       "    </tr>\n",
       "    <tr>\n",
       "      <th>...</th>\n",
       "      <td>...</td>\n",
       "      <td>...</td>\n",
       "      <td>...</td>\n",
       "      <td>...</td>\n",
       "      <td>...</td>\n",
       "      <td>...</td>\n",
       "    </tr>\n",
       "    <tr>\n",
       "      <th>200113</th>\n",
       "      <td>ffff82501cea40309d5fdd7edcca4a07</td>\n",
       "      <td>transaction</td>\n",
       "      <td>498</td>\n",
       "      <td>13.17</td>\n",
       "      <td>NaN</td>\n",
       "      <td>NaN</td>\n",
       "    </tr>\n",
       "    <tr>\n",
       "      <th>214570</th>\n",
       "      <td>ffff82501cea40309d5fdd7edcca4a07</td>\n",
       "      <td>transaction</td>\n",
       "      <td>504</td>\n",
       "      <td>7.79</td>\n",
       "      <td>NaN</td>\n",
       "      <td>NaN</td>\n",
       "    </tr>\n",
       "    <tr>\n",
       "      <th>258113</th>\n",
       "      <td>ffff82501cea40309d5fdd7edcca4a07</td>\n",
       "      <td>transaction</td>\n",
       "      <td>576</td>\n",
       "      <td>14.23</td>\n",
       "      <td>NaN</td>\n",
       "      <td>NaN</td>\n",
       "    </tr>\n",
       "    <tr>\n",
       "      <th>274495</th>\n",
       "      <td>ffff82501cea40309d5fdd7edcca4a07</td>\n",
       "      <td>transaction</td>\n",
       "      <td>606</td>\n",
       "      <td>10.12</td>\n",
       "      <td>NaN</td>\n",
       "      <td>NaN</td>\n",
       "    </tr>\n",
       "    <tr>\n",
       "      <th>289552</th>\n",
       "      <td>ffff82501cea40309d5fdd7edcca4a07</td>\n",
       "      <td>transaction</td>\n",
       "      <td>648</td>\n",
       "      <td>18.91</td>\n",
       "      <td>NaN</td>\n",
       "      <td>NaN</td>\n",
       "    </tr>\n",
       "  </tbody>\n",
       "</table>\n",
       "<p>306137 rows × 6 columns</p>\n",
       "</div>"
      ],
      "text/plain": [
       "                                  person            event  time  amount  \\\n",
       "247632  0009655768c64bdeb2e877511632db8f   offer received   576     NaN   \n",
       "258632  0009655768c64bdeb2e877511632db8f  offer completed   576     NaN   \n",
       "113591  0009655768c64bdeb2e877511632db8f   offer received   336     NaN   \n",
       "139973  0009655768c64bdeb2e877511632db8f     offer viewed   372     NaN   \n",
       "55972   0009655768c64bdeb2e877511632db8f   offer received   168     NaN   \n",
       "...                                  ...              ...   ...     ...   \n",
       "200113  ffff82501cea40309d5fdd7edcca4a07      transaction   498   13.17   \n",
       "214570  ffff82501cea40309d5fdd7edcca4a07      transaction   504    7.79   \n",
       "258113  ffff82501cea40309d5fdd7edcca4a07      transaction   576   14.23   \n",
       "274495  ffff82501cea40309d5fdd7edcca4a07      transaction   606   10.12   \n",
       "289552  ffff82501cea40309d5fdd7edcca4a07      transaction   648   18.91   \n",
       "\n",
       "                                offer_id  reward  \n",
       "247632  2906b810c7d4411798c6938adc9daaa5     NaN  \n",
       "258632  2906b810c7d4411798c6938adc9daaa5     2.0  \n",
       "113591  3f207df678b143eea3cee63160fa8bed     NaN  \n",
       "139973  3f207df678b143eea3cee63160fa8bed     NaN  \n",
       "55972   5a8bc65990b245e5a138643cd4eb9837     NaN  \n",
       "...                                  ...     ...  \n",
       "200113                               NaN     NaN  \n",
       "214570                               NaN     NaN  \n",
       "258113                               NaN     NaN  \n",
       "274495                               NaN     NaN  \n",
       "289552                               NaN     NaN  \n",
       "\n",
       "[306137 rows x 6 columns]"
      ]
     },
     "execution_count": 42,
     "metadata": {},
     "output_type": "execute_result"
    }
   ],
   "source": [
    "# Sorting the dataframe by person, offer_id and then event\n",
    "# will represent dataframe in order of event(funnel) for each offer\n",
    "transcript_sorted = transcript_v1.sort_values(by=['person', 'offer_id', 'time', 'event'],\n",
    "                                              ascending=True)\n",
    "transcript_sorted"
   ]
  },
  {
   "cell_type": "markdown",
   "metadata": {},
   "source": [
    "For later reference, create a function that facilitates the search of transaction details by a person's id."
   ]
  },
  {
   "cell_type": "code",
   "execution_count": 43,
   "metadata": {},
   "outputs": [],
   "source": [
    "def transaction_details(_id, df=transcript_v1):\n",
    "    ''' To faciliate the search of transaction details of a customer.\n",
    "    Firstly sorting \n",
    "    \n",
    "    INPUT: \n",
    "        person_id: an id of a customer in the dataset\n",
    "        df: default as the cleaned transcript (v1) dataframe.\n",
    "    \n",
    "    '''\n",
    "    \n",
    "    # Copy the input dataframe\n",
    "    df_new = df.copy()\n",
    "    \n",
    "    # Transform event column into categorical ordered dtype\n",
    "    funnel_order = ['offer received', 'offer viewed', 'transaction', 'offer completed']\n",
    "    df_new.event = pd.Categorical(df_new.event, categories=funnel_order, ordered=True)\n",
    "    \n",
    "    # Get the data that corresponds to the input customer id\n",
    "    df_ind = df_new[df_new.person == _id]\n",
    "    \n",
    "    return df_ind\n",
    "    \n",
    "    # Sorting the dataframe by offer_id, time and then event\n",
    "    # will represent dataframe in order of event(funnel) for each offer\n",
    "    df_ind = df_ind.sort_values(by=['offer_id', 'time', 'event'])\n",
    "\n",
    "    return df_ind                               "
   ]
  },
  {
   "cell_type": "code",
   "execution_count": 44,
   "metadata": {},
   "outputs": [
    {
     "data": {
      "text/html": [
       "<div>\n",
       "<style scoped>\n",
       "    .dataframe tbody tr th:only-of-type {\n",
       "        vertical-align: middle;\n",
       "    }\n",
       "\n",
       "    .dataframe tbody tr th {\n",
       "        vertical-align: top;\n",
       "    }\n",
       "\n",
       "    .dataframe thead th {\n",
       "        text-align: right;\n",
       "    }\n",
       "</style>\n",
       "<table border=\"1\" class=\"dataframe\">\n",
       "  <thead>\n",
       "    <tr style=\"text-align: right;\">\n",
       "      <th></th>\n",
       "      <th>person</th>\n",
       "      <th>event</th>\n",
       "      <th>time</th>\n",
       "      <th>amount</th>\n",
       "      <th>offer_id</th>\n",
       "      <th>reward</th>\n",
       "    </tr>\n",
       "  </thead>\n",
       "  <tbody>\n",
       "    <tr>\n",
       "      <th>1393</th>\n",
       "      <td>ffff82501cea40309d5fdd7edcca4a07</td>\n",
       "      <td>offer received</td>\n",
       "      <td>0</td>\n",
       "      <td>NaN</td>\n",
       "      <td>fafdcd668e3743c1bb461111dcafc2a4</td>\n",
       "      <td>NaN</td>\n",
       "    </tr>\n",
       "    <tr>\n",
       "      <th>15836</th>\n",
       "      <td>ffff82501cea40309d5fdd7edcca4a07</td>\n",
       "      <td>offer viewed</td>\n",
       "      <td>6</td>\n",
       "      <td>NaN</td>\n",
       "      <td>fafdcd668e3743c1bb461111dcafc2a4</td>\n",
       "      <td>NaN</td>\n",
       "    </tr>\n",
       "    <tr>\n",
       "      <th>32762</th>\n",
       "      <td>ffff82501cea40309d5fdd7edcca4a07</td>\n",
       "      <td>transaction</td>\n",
       "      <td>60</td>\n",
       "      <td>16.06</td>\n",
       "      <td>NaN</td>\n",
       "      <td>NaN</td>\n",
       "    </tr>\n",
       "    <tr>\n",
       "      <th>32763</th>\n",
       "      <td>ffff82501cea40309d5fdd7edcca4a07</td>\n",
       "      <td>offer completed</td>\n",
       "      <td>60</td>\n",
       "      <td>NaN</td>\n",
       "      <td>fafdcd668e3743c1bb461111dcafc2a4</td>\n",
       "      <td>2.0</td>\n",
       "    </tr>\n",
       "    <tr>\n",
       "      <th>37060</th>\n",
       "      <td>ffff82501cea40309d5fdd7edcca4a07</td>\n",
       "      <td>transaction</td>\n",
       "      <td>78</td>\n",
       "      <td>7.18</td>\n",
       "      <td>NaN</td>\n",
       "      <td>NaN</td>\n",
       "    </tr>\n",
       "    <tr>\n",
       "      <th>45575</th>\n",
       "      <td>ffff82501cea40309d5fdd7edcca4a07</td>\n",
       "      <td>transaction</td>\n",
       "      <td>120</td>\n",
       "      <td>9.12</td>\n",
       "      <td>NaN</td>\n",
       "      <td>NaN</td>\n",
       "    </tr>\n",
       "    <tr>\n",
       "      <th>54574</th>\n",
       "      <td>ffff82501cea40309d5fdd7edcca4a07</td>\n",
       "      <td>offer received</td>\n",
       "      <td>168</td>\n",
       "      <td>NaN</td>\n",
       "      <td>0b1e1539f2cc45b7b9fa7c272da2e1d7</td>\n",
       "      <td>NaN</td>\n",
       "    </tr>\n",
       "    <tr>\n",
       "      <th>69621</th>\n",
       "      <td>ffff82501cea40309d5fdd7edcca4a07</td>\n",
       "      <td>offer viewed</td>\n",
       "      <td>174</td>\n",
       "      <td>NaN</td>\n",
       "      <td>0b1e1539f2cc45b7b9fa7c272da2e1d7</td>\n",
       "      <td>NaN</td>\n",
       "    </tr>\n",
       "    <tr>\n",
       "      <th>79660</th>\n",
       "      <td>ffff82501cea40309d5fdd7edcca4a07</td>\n",
       "      <td>transaction</td>\n",
       "      <td>198</td>\n",
       "      <td>22.88</td>\n",
       "      <td>NaN</td>\n",
       "      <td>NaN</td>\n",
       "    </tr>\n",
       "    <tr>\n",
       "      <th>79661</th>\n",
       "      <td>ffff82501cea40309d5fdd7edcca4a07</td>\n",
       "      <td>offer completed</td>\n",
       "      <td>198</td>\n",
       "      <td>NaN</td>\n",
       "      <td>0b1e1539f2cc45b7b9fa7c272da2e1d7</td>\n",
       "      <td>5.0</td>\n",
       "    </tr>\n",
       "    <tr>\n",
       "      <th>81586</th>\n",
       "      <td>ffff82501cea40309d5fdd7edcca4a07</td>\n",
       "      <td>transaction</td>\n",
       "      <td>204</td>\n",
       "      <td>15.23</td>\n",
       "      <td>NaN</td>\n",
       "      <td>NaN</td>\n",
       "    </tr>\n",
       "    <tr>\n",
       "      <th>90685</th>\n",
       "      <td>ffff82501cea40309d5fdd7edcca4a07</td>\n",
       "      <td>transaction</td>\n",
       "      <td>234</td>\n",
       "      <td>18.08</td>\n",
       "      <td>NaN</td>\n",
       "      <td>NaN</td>\n",
       "    </tr>\n",
       "    <tr>\n",
       "      <th>97816</th>\n",
       "      <td>ffff82501cea40309d5fdd7edcca4a07</td>\n",
       "      <td>transaction</td>\n",
       "      <td>264</td>\n",
       "      <td>23.32</td>\n",
       "      <td>NaN</td>\n",
       "      <td>NaN</td>\n",
       "    </tr>\n",
       "    <tr>\n",
       "      <th>107038</th>\n",
       "      <td>ffff82501cea40309d5fdd7edcca4a07</td>\n",
       "      <td>transaction</td>\n",
       "      <td>312</td>\n",
       "      <td>16.86</td>\n",
       "      <td>NaN</td>\n",
       "      <td>NaN</td>\n",
       "    </tr>\n",
       "    <tr>\n",
       "      <th>112200</th>\n",
       "      <td>ffff82501cea40309d5fdd7edcca4a07</td>\n",
       "      <td>offer received</td>\n",
       "      <td>336</td>\n",
       "      <td>NaN</td>\n",
       "      <td>2906b810c7d4411798c6938adc9daaa5</td>\n",
       "      <td>NaN</td>\n",
       "    </tr>\n",
       "    <tr>\n",
       "      <th>133059</th>\n",
       "      <td>ffff82501cea40309d5fdd7edcca4a07</td>\n",
       "      <td>offer viewed</td>\n",
       "      <td>354</td>\n",
       "      <td>NaN</td>\n",
       "      <td>2906b810c7d4411798c6938adc9daaa5</td>\n",
       "      <td>NaN</td>\n",
       "    </tr>\n",
       "    <tr>\n",
       "      <th>143767</th>\n",
       "      <td>ffff82501cea40309d5fdd7edcca4a07</td>\n",
       "      <td>transaction</td>\n",
       "      <td>384</td>\n",
       "      <td>15.57</td>\n",
       "      <td>NaN</td>\n",
       "      <td>NaN</td>\n",
       "    </tr>\n",
       "    <tr>\n",
       "      <th>143768</th>\n",
       "      <td>ffff82501cea40309d5fdd7edcca4a07</td>\n",
       "      <td>offer completed</td>\n",
       "      <td>384</td>\n",
       "      <td>NaN</td>\n",
       "      <td>2906b810c7d4411798c6938adc9daaa5</td>\n",
       "      <td>2.0</td>\n",
       "    </tr>\n",
       "    <tr>\n",
       "      <th>152007</th>\n",
       "      <td>ffff82501cea40309d5fdd7edcca4a07</td>\n",
       "      <td>offer received</td>\n",
       "      <td>408</td>\n",
       "      <td>NaN</td>\n",
       "      <td>2906b810c7d4411798c6938adc9daaa5</td>\n",
       "      <td>NaN</td>\n",
       "    </tr>\n",
       "    <tr>\n",
       "      <th>167990</th>\n",
       "      <td>ffff82501cea40309d5fdd7edcca4a07</td>\n",
       "      <td>offer viewed</td>\n",
       "      <td>414</td>\n",
       "      <td>NaN</td>\n",
       "      <td>2906b810c7d4411798c6938adc9daaa5</td>\n",
       "      <td>NaN</td>\n",
       "    </tr>\n",
       "    <tr>\n",
       "      <th>167991</th>\n",
       "      <td>ffff82501cea40309d5fdd7edcca4a07</td>\n",
       "      <td>transaction</td>\n",
       "      <td>414</td>\n",
       "      <td>17.55</td>\n",
       "      <td>NaN</td>\n",
       "      <td>NaN</td>\n",
       "    </tr>\n",
       "    <tr>\n",
       "      <th>167992</th>\n",
       "      <td>ffff82501cea40309d5fdd7edcca4a07</td>\n",
       "      <td>offer completed</td>\n",
       "      <td>414</td>\n",
       "      <td>NaN</td>\n",
       "      <td>2906b810c7d4411798c6938adc9daaa5</td>\n",
       "      <td>2.0</td>\n",
       "    </tr>\n",
       "    <tr>\n",
       "      <th>200113</th>\n",
       "      <td>ffff82501cea40309d5fdd7edcca4a07</td>\n",
       "      <td>transaction</td>\n",
       "      <td>498</td>\n",
       "      <td>13.17</td>\n",
       "      <td>NaN</td>\n",
       "      <td>NaN</td>\n",
       "    </tr>\n",
       "    <tr>\n",
       "      <th>202817</th>\n",
       "      <td>ffff82501cea40309d5fdd7edcca4a07</td>\n",
       "      <td>offer received</td>\n",
       "      <td>504</td>\n",
       "      <td>NaN</td>\n",
       "      <td>9b98b8c7a33c4b65b9aebfe6a799e6d9</td>\n",
       "      <td>NaN</td>\n",
       "    </tr>\n",
       "    <tr>\n",
       "      <th>214570</th>\n",
       "      <td>ffff82501cea40309d5fdd7edcca4a07</td>\n",
       "      <td>transaction</td>\n",
       "      <td>504</td>\n",
       "      <td>7.79</td>\n",
       "      <td>NaN</td>\n",
       "      <td>NaN</td>\n",
       "    </tr>\n",
       "    <tr>\n",
       "      <th>214571</th>\n",
       "      <td>ffff82501cea40309d5fdd7edcca4a07</td>\n",
       "      <td>offer completed</td>\n",
       "      <td>504</td>\n",
       "      <td>NaN</td>\n",
       "      <td>9b98b8c7a33c4b65b9aebfe6a799e6d9</td>\n",
       "      <td>5.0</td>\n",
       "    </tr>\n",
       "    <tr>\n",
       "      <th>230484</th>\n",
       "      <td>ffff82501cea40309d5fdd7edcca4a07</td>\n",
       "      <td>offer viewed</td>\n",
       "      <td>534</td>\n",
       "      <td>NaN</td>\n",
       "      <td>9b98b8c7a33c4b65b9aebfe6a799e6d9</td>\n",
       "      <td>NaN</td>\n",
       "    </tr>\n",
       "    <tr>\n",
       "      <th>246248</th>\n",
       "      <td>ffff82501cea40309d5fdd7edcca4a07</td>\n",
       "      <td>offer received</td>\n",
       "      <td>576</td>\n",
       "      <td>NaN</td>\n",
       "      <td>2906b810c7d4411798c6938adc9daaa5</td>\n",
       "      <td>NaN</td>\n",
       "    </tr>\n",
       "    <tr>\n",
       "      <th>258113</th>\n",
       "      <td>ffff82501cea40309d5fdd7edcca4a07</td>\n",
       "      <td>transaction</td>\n",
       "      <td>576</td>\n",
       "      <td>14.23</td>\n",
       "      <td>NaN</td>\n",
       "      <td>NaN</td>\n",
       "    </tr>\n",
       "    <tr>\n",
       "      <th>258114</th>\n",
       "      <td>ffff82501cea40309d5fdd7edcca4a07</td>\n",
       "      <td>offer completed</td>\n",
       "      <td>576</td>\n",
       "      <td>NaN</td>\n",
       "      <td>2906b810c7d4411798c6938adc9daaa5</td>\n",
       "      <td>2.0</td>\n",
       "    </tr>\n",
       "    <tr>\n",
       "      <th>262204</th>\n",
       "      <td>ffff82501cea40309d5fdd7edcca4a07</td>\n",
       "      <td>offer viewed</td>\n",
       "      <td>582</td>\n",
       "      <td>NaN</td>\n",
       "      <td>2906b810c7d4411798c6938adc9daaa5</td>\n",
       "      <td>NaN</td>\n",
       "    </tr>\n",
       "    <tr>\n",
       "      <th>274495</th>\n",
       "      <td>ffff82501cea40309d5fdd7edcca4a07</td>\n",
       "      <td>transaction</td>\n",
       "      <td>606</td>\n",
       "      <td>10.12</td>\n",
       "      <td>NaN</td>\n",
       "      <td>NaN</td>\n",
       "    </tr>\n",
       "    <tr>\n",
       "      <th>289552</th>\n",
       "      <td>ffff82501cea40309d5fdd7edcca4a07</td>\n",
       "      <td>transaction</td>\n",
       "      <td>648</td>\n",
       "      <td>18.91</td>\n",
       "      <td>NaN</td>\n",
       "      <td>NaN</td>\n",
       "    </tr>\n",
       "  </tbody>\n",
       "</table>\n",
       "</div>"
      ],
      "text/plain": [
       "                                  person            event  time  amount  \\\n",
       "1393    ffff82501cea40309d5fdd7edcca4a07   offer received     0     NaN   \n",
       "15836   ffff82501cea40309d5fdd7edcca4a07     offer viewed     6     NaN   \n",
       "32762   ffff82501cea40309d5fdd7edcca4a07      transaction    60   16.06   \n",
       "32763   ffff82501cea40309d5fdd7edcca4a07  offer completed    60     NaN   \n",
       "37060   ffff82501cea40309d5fdd7edcca4a07      transaction    78    7.18   \n",
       "45575   ffff82501cea40309d5fdd7edcca4a07      transaction   120    9.12   \n",
       "54574   ffff82501cea40309d5fdd7edcca4a07   offer received   168     NaN   \n",
       "69621   ffff82501cea40309d5fdd7edcca4a07     offer viewed   174     NaN   \n",
       "79660   ffff82501cea40309d5fdd7edcca4a07      transaction   198   22.88   \n",
       "79661   ffff82501cea40309d5fdd7edcca4a07  offer completed   198     NaN   \n",
       "81586   ffff82501cea40309d5fdd7edcca4a07      transaction   204   15.23   \n",
       "90685   ffff82501cea40309d5fdd7edcca4a07      transaction   234   18.08   \n",
       "97816   ffff82501cea40309d5fdd7edcca4a07      transaction   264   23.32   \n",
       "107038  ffff82501cea40309d5fdd7edcca4a07      transaction   312   16.86   \n",
       "112200  ffff82501cea40309d5fdd7edcca4a07   offer received   336     NaN   \n",
       "133059  ffff82501cea40309d5fdd7edcca4a07     offer viewed   354     NaN   \n",
       "143767  ffff82501cea40309d5fdd7edcca4a07      transaction   384   15.57   \n",
       "143768  ffff82501cea40309d5fdd7edcca4a07  offer completed   384     NaN   \n",
       "152007  ffff82501cea40309d5fdd7edcca4a07   offer received   408     NaN   \n",
       "167990  ffff82501cea40309d5fdd7edcca4a07     offer viewed   414     NaN   \n",
       "167991  ffff82501cea40309d5fdd7edcca4a07      transaction   414   17.55   \n",
       "167992  ffff82501cea40309d5fdd7edcca4a07  offer completed   414     NaN   \n",
       "200113  ffff82501cea40309d5fdd7edcca4a07      transaction   498   13.17   \n",
       "202817  ffff82501cea40309d5fdd7edcca4a07   offer received   504     NaN   \n",
       "214570  ffff82501cea40309d5fdd7edcca4a07      transaction   504    7.79   \n",
       "214571  ffff82501cea40309d5fdd7edcca4a07  offer completed   504     NaN   \n",
       "230484  ffff82501cea40309d5fdd7edcca4a07     offer viewed   534     NaN   \n",
       "246248  ffff82501cea40309d5fdd7edcca4a07   offer received   576     NaN   \n",
       "258113  ffff82501cea40309d5fdd7edcca4a07      transaction   576   14.23   \n",
       "258114  ffff82501cea40309d5fdd7edcca4a07  offer completed   576     NaN   \n",
       "262204  ffff82501cea40309d5fdd7edcca4a07     offer viewed   582     NaN   \n",
       "274495  ffff82501cea40309d5fdd7edcca4a07      transaction   606   10.12   \n",
       "289552  ffff82501cea40309d5fdd7edcca4a07      transaction   648   18.91   \n",
       "\n",
       "                                offer_id  reward  \n",
       "1393    fafdcd668e3743c1bb461111dcafc2a4     NaN  \n",
       "15836   fafdcd668e3743c1bb461111dcafc2a4     NaN  \n",
       "32762                                NaN     NaN  \n",
       "32763   fafdcd668e3743c1bb461111dcafc2a4     2.0  \n",
       "37060                                NaN     NaN  \n",
       "45575                                NaN     NaN  \n",
       "54574   0b1e1539f2cc45b7b9fa7c272da2e1d7     NaN  \n",
       "69621   0b1e1539f2cc45b7b9fa7c272da2e1d7     NaN  \n",
       "79660                                NaN     NaN  \n",
       "79661   0b1e1539f2cc45b7b9fa7c272da2e1d7     5.0  \n",
       "81586                                NaN     NaN  \n",
       "90685                                NaN     NaN  \n",
       "97816                                NaN     NaN  \n",
       "107038                               NaN     NaN  \n",
       "112200  2906b810c7d4411798c6938adc9daaa5     NaN  \n",
       "133059  2906b810c7d4411798c6938adc9daaa5     NaN  \n",
       "143767                               NaN     NaN  \n",
       "143768  2906b810c7d4411798c6938adc9daaa5     2.0  \n",
       "152007  2906b810c7d4411798c6938adc9daaa5     NaN  \n",
       "167990  2906b810c7d4411798c6938adc9daaa5     NaN  \n",
       "167991                               NaN     NaN  \n",
       "167992  2906b810c7d4411798c6938adc9daaa5     2.0  \n",
       "200113                               NaN     NaN  \n",
       "202817  9b98b8c7a33c4b65b9aebfe6a799e6d9     NaN  \n",
       "214570                               NaN     NaN  \n",
       "214571  9b98b8c7a33c4b65b9aebfe6a799e6d9     5.0  \n",
       "230484  9b98b8c7a33c4b65b9aebfe6a799e6d9     NaN  \n",
       "246248  2906b810c7d4411798c6938adc9daaa5     NaN  \n",
       "258113                               NaN     NaN  \n",
       "258114  2906b810c7d4411798c6938adc9daaa5     2.0  \n",
       "262204  2906b810c7d4411798c6938adc9daaa5     NaN  \n",
       "274495                               NaN     NaN  \n",
       "289552                               NaN     NaN  "
      ]
     },
     "execution_count": 44,
     "metadata": {},
     "output_type": "execute_result"
    }
   ],
   "source": [
    "transaction_details('ffff82501cea40309d5fdd7edcca4a07')"
   ]
  },
  {
   "cell_type": "markdown",
   "metadata": {},
   "source": [
    "#### Commentary:\n",
    "The below method correctly sorts each offer by order of funnel. The rows with `transaction` does not contain offer_id. Therefore they need to be split and merged back after labeling complete offer. They can be merged on `time` of offer completed event which is exactly same as time of corresponding transaction."
   ]
  },
  {
   "cell_type": "markdown",
   "metadata": {},
   "source": [
    "#### Splitting rows that contain `transaction` event"
   ]
  },
  {
   "cell_type": "code",
   "execution_count": 45,
   "metadata": {},
   "outputs": [],
   "source": [
    "# Split rows with 'transaction' event\n",
    "transaction_df = transcript_sorted[transcript_sorted.event == 'transaction']\n",
    "\n",
    "# Remove transaction from transcript_sorted dataframe\n",
    "transcript_sorted = transcript_sorted[transcript_sorted.event != 'transaction']"
   ]
  },
  {
   "cell_type": "code",
   "execution_count": 46,
   "metadata": {},
   "outputs": [],
   "source": [
    "# Confirm the change\n",
    "assert (transcript_sorted.event == 'transaction').sum() == 0, \"There still is a row with transaction event.\"\n",
    "assert (transcript_sorted.offer_id.isnull().sum()) == 0, \"There is a missing record in offer_id column\""
   ]
  },
  {
   "cell_type": "markdown",
   "metadata": {},
   "source": [
    "#### Pivot transcript_sorted to label offer complete / incomplete\n",
    "In order to make pivoting less complex, `reward` column (where event == `offer completed`) will be put aside. It will later be added after labeling."
   ]
  },
  {
   "cell_type": "code",
   "execution_count": 47,
   "metadata": {},
   "outputs": [],
   "source": [
    "# Subsetting reward (offer completed)\n",
    "reward_df = transcript_v1[transcript_v1.event == 'offer completed']"
   ]
  },
  {
   "cell_type": "code",
   "execution_count": 48,
   "metadata": {
    "scrolled": false
   },
   "outputs": [
    {
     "data": {
      "text/html": [
       "<div>\n",
       "<style scoped>\n",
       "    .dataframe tbody tr th:only-of-type {\n",
       "        vertical-align: middle;\n",
       "    }\n",
       "\n",
       "    .dataframe tbody tr th {\n",
       "        vertical-align: top;\n",
       "    }\n",
       "\n",
       "    .dataframe thead tr th {\n",
       "        text-align: left;\n",
       "    }\n",
       "\n",
       "    .dataframe thead tr:last-of-type th {\n",
       "        text-align: right;\n",
       "    }\n",
       "</style>\n",
       "<table border=\"1\" class=\"dataframe\">\n",
       "  <thead>\n",
       "    <tr>\n",
       "      <th></th>\n",
       "      <th></th>\n",
       "      <th colspan=\"4\" halign=\"left\">time</th>\n",
       "    </tr>\n",
       "    <tr>\n",
       "      <th></th>\n",
       "      <th>event</th>\n",
       "      <th>offer received</th>\n",
       "      <th>offer viewed</th>\n",
       "      <th>transaction</th>\n",
       "      <th>offer completed</th>\n",
       "    </tr>\n",
       "    <tr>\n",
       "      <th>person</th>\n",
       "      <th>offer_id</th>\n",
       "      <th></th>\n",
       "      <th></th>\n",
       "      <th></th>\n",
       "      <th></th>\n",
       "    </tr>\n",
       "  </thead>\n",
       "  <tbody>\n",
       "    <tr>\n",
       "      <th rowspan=\"5\" valign=\"top\">0009655768c64bdeb2e877511632db8f</th>\n",
       "      <th>0b1e1539f2cc45b7b9fa7c272da2e1d7</th>\n",
       "      <td>NaN</td>\n",
       "      <td>NaN</td>\n",
       "      <td>NaN</td>\n",
       "      <td>NaN</td>\n",
       "    </tr>\n",
       "    <tr>\n",
       "      <th>2298d6c36e964ae4a3e7e9706d1fb8c2</th>\n",
       "      <td>NaN</td>\n",
       "      <td>NaN</td>\n",
       "      <td>NaN</td>\n",
       "      <td>NaN</td>\n",
       "    </tr>\n",
       "    <tr>\n",
       "      <th>2906b810c7d4411798c6938adc9daaa5</th>\n",
       "      <td>576.0</td>\n",
       "      <td>NaN</td>\n",
       "      <td>NaN</td>\n",
       "      <td>576.0</td>\n",
       "    </tr>\n",
       "    <tr>\n",
       "      <th>3f207df678b143eea3cee63160fa8bed</th>\n",
       "      <td>336.0</td>\n",
       "      <td>372.0</td>\n",
       "      <td>NaN</td>\n",
       "      <td>NaN</td>\n",
       "    </tr>\n",
       "    <tr>\n",
       "      <th>4d5c57ea9a6940dd891ad53e9dbe8da0</th>\n",
       "      <td>NaN</td>\n",
       "      <td>NaN</td>\n",
       "      <td>NaN</td>\n",
       "      <td>NaN</td>\n",
       "    </tr>\n",
       "  </tbody>\n",
       "</table>\n",
       "</div>"
      ],
      "text/plain": [
       "                                                                            time  \\\n",
       "event                                                             offer received   \n",
       "person                           offer_id                                          \n",
       "0009655768c64bdeb2e877511632db8f 0b1e1539f2cc45b7b9fa7c272da2e1d7            NaN   \n",
       "                                 2298d6c36e964ae4a3e7e9706d1fb8c2            NaN   \n",
       "                                 2906b810c7d4411798c6938adc9daaa5          576.0   \n",
       "                                 3f207df678b143eea3cee63160fa8bed          336.0   \n",
       "                                 4d5c57ea9a6940dd891ad53e9dbe8da0            NaN   \n",
       "\n",
       "                                                                                \\\n",
       "event                                                             offer viewed   \n",
       "person                           offer_id                                        \n",
       "0009655768c64bdeb2e877511632db8f 0b1e1539f2cc45b7b9fa7c272da2e1d7          NaN   \n",
       "                                 2298d6c36e964ae4a3e7e9706d1fb8c2          NaN   \n",
       "                                 2906b810c7d4411798c6938adc9daaa5          NaN   \n",
       "                                 3f207df678b143eea3cee63160fa8bed        372.0   \n",
       "                                 4d5c57ea9a6940dd891ad53e9dbe8da0          NaN   \n",
       "\n",
       "                                                                               \\\n",
       "event                                                             transaction   \n",
       "person                           offer_id                                       \n",
       "0009655768c64bdeb2e877511632db8f 0b1e1539f2cc45b7b9fa7c272da2e1d7         NaN   \n",
       "                                 2298d6c36e964ae4a3e7e9706d1fb8c2         NaN   \n",
       "                                 2906b810c7d4411798c6938adc9daaa5         NaN   \n",
       "                                 3f207df678b143eea3cee63160fa8bed         NaN   \n",
       "                                 4d5c57ea9a6940dd891ad53e9dbe8da0         NaN   \n",
       "\n",
       "                                                                                   \n",
       "event                                                             offer completed  \n",
       "person                           offer_id                                          \n",
       "0009655768c64bdeb2e877511632db8f 0b1e1539f2cc45b7b9fa7c272da2e1d7             NaN  \n",
       "                                 2298d6c36e964ae4a3e7e9706d1fb8c2             NaN  \n",
       "                                 2906b810c7d4411798c6938adc9daaa5           576.0  \n",
       "                                 3f207df678b143eea3cee63160fa8bed             NaN  \n",
       "                                 4d5c57ea9a6940dd891ad53e9dbe8da0             NaN  "
      ]
     },
     "execution_count": 48,
     "metadata": {},
     "output_type": "execute_result"
    }
   ],
   "source": [
    "# Remove reward column and subset transcript sorted dataframe\n",
    "transcript_subset = transcript_sorted[['person', 'offer_id', 'time', 'event']]\n",
    "\n",
    "# Pivot the subsetted dataframe \n",
    "# Group by and return the minimum time (the earliest) value \n",
    "offer_by_customer = transcript_subset.groupby(['person', 'offer_id', 'event']).min().unstack()\n",
    "offer_by_customer.head()"
   ]
  },
  {
   "cell_type": "markdown",
   "metadata": {},
   "source": [
    "#### Commentary:\n",
    "The pivoted dataframe `is_offer_complete` contains multi-layered index and column. It contains all 10 offer types (represented by `offer_id`) per each person. \n",
    "\n",
    "When it comes to column, `time` and `event` features are multi-layered, which will need a further processing in the following section."
   ]
  },
  {
   "cell_type": "code",
   "execution_count": 49,
   "metadata": {
    "scrolled": true
   },
   "outputs": [
    {
     "name": "stderr",
     "output_type": "stream",
     "text": [
      "100%|██████████| 167184/167184 [00:45<00:00, 3637.63it/s]\n"
     ]
    }
   ],
   "source": [
    "# Inspect if all persons have 10 offers using progress bar\n",
    "\n",
    "member_ids = transcript_subset.person\n",
    "\n",
    "for _id in tqdm(member_ids):\n",
    "    assert offer_by_customer.loc[_id].shape[0] == 10"
   ]
  },
  {
   "cell_type": "markdown",
   "metadata": {},
   "source": [
    "Yes indeed! This will allow us to check which offer has actually been sent and which hasn't"
   ]
  },
  {
   "cell_type": "markdown",
   "metadata": {},
   "source": [
    "#### Reset multi-index and drop 'transaction' column\n",
    "The multi-index column can be reset. Also `transaction` is regenerated as it is part of the categorical `event` column. To faciliate the labeling, we can drop it. Also, "
   ]
  },
  {
   "cell_type": "code",
   "execution_count": 50,
   "metadata": {},
   "outputs": [],
   "source": [
    "# Resetting multi-index column\n",
    "offer_by_customer.columns = offer_by_customer.columns.droplevel(0)"
   ]
  },
  {
   "cell_type": "code",
   "execution_count": 51,
   "metadata": {},
   "outputs": [],
   "source": [
    "# Check if transaction column has any non-null value\n",
    "assert offer_by_customer['transaction'].notnull().sum() == 0, 'There is a non-null value in transaction column'\n",
    "\n",
    "# Drop the transaction column\n",
    "offer_by_customer = offer_by_customer.drop(columns='transaction')"
   ]
  },
  {
   "cell_type": "code",
   "execution_count": 52,
   "metadata": {
    "scrolled": false
   },
   "outputs": [
    {
     "data": {
      "text/html": [
       "<div>\n",
       "<style scoped>\n",
       "    .dataframe tbody tr th:only-of-type {\n",
       "        vertical-align: middle;\n",
       "    }\n",
       "\n",
       "    .dataframe tbody tr th {\n",
       "        vertical-align: top;\n",
       "    }\n",
       "\n",
       "    .dataframe thead th {\n",
       "        text-align: right;\n",
       "    }\n",
       "</style>\n",
       "<table border=\"1\" class=\"dataframe\">\n",
       "  <thead>\n",
       "    <tr style=\"text-align: right;\">\n",
       "      <th></th>\n",
       "      <th>event</th>\n",
       "      <th>offer received</th>\n",
       "      <th>offer viewed</th>\n",
       "      <th>offer completed</th>\n",
       "    </tr>\n",
       "    <tr>\n",
       "      <th>person</th>\n",
       "      <th>offer_id</th>\n",
       "      <th></th>\n",
       "      <th></th>\n",
       "      <th></th>\n",
       "    </tr>\n",
       "  </thead>\n",
       "  <tbody>\n",
       "    <tr>\n",
       "      <th rowspan=\"5\" valign=\"top\">0009655768c64bdeb2e877511632db8f</th>\n",
       "      <th>0b1e1539f2cc45b7b9fa7c272da2e1d7</th>\n",
       "      <td>NaN</td>\n",
       "      <td>NaN</td>\n",
       "      <td>NaN</td>\n",
       "    </tr>\n",
       "    <tr>\n",
       "      <th>2298d6c36e964ae4a3e7e9706d1fb8c2</th>\n",
       "      <td>NaN</td>\n",
       "      <td>NaN</td>\n",
       "      <td>NaN</td>\n",
       "    </tr>\n",
       "    <tr>\n",
       "      <th>2906b810c7d4411798c6938adc9daaa5</th>\n",
       "      <td>576.0</td>\n",
       "      <td>NaN</td>\n",
       "      <td>576.0</td>\n",
       "    </tr>\n",
       "    <tr>\n",
       "      <th>3f207df678b143eea3cee63160fa8bed</th>\n",
       "      <td>336.0</td>\n",
       "      <td>372.0</td>\n",
       "      <td>NaN</td>\n",
       "    </tr>\n",
       "    <tr>\n",
       "      <th>4d5c57ea9a6940dd891ad53e9dbe8da0</th>\n",
       "      <td>NaN</td>\n",
       "      <td>NaN</td>\n",
       "      <td>NaN</td>\n",
       "    </tr>\n",
       "    <tr>\n",
       "      <th>...</th>\n",
       "      <th>...</th>\n",
       "      <td>...</td>\n",
       "      <td>...</td>\n",
       "      <td>...</td>\n",
       "    </tr>\n",
       "    <tr>\n",
       "      <th rowspan=\"5\" valign=\"top\">ffff82501cea40309d5fdd7edcca4a07</th>\n",
       "      <th>5a8bc65990b245e5a138643cd4eb9837</th>\n",
       "      <td>NaN</td>\n",
       "      <td>NaN</td>\n",
       "      <td>NaN</td>\n",
       "    </tr>\n",
       "    <tr>\n",
       "      <th>9b98b8c7a33c4b65b9aebfe6a799e6d9</th>\n",
       "      <td>504.0</td>\n",
       "      <td>534.0</td>\n",
       "      <td>504.0</td>\n",
       "    </tr>\n",
       "    <tr>\n",
       "      <th>ae264e3637204a6fb9bb56bc8210ddfd</th>\n",
       "      <td>NaN</td>\n",
       "      <td>NaN</td>\n",
       "      <td>NaN</td>\n",
       "    </tr>\n",
       "    <tr>\n",
       "      <th>f19421c1d4aa40978ebb69ca19b0e20d</th>\n",
       "      <td>NaN</td>\n",
       "      <td>NaN</td>\n",
       "      <td>NaN</td>\n",
       "    </tr>\n",
       "    <tr>\n",
       "      <th>fafdcd668e3743c1bb461111dcafc2a4</th>\n",
       "      <td>0.0</td>\n",
       "      <td>6.0</td>\n",
       "      <td>60.0</td>\n",
       "    </tr>\n",
       "  </tbody>\n",
       "</table>\n",
       "<p>169940 rows × 3 columns</p>\n",
       "</div>"
      ],
      "text/plain": [
       "event                                                              offer received  \\\n",
       "person                           offer_id                                           \n",
       "0009655768c64bdeb2e877511632db8f 0b1e1539f2cc45b7b9fa7c272da2e1d7             NaN   \n",
       "                                 2298d6c36e964ae4a3e7e9706d1fb8c2             NaN   \n",
       "                                 2906b810c7d4411798c6938adc9daaa5           576.0   \n",
       "                                 3f207df678b143eea3cee63160fa8bed           336.0   \n",
       "                                 4d5c57ea9a6940dd891ad53e9dbe8da0             NaN   \n",
       "...                                                                           ...   \n",
       "ffff82501cea40309d5fdd7edcca4a07 5a8bc65990b245e5a138643cd4eb9837             NaN   \n",
       "                                 9b98b8c7a33c4b65b9aebfe6a799e6d9           504.0   \n",
       "                                 ae264e3637204a6fb9bb56bc8210ddfd             NaN   \n",
       "                                 f19421c1d4aa40978ebb69ca19b0e20d             NaN   \n",
       "                                 fafdcd668e3743c1bb461111dcafc2a4             0.0   \n",
       "\n",
       "event                                                              offer viewed  \\\n",
       "person                           offer_id                                         \n",
       "0009655768c64bdeb2e877511632db8f 0b1e1539f2cc45b7b9fa7c272da2e1d7           NaN   \n",
       "                                 2298d6c36e964ae4a3e7e9706d1fb8c2           NaN   \n",
       "                                 2906b810c7d4411798c6938adc9daaa5           NaN   \n",
       "                                 3f207df678b143eea3cee63160fa8bed         372.0   \n",
       "                                 4d5c57ea9a6940dd891ad53e9dbe8da0           NaN   \n",
       "...                                                                         ...   \n",
       "ffff82501cea40309d5fdd7edcca4a07 5a8bc65990b245e5a138643cd4eb9837           NaN   \n",
       "                                 9b98b8c7a33c4b65b9aebfe6a799e6d9         534.0   \n",
       "                                 ae264e3637204a6fb9bb56bc8210ddfd           NaN   \n",
       "                                 f19421c1d4aa40978ebb69ca19b0e20d           NaN   \n",
       "                                 fafdcd668e3743c1bb461111dcafc2a4           6.0   \n",
       "\n",
       "event                                                              offer completed  \n",
       "person                           offer_id                                           \n",
       "0009655768c64bdeb2e877511632db8f 0b1e1539f2cc45b7b9fa7c272da2e1d7              NaN  \n",
       "                                 2298d6c36e964ae4a3e7e9706d1fb8c2              NaN  \n",
       "                                 2906b810c7d4411798c6938adc9daaa5            576.0  \n",
       "                                 3f207df678b143eea3cee63160fa8bed              NaN  \n",
       "                                 4d5c57ea9a6940dd891ad53e9dbe8da0              NaN  \n",
       "...                                                                            ...  \n",
       "ffff82501cea40309d5fdd7edcca4a07 5a8bc65990b245e5a138643cd4eb9837              NaN  \n",
       "                                 9b98b8c7a33c4b65b9aebfe6a799e6d9            504.0  \n",
       "                                 ae264e3637204a6fb9bb56bc8210ddfd              NaN  \n",
       "                                 f19421c1d4aa40978ebb69ca19b0e20d              NaN  \n",
       "                                 fafdcd668e3743c1bb461111dcafc2a4             60.0  \n",
       "\n",
       "[169940 rows x 3 columns]"
      ]
     },
     "execution_count": 52,
     "metadata": {},
     "output_type": "execute_result"
    }
   ],
   "source": [
    "offer_by_customer"
   ]
  },
  {
   "cell_type": "markdown",
   "metadata": {},
   "source": [
    "#### Labeling completed / incompleted offer\n",
    "Now we have **offer received**, **offer viewed** and **offer completed** column following funnel. We label `completed` when all three columns are filled with non-null values. \n",
    "\n",
    "**Labeling matrix for possible mix (o: non-null value, x: null):**\n",
    "\n",
    "| offer received | offer viewed | offer completed | label |\n",
    "| --- | --- | --- | --- |\n",
    "| o | o | o | completed |\n",
    "| o | o | x | incomplete |\n",
    "| o | x | o | incomplete |\n",
    "| o | x | x | incomplete |\n",
    "| x | x | x | unsent |\n",
    "\n",
    "As inspected earlier, the dataframe contains data for offers that have not been sent to a person and we denote that as `unsent` for any future use."
   ]
  },
  {
   "cell_type": "code",
   "execution_count": 54,
   "metadata": {},
   "outputs": [],
   "source": [
    "def label_offer_by_customer(df=offer_by_customer):\n",
    "    ''' Create a new dataframe that contains label column\n",
    "    to represent the status of offer. The column will contain\n",
    "    three labels that are 'completed', 'incomplete', 'no offer'\n",
    "    \n",
    "        'completed': customers has been influenced by offer when\n",
    "            purchasing a product\n",
    "        'incomplete': customers may have purchased a product or not\n",
    "            which however was not influenced by offer\n",
    "        'unsent': a particular offer has not been sent by Starbucks            \n",
    "    \n",
    "    INPUT: a pivoted dataframe that contains funnel information by\n",
    "        customer(person) and offer(offer_id)\n",
    "        \n",
    "    OUTPUT: a dataframe that has either of the three labels attached    \n",
    "    '''\n",
    "    \n",
    "    # Instantiate a copy of dataframe\n",
    "    df_new = offer_by_customer.copy()\n",
    "\n",
    "    # Change dtype categorical --> str\n",
    "    # otherwise, a new column cannot be added\n",
    "    df_new.columns = df_new.columns.astype(str)\n",
    "\n",
    "    # Instantiate a new 'offer_status' column\n",
    "    df_new['offer_status'] = ''\n",
    "    \n",
    "    for idx, rows in tqdm(df_new.iterrows(), total=df_new.shape[0]):\n",
    "    \n",
    "        # Set conditions to check if there is non-null value\n",
    "        is_received = not math.isnan(rows['offer received'])\n",
    "        is_viewed = not math.isnan(rows['offer viewed'])\n",
    "        is_completed = not math.isnan(rows['offer completed'])\n",
    "\n",
    "        # Label as per the logic spcified in the labeling matrix \n",
    "        if is_received and is_viewed and is_completed:\n",
    "            df_new.loc[idx, 'offer_status'] = 'completed'\n",
    "\n",
    "        elif is_received and is_viewed and not is_completed:\n",
    "            df_new.loc[idx, 'offer_status'] = 'incomplete'\n",
    "\n",
    "        elif is_received and not is_viewed and is_completed:\n",
    "            df_new.loc[idx, 'offer_status'] = 'incomplete'\n",
    "\n",
    "        elif is_received and not is_viewed and not is_completed:\n",
    "            df_new.loc[idx, 'offer_status'] = 'incomplete'\n",
    "\n",
    "        elif not is_received and not is_completed and not is_viewed:\n",
    "            df_new.loc[idx, 'offer_status'] = 'unsent'\n",
    "\n",
    "        else:\n",
    "            df_new.loc[idx, 'offer_status'] = np.nan\n",
    "\n",
    "    return df_new"
   ]
  },
  {
   "cell_type": "code",
   "execution_count": 55,
   "metadata": {},
   "outputs": [
    {
     "name": "stderr",
     "output_type": "stream",
     "text": [
      "100%|██████████| 169940/169940 [05:05<00:00, 555.90it/s]\n"
     ]
    }
   ],
   "source": [
    "offer_by_customer_labeled = label_offer_by_customer(df=offer_by_customer)"
   ]
  },
  {
   "cell_type": "code",
   "execution_count": 56,
   "metadata": {},
   "outputs": [],
   "source": [
    "# Check if offer_status has null values\n",
    "assert offer_by_customer_labeled.offer_status.isnull().sum() == 0, 'There is a null value'"
   ]
  },
  {
   "cell_type": "code",
   "execution_count": 57,
   "metadata": {},
   "outputs": [
    {
     "data": {
      "text/html": [
       "<div>\n",
       "<style scoped>\n",
       "    .dataframe tbody tr th:only-of-type {\n",
       "        vertical-align: middle;\n",
       "    }\n",
       "\n",
       "    .dataframe tbody tr th {\n",
       "        vertical-align: top;\n",
       "    }\n",
       "\n",
       "    .dataframe thead th {\n",
       "        text-align: right;\n",
       "    }\n",
       "</style>\n",
       "<table border=\"1\" class=\"dataframe\">\n",
       "  <thead>\n",
       "    <tr style=\"text-align: right;\">\n",
       "      <th></th>\n",
       "      <th>event</th>\n",
       "      <th>offer received</th>\n",
       "      <th>offer viewed</th>\n",
       "      <th>offer completed</th>\n",
       "      <th>offer_status</th>\n",
       "    </tr>\n",
       "    <tr>\n",
       "      <th>person</th>\n",
       "      <th>offer_id</th>\n",
       "      <th></th>\n",
       "      <th></th>\n",
       "      <th></th>\n",
       "      <th></th>\n",
       "    </tr>\n",
       "  </thead>\n",
       "  <tbody>\n",
       "    <tr>\n",
       "      <th>b6e152e34cc7427a8a30c02d4fbd9d49</th>\n",
       "      <th>ae264e3637204a6fb9bb56bc8210ddfd</th>\n",
       "      <td>336.0</td>\n",
       "      <td>336.0</td>\n",
       "      <td>NaN</td>\n",
       "      <td>incomplete</td>\n",
       "    </tr>\n",
       "    <tr>\n",
       "      <th>6e04a90a0e074496b5f229eb1f553433</th>\n",
       "      <th>ae264e3637204a6fb9bb56bc8210ddfd</th>\n",
       "      <td>NaN</td>\n",
       "      <td>NaN</td>\n",
       "      <td>NaN</td>\n",
       "      <td>unsent</td>\n",
       "    </tr>\n",
       "    <tr>\n",
       "      <th>5ea46e14782047beb43f7b2a26e7d4e6</th>\n",
       "      <th>4d5c57ea9a6940dd891ad53e9dbe8da0</th>\n",
       "      <td>NaN</td>\n",
       "      <td>NaN</td>\n",
       "      <td>NaN</td>\n",
       "      <td>unsent</td>\n",
       "    </tr>\n",
       "    <tr>\n",
       "      <th>2449f2f011d24c849f72b15303f89f4b</th>\n",
       "      <th>3f207df678b143eea3cee63160fa8bed</th>\n",
       "      <td>NaN</td>\n",
       "      <td>NaN</td>\n",
       "      <td>NaN</td>\n",
       "      <td>unsent</td>\n",
       "    </tr>\n",
       "    <tr>\n",
       "      <th>f20c3f0cf44244e185df2264889256d6</th>\n",
       "      <th>2906b810c7d4411798c6938adc9daaa5</th>\n",
       "      <td>NaN</td>\n",
       "      <td>NaN</td>\n",
       "      <td>NaN</td>\n",
       "      <td>unsent</td>\n",
       "    </tr>\n",
       "    <tr>\n",
       "      <th>286424d90dee4e23a07e1f374c69a89e</th>\n",
       "      <th>4d5c57ea9a6940dd891ad53e9dbe8da0</th>\n",
       "      <td>336.0</td>\n",
       "      <td>366.0</td>\n",
       "      <td>390.0</td>\n",
       "      <td>completed</td>\n",
       "    </tr>\n",
       "    <tr>\n",
       "      <th>529dbd88764343b2a89758dd6c05cd29</th>\n",
       "      <th>fafdcd668e3743c1bb461111dcafc2a4</th>\n",
       "      <td>NaN</td>\n",
       "      <td>NaN</td>\n",
       "      <td>NaN</td>\n",
       "      <td>unsent</td>\n",
       "    </tr>\n",
       "    <tr>\n",
       "      <th>1da9869eff9c44cdbac2f1e4b9567df3</th>\n",
       "      <th>f19421c1d4aa40978ebb69ca19b0e20d</th>\n",
       "      <td>NaN</td>\n",
       "      <td>NaN</td>\n",
       "      <td>NaN</td>\n",
       "      <td>unsent</td>\n",
       "    </tr>\n",
       "    <tr>\n",
       "      <th>c91761144bce489bac76377c73b4058a</th>\n",
       "      <th>f19421c1d4aa40978ebb69ca19b0e20d</th>\n",
       "      <td>408.0</td>\n",
       "      <td>462.0</td>\n",
       "      <td>NaN</td>\n",
       "      <td>incomplete</td>\n",
       "    </tr>\n",
       "    <tr>\n",
       "      <th>fa4b08b07db44bb9a1bc8dbf1d0c9dc2</th>\n",
       "      <th>5a8bc65990b245e5a138643cd4eb9837</th>\n",
       "      <td>0.0</td>\n",
       "      <td>12.0</td>\n",
       "      <td>NaN</td>\n",
       "      <td>incomplete</td>\n",
       "    </tr>\n",
       "  </tbody>\n",
       "</table>\n",
       "</div>"
      ],
      "text/plain": [
       "event                                                              offer received  \\\n",
       "person                           offer_id                                           \n",
       "b6e152e34cc7427a8a30c02d4fbd9d49 ae264e3637204a6fb9bb56bc8210ddfd           336.0   \n",
       "6e04a90a0e074496b5f229eb1f553433 ae264e3637204a6fb9bb56bc8210ddfd             NaN   \n",
       "5ea46e14782047beb43f7b2a26e7d4e6 4d5c57ea9a6940dd891ad53e9dbe8da0             NaN   \n",
       "2449f2f011d24c849f72b15303f89f4b 3f207df678b143eea3cee63160fa8bed             NaN   \n",
       "f20c3f0cf44244e185df2264889256d6 2906b810c7d4411798c6938adc9daaa5             NaN   \n",
       "286424d90dee4e23a07e1f374c69a89e 4d5c57ea9a6940dd891ad53e9dbe8da0           336.0   \n",
       "529dbd88764343b2a89758dd6c05cd29 fafdcd668e3743c1bb461111dcafc2a4             NaN   \n",
       "1da9869eff9c44cdbac2f1e4b9567df3 f19421c1d4aa40978ebb69ca19b0e20d             NaN   \n",
       "c91761144bce489bac76377c73b4058a f19421c1d4aa40978ebb69ca19b0e20d           408.0   \n",
       "fa4b08b07db44bb9a1bc8dbf1d0c9dc2 5a8bc65990b245e5a138643cd4eb9837             0.0   \n",
       "\n",
       "event                                                              offer viewed  \\\n",
       "person                           offer_id                                         \n",
       "b6e152e34cc7427a8a30c02d4fbd9d49 ae264e3637204a6fb9bb56bc8210ddfd         336.0   \n",
       "6e04a90a0e074496b5f229eb1f553433 ae264e3637204a6fb9bb56bc8210ddfd           NaN   \n",
       "5ea46e14782047beb43f7b2a26e7d4e6 4d5c57ea9a6940dd891ad53e9dbe8da0           NaN   \n",
       "2449f2f011d24c849f72b15303f89f4b 3f207df678b143eea3cee63160fa8bed           NaN   \n",
       "f20c3f0cf44244e185df2264889256d6 2906b810c7d4411798c6938adc9daaa5           NaN   \n",
       "286424d90dee4e23a07e1f374c69a89e 4d5c57ea9a6940dd891ad53e9dbe8da0         366.0   \n",
       "529dbd88764343b2a89758dd6c05cd29 fafdcd668e3743c1bb461111dcafc2a4           NaN   \n",
       "1da9869eff9c44cdbac2f1e4b9567df3 f19421c1d4aa40978ebb69ca19b0e20d           NaN   \n",
       "c91761144bce489bac76377c73b4058a f19421c1d4aa40978ebb69ca19b0e20d         462.0   \n",
       "fa4b08b07db44bb9a1bc8dbf1d0c9dc2 5a8bc65990b245e5a138643cd4eb9837          12.0   \n",
       "\n",
       "event                                                              offer completed  \\\n",
       "person                           offer_id                                            \n",
       "b6e152e34cc7427a8a30c02d4fbd9d49 ae264e3637204a6fb9bb56bc8210ddfd              NaN   \n",
       "6e04a90a0e074496b5f229eb1f553433 ae264e3637204a6fb9bb56bc8210ddfd              NaN   \n",
       "5ea46e14782047beb43f7b2a26e7d4e6 4d5c57ea9a6940dd891ad53e9dbe8da0              NaN   \n",
       "2449f2f011d24c849f72b15303f89f4b 3f207df678b143eea3cee63160fa8bed              NaN   \n",
       "f20c3f0cf44244e185df2264889256d6 2906b810c7d4411798c6938adc9daaa5              NaN   \n",
       "286424d90dee4e23a07e1f374c69a89e 4d5c57ea9a6940dd891ad53e9dbe8da0            390.0   \n",
       "529dbd88764343b2a89758dd6c05cd29 fafdcd668e3743c1bb461111dcafc2a4              NaN   \n",
       "1da9869eff9c44cdbac2f1e4b9567df3 f19421c1d4aa40978ebb69ca19b0e20d              NaN   \n",
       "c91761144bce489bac76377c73b4058a f19421c1d4aa40978ebb69ca19b0e20d              NaN   \n",
       "fa4b08b07db44bb9a1bc8dbf1d0c9dc2 5a8bc65990b245e5a138643cd4eb9837              NaN   \n",
       "\n",
       "event                                                             offer_status  \n",
       "person                           offer_id                                       \n",
       "b6e152e34cc7427a8a30c02d4fbd9d49 ae264e3637204a6fb9bb56bc8210ddfd   incomplete  \n",
       "6e04a90a0e074496b5f229eb1f553433 ae264e3637204a6fb9bb56bc8210ddfd       unsent  \n",
       "5ea46e14782047beb43f7b2a26e7d4e6 4d5c57ea9a6940dd891ad53e9dbe8da0       unsent  \n",
       "2449f2f011d24c849f72b15303f89f4b 3f207df678b143eea3cee63160fa8bed       unsent  \n",
       "f20c3f0cf44244e185df2264889256d6 2906b810c7d4411798c6938adc9daaa5       unsent  \n",
       "286424d90dee4e23a07e1f374c69a89e 4d5c57ea9a6940dd891ad53e9dbe8da0    completed  \n",
       "529dbd88764343b2a89758dd6c05cd29 fafdcd668e3743c1bb461111dcafc2a4       unsent  \n",
       "1da9869eff9c44cdbac2f1e4b9567df3 f19421c1d4aa40978ebb69ca19b0e20d       unsent  \n",
       "c91761144bce489bac76377c73b4058a f19421c1d4aa40978ebb69ca19b0e20d   incomplete  \n",
       "fa4b08b07db44bb9a1bc8dbf1d0c9dc2 5a8bc65990b245e5a138643cd4eb9837   incomplete  "
      ]
     },
     "execution_count": 57,
     "metadata": {},
     "output_type": "execute_result"
    }
   ],
   "source": [
    "# Visually check with 10 samples \n",
    "offer_by_customer_labeled.sample(10) # ok!"
   ]
  },
  {
   "cell_type": "markdown",
   "metadata": {},
   "source": [
    "#### Merging subsetted data \n",
    "Now we merge the earlier subsetted `amount` & `reward` information for the ease pivoting operations. They are saved in `transaction_df` & `reward_df` respectively. "
   ]
  },
  {
   "cell_type": "code",
   "execution_count": 58,
   "metadata": {},
   "outputs": [],
   "source": [
    "# Copy the original dataframe \n",
    "df_merged = offer_by_customer_labeled.copy()\n",
    "\n",
    "# Reset index for merge \n",
    "df_merged = df_merged.reset_index()"
   ]
  },
  {
   "cell_type": "code",
   "execution_count": 59,
   "metadata": {},
   "outputs": [
    {
     "data": {
      "text/plain": [
       "(169940, 6)"
      ]
     },
     "execution_count": 59,
     "metadata": {},
     "output_type": "execute_result"
    }
   ],
   "source": [
    "df_merged.shape"
   ]
  },
  {
   "cell_type": "markdown",
   "metadata": {},
   "source": [
    "`transaction_df` does not have `offer_id` so we merge based on the time that offers were completed. Also, offer_id, reward columns do not have any values other than NaN, and also event column is not unnecessary (it only has transaction as value) so drop them before the merge."
   ]
  },
  {
   "cell_type": "code",
   "execution_count": 60,
   "metadata": {
    "scrolled": true
   },
   "outputs": [],
   "source": [
    "transaction_df = transaction_df.drop(columns=['event', 'offer_id', 'reward'])"
   ]
  },
  {
   "cell_type": "code",
   "execution_count": 61,
   "metadata": {},
   "outputs": [],
   "source": [
    "# Merge the dataframes\n",
    "df_merged = pd.merge(df_merged, transaction_df, how='left',\n",
    "                     left_on=['person', 'offer completed'], \n",
    "                     right_on=['person', 'time'])"
   ]
  },
  {
   "cell_type": "code",
   "execution_count": 62,
   "metadata": {},
   "outputs": [],
   "source": [
    "# Check if any record has been removed/added after the merge\n",
    "assert df_merged.shape[0] == 169940, \"There is a record lost/added from the merge\"\n",
    "assert df_merged[df_merged['offer completed'] != df_merged['time']]['offer completed'].sum() == 0\n",
    "\n",
    "# Then drop duplicated column due to difference in column name\n",
    "df_merged = df_merged.drop(columns='time')"
   ]
  },
  {
   "cell_type": "code",
   "execution_count": 63,
   "metadata": {},
   "outputs": [
    {
     "data": {
      "text/html": [
       "<div>\n",
       "<style scoped>\n",
       "    .dataframe tbody tr th:only-of-type {\n",
       "        vertical-align: middle;\n",
       "    }\n",
       "\n",
       "    .dataframe tbody tr th {\n",
       "        vertical-align: top;\n",
       "    }\n",
       "\n",
       "    .dataframe thead th {\n",
       "        text-align: right;\n",
       "    }\n",
       "</style>\n",
       "<table border=\"1\" class=\"dataframe\">\n",
       "  <thead>\n",
       "    <tr style=\"text-align: right;\">\n",
       "      <th></th>\n",
       "      <th>person</th>\n",
       "      <th>offer_id</th>\n",
       "      <th>offer received</th>\n",
       "      <th>offer viewed</th>\n",
       "      <th>offer completed</th>\n",
       "      <th>offer_status</th>\n",
       "      <th>amount</th>\n",
       "    </tr>\n",
       "  </thead>\n",
       "  <tbody>\n",
       "    <tr>\n",
       "      <th>0</th>\n",
       "      <td>0009655768c64bdeb2e877511632db8f</td>\n",
       "      <td>0b1e1539f2cc45b7b9fa7c272da2e1d7</td>\n",
       "      <td>NaN</td>\n",
       "      <td>NaN</td>\n",
       "      <td>NaN</td>\n",
       "      <td>unsent</td>\n",
       "      <td>NaN</td>\n",
       "    </tr>\n",
       "    <tr>\n",
       "      <th>1</th>\n",
       "      <td>0009655768c64bdeb2e877511632db8f</td>\n",
       "      <td>2298d6c36e964ae4a3e7e9706d1fb8c2</td>\n",
       "      <td>NaN</td>\n",
       "      <td>NaN</td>\n",
       "      <td>NaN</td>\n",
       "      <td>unsent</td>\n",
       "      <td>NaN</td>\n",
       "    </tr>\n",
       "    <tr>\n",
       "      <th>2</th>\n",
       "      <td>0009655768c64bdeb2e877511632db8f</td>\n",
       "      <td>2906b810c7d4411798c6938adc9daaa5</td>\n",
       "      <td>576.0</td>\n",
       "      <td>NaN</td>\n",
       "      <td>576.0</td>\n",
       "      <td>incomplete</td>\n",
       "      <td>10.27</td>\n",
       "    </tr>\n",
       "    <tr>\n",
       "      <th>3</th>\n",
       "      <td>0009655768c64bdeb2e877511632db8f</td>\n",
       "      <td>3f207df678b143eea3cee63160fa8bed</td>\n",
       "      <td>336.0</td>\n",
       "      <td>372.0</td>\n",
       "      <td>NaN</td>\n",
       "      <td>incomplete</td>\n",
       "      <td>NaN</td>\n",
       "    </tr>\n",
       "    <tr>\n",
       "      <th>4</th>\n",
       "      <td>0009655768c64bdeb2e877511632db8f</td>\n",
       "      <td>4d5c57ea9a6940dd891ad53e9dbe8da0</td>\n",
       "      <td>NaN</td>\n",
       "      <td>NaN</td>\n",
       "      <td>NaN</td>\n",
       "      <td>unsent</td>\n",
       "      <td>NaN</td>\n",
       "    </tr>\n",
       "  </tbody>\n",
       "</table>\n",
       "</div>"
      ],
      "text/plain": [
       "                             person                          offer_id  \\\n",
       "0  0009655768c64bdeb2e877511632db8f  0b1e1539f2cc45b7b9fa7c272da2e1d7   \n",
       "1  0009655768c64bdeb2e877511632db8f  2298d6c36e964ae4a3e7e9706d1fb8c2   \n",
       "2  0009655768c64bdeb2e877511632db8f  2906b810c7d4411798c6938adc9daaa5   \n",
       "3  0009655768c64bdeb2e877511632db8f  3f207df678b143eea3cee63160fa8bed   \n",
       "4  0009655768c64bdeb2e877511632db8f  4d5c57ea9a6940dd891ad53e9dbe8da0   \n",
       "\n",
       "   offer received  offer viewed  offer completed offer_status  amount  \n",
       "0             NaN           NaN              NaN       unsent     NaN  \n",
       "1             NaN           NaN              NaN       unsent     NaN  \n",
       "2           576.0           NaN            576.0   incomplete   10.27  \n",
       "3           336.0         372.0              NaN   incomplete     NaN  \n",
       "4             NaN           NaN              NaN       unsent     NaN  "
      ]
     },
     "execution_count": 63,
     "metadata": {},
     "output_type": "execute_result"
    }
   ],
   "source": [
    "df_merged.head()"
   ]
  },
  {
   "cell_type": "markdown",
   "metadata": {},
   "source": [
    "There is no record lost or added after the merge which is good. However, note that the third row has a suspicious record where `offer_status` is incomplete but there still is an amount. Let's investigate them."
   ]
  },
  {
   "cell_type": "code",
   "execution_count": 64,
   "metadata": {
    "scrolled": true
   },
   "outputs": [
    {
     "name": "stdout",
     "output_type": "stream",
     "text": [
      "<class 'pandas.core.frame.DataFrame'>\n",
      "Int64Index: 4536 entries, 2 to 169906\n",
      "Data columns (total 7 columns):\n",
      " #   Column           Non-Null Count  Dtype  \n",
      "---  ------           --------------  -----  \n",
      " 0   person           4536 non-null   object \n",
      " 1   offer_id         4536 non-null   object \n",
      " 2   offer received   4536 non-null   float64\n",
      " 3   offer viewed     0 non-null      float64\n",
      " 4   offer completed  4536 non-null   float64\n",
      " 5   offer_status     4536 non-null   object \n",
      " 6   amount           4536 non-null   float64\n",
      "dtypes: float64(4), object(3)\n",
      "memory usage: 283.5+ KB\n"
     ]
    }
   ],
   "source": [
    "df_merged[(df_merged['offer_status'] == 'incomplete') & (df_merged['amount'].notnull())].info()"
   ]
  },
  {
   "cell_type": "markdown",
   "metadata": {},
   "source": [
    "It is very clear that transaction `amount` was added to incomplete offer when a customer actually made a transaction without viewing offer (so not influenced by the offer). \n",
    "\n",
    "Not action yet to take and moving on with merging `reward_df` for now. `reward_df` has unncessary columns thare are `event` (only offer completed has reward) and `amount` (no value) to drop."
   ]
  },
  {
   "cell_type": "code",
   "execution_count": 65,
   "metadata": {},
   "outputs": [
    {
     "name": "stdout",
     "output_type": "stream",
     "text": [
      "<class 'pandas.core.frame.DataFrame'>\n",
      "Int64Index: 33182 entries, 12658 to 306130\n",
      "Data columns (total 6 columns):\n",
      " #   Column    Non-Null Count  Dtype   \n",
      "---  ------    --------------  -----   \n",
      " 0   person    33182 non-null  object  \n",
      " 1   event     33182 non-null  category\n",
      " 2   time      33182 non-null  int64   \n",
      " 3   amount    0 non-null      float64 \n",
      " 4   offer_id  33182 non-null  object  \n",
      " 5   reward    33182 non-null  float64 \n",
      "dtypes: category(1), float64(2), int64(1), object(2)\n",
      "memory usage: 1.6+ MB\n"
     ]
    }
   ],
   "source": [
    "# Inspecting reward_df \n",
    "reward_df.info()"
   ]
  },
  {
   "cell_type": "code",
   "execution_count": 66,
   "metadata": {},
   "outputs": [],
   "source": [
    "# Drop unncessary columns\n",
    "reward_df = reward_df.drop(columns=['event', 'amount'])"
   ]
  },
  {
   "cell_type": "code",
   "execution_count": 67,
   "metadata": {},
   "outputs": [],
   "source": [
    "# Merge with reward_df \n",
    "df_merged = pd.merge(df_merged, reward_df, how='left',\n",
    "                     left_on=['person', 'offer_id', 'offer completed'], \n",
    "                     right_on=['person', 'offer_id', 'time'])"
   ]
  },
  {
   "cell_type": "code",
   "execution_count": 68,
   "metadata": {},
   "outputs": [],
   "source": [
    "# Check for any added/removed records after the merge\n",
    "assert df_merged.shape[0] == 169940, \"There is a record lost/added from the merge\"\n",
    "\n",
    "# Then, drop duplicated column due to difference in column name\n",
    "df_merged = df_merged.drop(columns='time')"
   ]
  },
  {
   "cell_type": "code",
   "execution_count": 69,
   "metadata": {},
   "outputs": [
    {
     "data": {
      "text/html": [
       "<div>\n",
       "<style scoped>\n",
       "    .dataframe tbody tr th:only-of-type {\n",
       "        vertical-align: middle;\n",
       "    }\n",
       "\n",
       "    .dataframe tbody tr th {\n",
       "        vertical-align: top;\n",
       "    }\n",
       "\n",
       "    .dataframe thead th {\n",
       "        text-align: right;\n",
       "    }\n",
       "</style>\n",
       "<table border=\"1\" class=\"dataframe\">\n",
       "  <thead>\n",
       "    <tr style=\"text-align: right;\">\n",
       "      <th></th>\n",
       "      <th>person</th>\n",
       "      <th>offer_id</th>\n",
       "      <th>offer received</th>\n",
       "      <th>offer viewed</th>\n",
       "      <th>offer completed</th>\n",
       "      <th>offer_status</th>\n",
       "      <th>amount</th>\n",
       "      <th>reward</th>\n",
       "    </tr>\n",
       "  </thead>\n",
       "  <tbody>\n",
       "    <tr>\n",
       "      <th>0</th>\n",
       "      <td>0009655768c64bdeb2e877511632db8f</td>\n",
       "      <td>0b1e1539f2cc45b7b9fa7c272da2e1d7</td>\n",
       "      <td>NaN</td>\n",
       "      <td>NaN</td>\n",
       "      <td>NaN</td>\n",
       "      <td>unsent</td>\n",
       "      <td>NaN</td>\n",
       "      <td>NaN</td>\n",
       "    </tr>\n",
       "    <tr>\n",
       "      <th>1</th>\n",
       "      <td>0009655768c64bdeb2e877511632db8f</td>\n",
       "      <td>2298d6c36e964ae4a3e7e9706d1fb8c2</td>\n",
       "      <td>NaN</td>\n",
       "      <td>NaN</td>\n",
       "      <td>NaN</td>\n",
       "      <td>unsent</td>\n",
       "      <td>NaN</td>\n",
       "      <td>NaN</td>\n",
       "    </tr>\n",
       "    <tr>\n",
       "      <th>2</th>\n",
       "      <td>0009655768c64bdeb2e877511632db8f</td>\n",
       "      <td>2906b810c7d4411798c6938adc9daaa5</td>\n",
       "      <td>576.0</td>\n",
       "      <td>NaN</td>\n",
       "      <td>576.0</td>\n",
       "      <td>incomplete</td>\n",
       "      <td>10.27</td>\n",
       "      <td>2.0</td>\n",
       "    </tr>\n",
       "    <tr>\n",
       "      <th>3</th>\n",
       "      <td>0009655768c64bdeb2e877511632db8f</td>\n",
       "      <td>3f207df678b143eea3cee63160fa8bed</td>\n",
       "      <td>336.0</td>\n",
       "      <td>372.0</td>\n",
       "      <td>NaN</td>\n",
       "      <td>incomplete</td>\n",
       "      <td>NaN</td>\n",
       "      <td>NaN</td>\n",
       "    </tr>\n",
       "    <tr>\n",
       "      <th>4</th>\n",
       "      <td>0009655768c64bdeb2e877511632db8f</td>\n",
       "      <td>4d5c57ea9a6940dd891ad53e9dbe8da0</td>\n",
       "      <td>NaN</td>\n",
       "      <td>NaN</td>\n",
       "      <td>NaN</td>\n",
       "      <td>unsent</td>\n",
       "      <td>NaN</td>\n",
       "      <td>NaN</td>\n",
       "    </tr>\n",
       "    <tr>\n",
       "      <th>...</th>\n",
       "      <td>...</td>\n",
       "      <td>...</td>\n",
       "      <td>...</td>\n",
       "      <td>...</td>\n",
       "      <td>...</td>\n",
       "      <td>...</td>\n",
       "      <td>...</td>\n",
       "      <td>...</td>\n",
       "    </tr>\n",
       "    <tr>\n",
       "      <th>169935</th>\n",
       "      <td>ffff82501cea40309d5fdd7edcca4a07</td>\n",
       "      <td>5a8bc65990b245e5a138643cd4eb9837</td>\n",
       "      <td>NaN</td>\n",
       "      <td>NaN</td>\n",
       "      <td>NaN</td>\n",
       "      <td>unsent</td>\n",
       "      <td>NaN</td>\n",
       "      <td>NaN</td>\n",
       "    </tr>\n",
       "    <tr>\n",
       "      <th>169936</th>\n",
       "      <td>ffff82501cea40309d5fdd7edcca4a07</td>\n",
       "      <td>9b98b8c7a33c4b65b9aebfe6a799e6d9</td>\n",
       "      <td>504.0</td>\n",
       "      <td>534.0</td>\n",
       "      <td>504.0</td>\n",
       "      <td>completed</td>\n",
       "      <td>7.79</td>\n",
       "      <td>5.0</td>\n",
       "    </tr>\n",
       "    <tr>\n",
       "      <th>169937</th>\n",
       "      <td>ffff82501cea40309d5fdd7edcca4a07</td>\n",
       "      <td>ae264e3637204a6fb9bb56bc8210ddfd</td>\n",
       "      <td>NaN</td>\n",
       "      <td>NaN</td>\n",
       "      <td>NaN</td>\n",
       "      <td>unsent</td>\n",
       "      <td>NaN</td>\n",
       "      <td>NaN</td>\n",
       "    </tr>\n",
       "    <tr>\n",
       "      <th>169938</th>\n",
       "      <td>ffff82501cea40309d5fdd7edcca4a07</td>\n",
       "      <td>f19421c1d4aa40978ebb69ca19b0e20d</td>\n",
       "      <td>NaN</td>\n",
       "      <td>NaN</td>\n",
       "      <td>NaN</td>\n",
       "      <td>unsent</td>\n",
       "      <td>NaN</td>\n",
       "      <td>NaN</td>\n",
       "    </tr>\n",
       "    <tr>\n",
       "      <th>169939</th>\n",
       "      <td>ffff82501cea40309d5fdd7edcca4a07</td>\n",
       "      <td>fafdcd668e3743c1bb461111dcafc2a4</td>\n",
       "      <td>0.0</td>\n",
       "      <td>6.0</td>\n",
       "      <td>60.0</td>\n",
       "      <td>completed</td>\n",
       "      <td>16.06</td>\n",
       "      <td>2.0</td>\n",
       "    </tr>\n",
       "  </tbody>\n",
       "</table>\n",
       "<p>169940 rows × 8 columns</p>\n",
       "</div>"
      ],
      "text/plain": [
       "                                  person                          offer_id  \\\n",
       "0       0009655768c64bdeb2e877511632db8f  0b1e1539f2cc45b7b9fa7c272da2e1d7   \n",
       "1       0009655768c64bdeb2e877511632db8f  2298d6c36e964ae4a3e7e9706d1fb8c2   \n",
       "2       0009655768c64bdeb2e877511632db8f  2906b810c7d4411798c6938adc9daaa5   \n",
       "3       0009655768c64bdeb2e877511632db8f  3f207df678b143eea3cee63160fa8bed   \n",
       "4       0009655768c64bdeb2e877511632db8f  4d5c57ea9a6940dd891ad53e9dbe8da0   \n",
       "...                                  ...                               ...   \n",
       "169935  ffff82501cea40309d5fdd7edcca4a07  5a8bc65990b245e5a138643cd4eb9837   \n",
       "169936  ffff82501cea40309d5fdd7edcca4a07  9b98b8c7a33c4b65b9aebfe6a799e6d9   \n",
       "169937  ffff82501cea40309d5fdd7edcca4a07  ae264e3637204a6fb9bb56bc8210ddfd   \n",
       "169938  ffff82501cea40309d5fdd7edcca4a07  f19421c1d4aa40978ebb69ca19b0e20d   \n",
       "169939  ffff82501cea40309d5fdd7edcca4a07  fafdcd668e3743c1bb461111dcafc2a4   \n",
       "\n",
       "        offer received  offer viewed  offer completed offer_status  amount  \\\n",
       "0                  NaN           NaN              NaN       unsent     NaN   \n",
       "1                  NaN           NaN              NaN       unsent     NaN   \n",
       "2                576.0           NaN            576.0   incomplete   10.27   \n",
       "3                336.0         372.0              NaN   incomplete     NaN   \n",
       "4                  NaN           NaN              NaN       unsent     NaN   \n",
       "...                ...           ...              ...          ...     ...   \n",
       "169935             NaN           NaN              NaN       unsent     NaN   \n",
       "169936           504.0         534.0            504.0    completed    7.79   \n",
       "169937             NaN           NaN              NaN       unsent     NaN   \n",
       "169938             NaN           NaN              NaN       unsent     NaN   \n",
       "169939             0.0           6.0             60.0    completed   16.06   \n",
       "\n",
       "        reward  \n",
       "0          NaN  \n",
       "1          NaN  \n",
       "2          2.0  \n",
       "3          NaN  \n",
       "4          NaN  \n",
       "...        ...  \n",
       "169935     NaN  \n",
       "169936     5.0  \n",
       "169937     NaN  \n",
       "169938     NaN  \n",
       "169939     2.0  \n",
       "\n",
       "[169940 rows x 8 columns]"
      ]
     },
     "execution_count": 69,
     "metadata": {},
     "output_type": "execute_result"
    }
   ],
   "source": [
    "df_merged"
   ]
  },
  {
   "cell_type": "markdown",
   "metadata": {},
   "source": [
    "<font color=\"orangered\">Warning</font> Row 169936 has a suspicous record where offer completed time is earlier than offer viewed time. Let's investigate."
   ]
  },
  {
   "cell_type": "code",
   "execution_count": 70,
   "metadata": {
    "scrolled": false
   },
   "outputs": [
    {
     "data": {
      "text/html": [
       "<div>\n",
       "<style scoped>\n",
       "    .dataframe tbody tr th:only-of-type {\n",
       "        vertical-align: middle;\n",
       "    }\n",
       "\n",
       "    .dataframe tbody tr th {\n",
       "        vertical-align: top;\n",
       "    }\n",
       "\n",
       "    .dataframe thead th {\n",
       "        text-align: right;\n",
       "    }\n",
       "</style>\n",
       "<table border=\"1\" class=\"dataframe\">\n",
       "  <thead>\n",
       "    <tr style=\"text-align: right;\">\n",
       "      <th></th>\n",
       "      <th>person</th>\n",
       "      <th>event</th>\n",
       "      <th>time</th>\n",
       "      <th>amount</th>\n",
       "      <th>offer_id</th>\n",
       "      <th>reward</th>\n",
       "    </tr>\n",
       "  </thead>\n",
       "  <tbody>\n",
       "    <tr>\n",
       "      <th>202817</th>\n",
       "      <td>ffff82501cea40309d5fdd7edcca4a07</td>\n",
       "      <td>offer received</td>\n",
       "      <td>504</td>\n",
       "      <td>NaN</td>\n",
       "      <td>9b98b8c7a33c4b65b9aebfe6a799e6d9</td>\n",
       "      <td>NaN</td>\n",
       "    </tr>\n",
       "    <tr>\n",
       "      <th>214570</th>\n",
       "      <td>ffff82501cea40309d5fdd7edcca4a07</td>\n",
       "      <td>transaction</td>\n",
       "      <td>504</td>\n",
       "      <td>7.79</td>\n",
       "      <td>NaN</td>\n",
       "      <td>NaN</td>\n",
       "    </tr>\n",
       "    <tr>\n",
       "      <th>214571</th>\n",
       "      <td>ffff82501cea40309d5fdd7edcca4a07</td>\n",
       "      <td>offer completed</td>\n",
       "      <td>504</td>\n",
       "      <td>NaN</td>\n",
       "      <td>9b98b8c7a33c4b65b9aebfe6a799e6d9</td>\n",
       "      <td>5.0</td>\n",
       "    </tr>\n",
       "    <tr>\n",
       "      <th>230484</th>\n",
       "      <td>ffff82501cea40309d5fdd7edcca4a07</td>\n",
       "      <td>offer viewed</td>\n",
       "      <td>534</td>\n",
       "      <td>NaN</td>\n",
       "      <td>9b98b8c7a33c4b65b9aebfe6a799e6d9</td>\n",
       "      <td>NaN</td>\n",
       "    </tr>\n",
       "    <tr>\n",
       "      <th>246248</th>\n",
       "      <td>ffff82501cea40309d5fdd7edcca4a07</td>\n",
       "      <td>offer received</td>\n",
       "      <td>576</td>\n",
       "      <td>NaN</td>\n",
       "      <td>2906b810c7d4411798c6938adc9daaa5</td>\n",
       "      <td>NaN</td>\n",
       "    </tr>\n",
       "  </tbody>\n",
       "</table>\n",
       "</div>"
      ],
      "text/plain": [
       "                                  person            event  time  amount  \\\n",
       "202817  ffff82501cea40309d5fdd7edcca4a07   offer received   504     NaN   \n",
       "214570  ffff82501cea40309d5fdd7edcca4a07      transaction   504    7.79   \n",
       "214571  ffff82501cea40309d5fdd7edcca4a07  offer completed   504     NaN   \n",
       "230484  ffff82501cea40309d5fdd7edcca4a07     offer viewed   534     NaN   \n",
       "246248  ffff82501cea40309d5fdd7edcca4a07   offer received   576     NaN   \n",
       "\n",
       "                                offer_id  reward  \n",
       "202817  9b98b8c7a33c4b65b9aebfe6a799e6d9     NaN  \n",
       "214570                               NaN     NaN  \n",
       "214571  9b98b8c7a33c4b65b9aebfe6a799e6d9     5.0  \n",
       "230484  9b98b8c7a33c4b65b9aebfe6a799e6d9     NaN  \n",
       "246248  2906b810c7d4411798c6938adc9daaa5     NaN  "
      ]
     },
     "execution_count": 70,
     "metadata": {},
     "output_type": "execute_result"
    }
   ],
   "source": [
    "# Using the custom function defined earlier\n",
    "sample1 = transaction_details('ffff82501cea40309d5fdd7edcca4a07')\n",
    "sample1[sample1.time > 500][:5]"
   ]
  },
  {
   "cell_type": "markdown",
   "metadata": {},
   "source": [
    "#### `LABELING ADJUSTMENT` Incorrect labeling\n",
    "\n",
    "It is noticeable that the customer viewed an offer after offer completed, and then the customer was not influenced by the offer and the offer is not considered complete.\n",
    "\n",
    "And the previous groupby operations assumed the dataframe was ordered by funnel but created a wide form pivot table with the minimum time (earliest record) so couldn't catch this exceptional case. \n",
    "\n",
    "There are over 3708 records that are incorrectly labeled, which need an additional adjustment."
   ]
  },
  {
   "cell_type": "code",
   "execution_count": 71,
   "metadata": {
    "scrolled": false
   },
   "outputs": [
    {
     "data": {
      "text/html": [
       "<div>\n",
       "<style scoped>\n",
       "    .dataframe tbody tr th:only-of-type {\n",
       "        vertical-align: middle;\n",
       "    }\n",
       "\n",
       "    .dataframe tbody tr th {\n",
       "        vertical-align: top;\n",
       "    }\n",
       "\n",
       "    .dataframe thead th {\n",
       "        text-align: right;\n",
       "    }\n",
       "</style>\n",
       "<table border=\"1\" class=\"dataframe\">\n",
       "  <thead>\n",
       "    <tr style=\"text-align: right;\">\n",
       "      <th></th>\n",
       "      <th>person</th>\n",
       "      <th>offer_id</th>\n",
       "      <th>offer received</th>\n",
       "      <th>offer viewed</th>\n",
       "      <th>offer completed</th>\n",
       "      <th>offer_status</th>\n",
       "      <th>amount</th>\n",
       "      <th>reward</th>\n",
       "    </tr>\n",
       "  </thead>\n",
       "  <tbody>\n",
       "    <tr>\n",
       "      <th>8</th>\n",
       "      <td>0009655768c64bdeb2e877511632db8f</td>\n",
       "      <td>f19421c1d4aa40978ebb69ca19b0e20d</td>\n",
       "      <td>408.0</td>\n",
       "      <td>456.0</td>\n",
       "      <td>414.0</td>\n",
       "      <td>completed</td>\n",
       "      <td>8.57</td>\n",
       "      <td>5.0</td>\n",
       "    </tr>\n",
       "    <tr>\n",
       "      <th>9</th>\n",
       "      <td>0009655768c64bdeb2e877511632db8f</td>\n",
       "      <td>fafdcd668e3743c1bb461111dcafc2a4</td>\n",
       "      <td>504.0</td>\n",
       "      <td>540.0</td>\n",
       "      <td>528.0</td>\n",
       "      <td>completed</td>\n",
       "      <td>14.11</td>\n",
       "      <td>2.0</td>\n",
       "    </tr>\n",
       "    <tr>\n",
       "      <th>101</th>\n",
       "      <td>0056df74b63b4298809f0b375a304cf4</td>\n",
       "      <td>2298d6c36e964ae4a3e7e9706d1fb8c2</td>\n",
       "      <td>576.0</td>\n",
       "      <td>654.0</td>\n",
       "      <td>576.0</td>\n",
       "      <td>completed</td>\n",
       "      <td>29.77</td>\n",
       "      <td>3.0</td>\n",
       "    </tr>\n",
       "    <tr>\n",
       "      <th>130</th>\n",
       "      <td>00715b6e55c3431cb56ff7307eb19675</td>\n",
       "      <td>0b1e1539f2cc45b7b9fa7c272da2e1d7</td>\n",
       "      <td>168.0</td>\n",
       "      <td>228.0</td>\n",
       "      <td>210.0</td>\n",
       "      <td>completed</td>\n",
       "      <td>28.73</td>\n",
       "      <td>5.0</td>\n",
       "    </tr>\n",
       "    <tr>\n",
       "      <th>132</th>\n",
       "      <td>00715b6e55c3431cb56ff7307eb19675</td>\n",
       "      <td>2906b810c7d4411798c6938adc9daaa5</td>\n",
       "      <td>504.0</td>\n",
       "      <td>564.0</td>\n",
       "      <td>534.0</td>\n",
       "      <td>completed</td>\n",
       "      <td>21.35</td>\n",
       "      <td>2.0</td>\n",
       "    </tr>\n",
       "    <tr>\n",
       "      <th>...</th>\n",
       "      <td>...</td>\n",
       "      <td>...</td>\n",
       "      <td>...</td>\n",
       "      <td>...</td>\n",
       "      <td>...</td>\n",
       "      <td>...</td>\n",
       "      <td>...</td>\n",
       "      <td>...</td>\n",
       "    </tr>\n",
       "    <tr>\n",
       "      <th>169887</th>\n",
       "      <td>fff29fb549084123bd046dbc5ceb4faa</td>\n",
       "      <td>ae264e3637204a6fb9bb56bc8210ddfd</td>\n",
       "      <td>0.0</td>\n",
       "      <td>642.0</td>\n",
       "      <td>168.0</td>\n",
       "      <td>completed</td>\n",
       "      <td>15.16</td>\n",
       "      <td>10.0</td>\n",
       "    </tr>\n",
       "    <tr>\n",
       "      <th>169888</th>\n",
       "      <td>fff29fb549084123bd046dbc5ceb4faa</td>\n",
       "      <td>f19421c1d4aa40978ebb69ca19b0e20d</td>\n",
       "      <td>408.0</td>\n",
       "      <td>438.0</td>\n",
       "      <td>426.0</td>\n",
       "      <td>completed</td>\n",
       "      <td>24.56</td>\n",
       "      <td>5.0</td>\n",
       "    </tr>\n",
       "    <tr>\n",
       "      <th>169896</th>\n",
       "      <td>fff3ba4757bd42088c044ca26d73817a</td>\n",
       "      <td>9b98b8c7a33c4b65b9aebfe6a799e6d9</td>\n",
       "      <td>168.0</td>\n",
       "      <td>210.0</td>\n",
       "      <td>168.0</td>\n",
       "      <td>completed</td>\n",
       "      <td>22.76</td>\n",
       "      <td>5.0</td>\n",
       "    </tr>\n",
       "    <tr>\n",
       "      <th>169926</th>\n",
       "      <td>fffad4f4828548d1b5583907f2e9906b</td>\n",
       "      <td>9b98b8c7a33c4b65b9aebfe6a799e6d9</td>\n",
       "      <td>576.0</td>\n",
       "      <td>666.0</td>\n",
       "      <td>588.0</td>\n",
       "      <td>completed</td>\n",
       "      <td>10.98</td>\n",
       "      <td>5.0</td>\n",
       "    </tr>\n",
       "    <tr>\n",
       "      <th>169936</th>\n",
       "      <td>ffff82501cea40309d5fdd7edcca4a07</td>\n",
       "      <td>9b98b8c7a33c4b65b9aebfe6a799e6d9</td>\n",
       "      <td>504.0</td>\n",
       "      <td>534.0</td>\n",
       "      <td>504.0</td>\n",
       "      <td>completed</td>\n",
       "      <td>7.79</td>\n",
       "      <td>5.0</td>\n",
       "    </tr>\n",
       "  </tbody>\n",
       "</table>\n",
       "<p>3708 rows × 8 columns</p>\n",
       "</div>"
      ],
      "text/plain": [
       "                                  person                          offer_id  \\\n",
       "8       0009655768c64bdeb2e877511632db8f  f19421c1d4aa40978ebb69ca19b0e20d   \n",
       "9       0009655768c64bdeb2e877511632db8f  fafdcd668e3743c1bb461111dcafc2a4   \n",
       "101     0056df74b63b4298809f0b375a304cf4  2298d6c36e964ae4a3e7e9706d1fb8c2   \n",
       "130     00715b6e55c3431cb56ff7307eb19675  0b1e1539f2cc45b7b9fa7c272da2e1d7   \n",
       "132     00715b6e55c3431cb56ff7307eb19675  2906b810c7d4411798c6938adc9daaa5   \n",
       "...                                  ...                               ...   \n",
       "169887  fff29fb549084123bd046dbc5ceb4faa  ae264e3637204a6fb9bb56bc8210ddfd   \n",
       "169888  fff29fb549084123bd046dbc5ceb4faa  f19421c1d4aa40978ebb69ca19b0e20d   \n",
       "169896  fff3ba4757bd42088c044ca26d73817a  9b98b8c7a33c4b65b9aebfe6a799e6d9   \n",
       "169926  fffad4f4828548d1b5583907f2e9906b  9b98b8c7a33c4b65b9aebfe6a799e6d9   \n",
       "169936  ffff82501cea40309d5fdd7edcca4a07  9b98b8c7a33c4b65b9aebfe6a799e6d9   \n",
       "\n",
       "        offer received  offer viewed  offer completed offer_status  amount  \\\n",
       "8                408.0         456.0            414.0    completed    8.57   \n",
       "9                504.0         540.0            528.0    completed   14.11   \n",
       "101              576.0         654.0            576.0    completed   29.77   \n",
       "130              168.0         228.0            210.0    completed   28.73   \n",
       "132              504.0         564.0            534.0    completed   21.35   \n",
       "...                ...           ...              ...          ...     ...   \n",
       "169887             0.0         642.0            168.0    completed   15.16   \n",
       "169888           408.0         438.0            426.0    completed   24.56   \n",
       "169896           168.0         210.0            168.0    completed   22.76   \n",
       "169926           576.0         666.0            588.0    completed   10.98   \n",
       "169936           504.0         534.0            504.0    completed    7.79   \n",
       "\n",
       "        reward  \n",
       "8          5.0  \n",
       "9          2.0  \n",
       "101        3.0  \n",
       "130        5.0  \n",
       "132        2.0  \n",
       "...        ...  \n",
       "169887    10.0  \n",
       "169888     5.0  \n",
       "169896     5.0  \n",
       "169926     5.0  \n",
       "169936     5.0  \n",
       "\n",
       "[3708 rows x 8 columns]"
      ]
     },
     "execution_count": 71,
     "metadata": {},
     "output_type": "execute_result"
    }
   ],
   "source": [
    "df_merged[df_merged['offer viewed'] > df_merged['offer completed']]"
   ]
  },
  {
   "cell_type": "code",
   "execution_count": 72,
   "metadata": {},
   "outputs": [],
   "source": [
    "# Adjusting the incorrect labeling\n",
    "df_merged.loc[df_merged['offer viewed'] > df_merged['offer completed'], 'offer_status'] = 'incomplete'\n",
    "\n",
    "# Test the change\n",
    "assert (df_merged.loc[df_merged['offer viewed'] > df_merged['offer completed'], 'offer_status'] != 'incomplete').sum()  == 0, \"The adjustment failed...\""
   ]
  },
  {
   "cell_type": "markdown",
   "metadata": {},
   "source": [
    "#### `LABELING ADJUSTMENT` Informational offer type\n",
    "In the beginning, we figured that there are two information offers and they only have two possible events: offer received and offer viewed. \n",
    "\n",
    "Therefore, we consider it completed when the two events are made."
   ]
  },
  {
   "cell_type": "code",
   "execution_count": 53,
   "metadata": {},
   "outputs": [
    {
     "data": {
      "text/plain": [
       "['3f207df678b143eea3cee63160fa8bed', '5a8bc65990b245e5a138643cd4eb9837']"
      ]
     },
     "execution_count": 53,
     "metadata": {},
     "output_type": "execute_result"
    }
   ],
   "source": [
    "information_ids"
   ]
  },
  {
   "cell_type": "code",
   "execution_count": 108,
   "metadata": {},
   "outputs": [],
   "source": [
    "# Copy df_merged dataframe\n",
    "temp = df_merged.copy()\n",
    "\n",
    "# Save all records with information offers and those not\n",
    "temp_informational = df_merged.loc[df_merged['offer_id'].isin(information_ids)]\n",
    "temp_transactional = df_merged.loc[~df_merged['offer_id'].isin(information_ids)]\n",
    "\n",
    "# Check if subsetting is done correctly\n",
    "assert temp_informational.shape[0] + temp_transactional.shape[0] == temp.shape[0], \"Wrong subsetting\""
   ]
  },
  {
   "cell_type": "code",
   "execution_count": 109,
   "metadata": {
    "scrolled": true
   },
   "outputs": [],
   "source": [
    "# Slicing data from temp_informational\n",
    "# that have values in offer received and offer viewed columns\n",
    "cond_received = temp_informational['offer received'].notnull()\n",
    "cond_viewed = temp_informational['offer viewed'].notnull()\n",
    "\n",
    "# Adjusting the incorrect labeling\n",
    "temp_informational.loc[cond_viewed & cond_viewed, 'offer_status'] = 'completed'"
   ]
  },
  {
   "cell_type": "code",
   "execution_count": 110,
   "metadata": {},
   "outputs": [],
   "source": [
    "# Check if changed correctly\n",
    "assert (temp_informational.loc[cond_viewed & cond_viewed]['offer_status'] == 'incomplete').sum() == 0, \"Failed adjustment\""
   ]
  },
  {
   "cell_type": "code",
   "execution_count": 115,
   "metadata": {},
   "outputs": [],
   "source": [
    "# Saving the change into the dataframe\n",
    "df_merged_adj = pd.concat([temp_informational, temp_transactional])"
   ]
  },
  {
   "cell_type": "code",
   "execution_count": 140,
   "metadata": {},
   "outputs": [],
   "source": [
    "# If changed correctly save the dataframe\n",
    "df_merged_adj.to_csv('data/transcript_labeled.csv', index=True)"
   ]
  },
  {
   "cell_type": "markdown",
   "metadata": {},
   "source": [
    "---\n",
    "<a id=\"explore-part1\"></a>\n",
    "# `SECTION 3` Exploratory analysis : Part1\n",
    "\n",
    "Here we explore the individual dataset first. In the next section (Part2) we will go a bit more deept with merged datasets. "
   ]
  },
  {
   "cell_type": "code",
   "execution_count": 203,
   "metadata": {},
   "outputs": [],
   "source": [
    "# Load the clean dataset\n",
    "portfolio_v1 = pd.read_csv('data/portfolio_v1.csv')\n",
    "profile_v1 = pd.read_csv('data/profile_v1.csv', parse_dates=True)\n",
    "transcript_v1 = pd.read_csv('data/transcript_v1.csv')\n",
    "transcript_labeled = pd.read_csv('data/transcript_labeled.csv')\n",
    "\n",
    "del transcript_labeled['Unnamed: 0']"
   ]
  },
  {
   "cell_type": "code",
   "execution_count": 143,
   "metadata": {},
   "outputs": [
    {
     "data": {
      "text/html": [
       "<div>\n",
       "<style scoped>\n",
       "    .dataframe tbody tr th:only-of-type {\n",
       "        vertical-align: middle;\n",
       "    }\n",
       "\n",
       "    .dataframe tbody tr th {\n",
       "        vertical-align: top;\n",
       "    }\n",
       "\n",
       "    .dataframe thead th {\n",
       "        text-align: right;\n",
       "    }\n",
       "</style>\n",
       "<table border=\"1\" class=\"dataframe\">\n",
       "  <thead>\n",
       "    <tr style=\"text-align: right;\">\n",
       "      <th></th>\n",
       "      <th>reward</th>\n",
       "      <th>difficulty</th>\n",
       "      <th>duration</th>\n",
       "      <th>offer_type</th>\n",
       "      <th>id</th>\n",
       "      <th>web</th>\n",
       "      <th>email</th>\n",
       "      <th>social</th>\n",
       "      <th>mobile</th>\n",
       "    </tr>\n",
       "  </thead>\n",
       "  <tbody>\n",
       "    <tr>\n",
       "      <th>0</th>\n",
       "      <td>10</td>\n",
       "      <td>10</td>\n",
       "      <td>7</td>\n",
       "      <td>bogo</td>\n",
       "      <td>ae264e3637204a6fb9bb56bc8210ddfd</td>\n",
       "      <td>0</td>\n",
       "      <td>1</td>\n",
       "      <td>1</td>\n",
       "      <td>1</td>\n",
       "    </tr>\n",
       "    <tr>\n",
       "      <th>1</th>\n",
       "      <td>10</td>\n",
       "      <td>10</td>\n",
       "      <td>5</td>\n",
       "      <td>bogo</td>\n",
       "      <td>4d5c57ea9a6940dd891ad53e9dbe8da0</td>\n",
       "      <td>1</td>\n",
       "      <td>1</td>\n",
       "      <td>1</td>\n",
       "      <td>1</td>\n",
       "    </tr>\n",
       "    <tr>\n",
       "      <th>2</th>\n",
       "      <td>0</td>\n",
       "      <td>0</td>\n",
       "      <td>4</td>\n",
       "      <td>informational</td>\n",
       "      <td>3f207df678b143eea3cee63160fa8bed</td>\n",
       "      <td>1</td>\n",
       "      <td>1</td>\n",
       "      <td>0</td>\n",
       "      <td>1</td>\n",
       "    </tr>\n",
       "    <tr>\n",
       "      <th>3</th>\n",
       "      <td>5</td>\n",
       "      <td>5</td>\n",
       "      <td>7</td>\n",
       "      <td>bogo</td>\n",
       "      <td>9b98b8c7a33c4b65b9aebfe6a799e6d9</td>\n",
       "      <td>1</td>\n",
       "      <td>1</td>\n",
       "      <td>0</td>\n",
       "      <td>1</td>\n",
       "    </tr>\n",
       "    <tr>\n",
       "      <th>4</th>\n",
       "      <td>5</td>\n",
       "      <td>20</td>\n",
       "      <td>10</td>\n",
       "      <td>discount</td>\n",
       "      <td>0b1e1539f2cc45b7b9fa7c272da2e1d7</td>\n",
       "      <td>1</td>\n",
       "      <td>1</td>\n",
       "      <td>0</td>\n",
       "      <td>0</td>\n",
       "    </tr>\n",
       "    <tr>\n",
       "      <th>5</th>\n",
       "      <td>3</td>\n",
       "      <td>7</td>\n",
       "      <td>7</td>\n",
       "      <td>discount</td>\n",
       "      <td>2298d6c36e964ae4a3e7e9706d1fb8c2</td>\n",
       "      <td>1</td>\n",
       "      <td>1</td>\n",
       "      <td>1</td>\n",
       "      <td>1</td>\n",
       "    </tr>\n",
       "    <tr>\n",
       "      <th>6</th>\n",
       "      <td>2</td>\n",
       "      <td>10</td>\n",
       "      <td>10</td>\n",
       "      <td>discount</td>\n",
       "      <td>fafdcd668e3743c1bb461111dcafc2a4</td>\n",
       "      <td>1</td>\n",
       "      <td>1</td>\n",
       "      <td>1</td>\n",
       "      <td>1</td>\n",
       "    </tr>\n",
       "    <tr>\n",
       "      <th>7</th>\n",
       "      <td>0</td>\n",
       "      <td>0</td>\n",
       "      <td>3</td>\n",
       "      <td>informational</td>\n",
       "      <td>5a8bc65990b245e5a138643cd4eb9837</td>\n",
       "      <td>0</td>\n",
       "      <td>1</td>\n",
       "      <td>1</td>\n",
       "      <td>1</td>\n",
       "    </tr>\n",
       "    <tr>\n",
       "      <th>8</th>\n",
       "      <td>5</td>\n",
       "      <td>5</td>\n",
       "      <td>5</td>\n",
       "      <td>bogo</td>\n",
       "      <td>f19421c1d4aa40978ebb69ca19b0e20d</td>\n",
       "      <td>1</td>\n",
       "      <td>1</td>\n",
       "      <td>1</td>\n",
       "      <td>1</td>\n",
       "    </tr>\n",
       "    <tr>\n",
       "      <th>9</th>\n",
       "      <td>2</td>\n",
       "      <td>10</td>\n",
       "      <td>7</td>\n",
       "      <td>discount</td>\n",
       "      <td>2906b810c7d4411798c6938adc9daaa5</td>\n",
       "      <td>1</td>\n",
       "      <td>1</td>\n",
       "      <td>0</td>\n",
       "      <td>1</td>\n",
       "    </tr>\n",
       "  </tbody>\n",
       "</table>\n",
       "</div>"
      ],
      "text/plain": [
       "   reward  difficulty  duration     offer_type  \\\n",
       "0      10          10         7           bogo   \n",
       "1      10          10         5           bogo   \n",
       "2       0           0         4  informational   \n",
       "3       5           5         7           bogo   \n",
       "4       5          20        10       discount   \n",
       "5       3           7         7       discount   \n",
       "6       2          10        10       discount   \n",
       "7       0           0         3  informational   \n",
       "8       5           5         5           bogo   \n",
       "9       2          10         7       discount   \n",
       "\n",
       "                                 id  web  email  social  mobile  \n",
       "0  ae264e3637204a6fb9bb56bc8210ddfd    0      1       1       1  \n",
       "1  4d5c57ea9a6940dd891ad53e9dbe8da0    1      1       1       1  \n",
       "2  3f207df678b143eea3cee63160fa8bed    1      1       0       1  \n",
       "3  9b98b8c7a33c4b65b9aebfe6a799e6d9    1      1       0       1  \n",
       "4  0b1e1539f2cc45b7b9fa7c272da2e1d7    1      1       0       0  \n",
       "5  2298d6c36e964ae4a3e7e9706d1fb8c2    1      1       1       1  \n",
       "6  fafdcd668e3743c1bb461111dcafc2a4    1      1       1       1  \n",
       "7  5a8bc65990b245e5a138643cd4eb9837    0      1       1       1  \n",
       "8  f19421c1d4aa40978ebb69ca19b0e20d    1      1       1       1  \n",
       "9  2906b810c7d4411798c6938adc9daaa5    1      1       0       1  "
      ]
     },
     "execution_count": 143,
     "metadata": {},
     "output_type": "execute_result"
    }
   ],
   "source": [
    "portfolio_v1"
   ]
  },
  {
   "cell_type": "markdown",
   "metadata": {},
   "source": [
    "### Offer types"
   ]
  },
  {
   "cell_type": "code",
   "execution_count": 144,
   "metadata": {},
   "outputs": [
    {
     "data": {
      "text/html": [
       "<div>\n",
       "<style scoped>\n",
       "    .dataframe tbody tr th:only-of-type {\n",
       "        vertical-align: middle;\n",
       "    }\n",
       "\n",
       "    .dataframe tbody tr th {\n",
       "        vertical-align: top;\n",
       "    }\n",
       "\n",
       "    .dataframe thead th {\n",
       "        text-align: right;\n",
       "    }\n",
       "</style>\n",
       "<table border=\"1\" class=\"dataframe\">\n",
       "  <thead>\n",
       "    <tr style=\"text-align: right;\">\n",
       "      <th></th>\n",
       "      <th>reward</th>\n",
       "      <th>difficulty</th>\n",
       "      <th>duration</th>\n",
       "      <th>web</th>\n",
       "      <th>email</th>\n",
       "      <th>social</th>\n",
       "      <th>mobile</th>\n",
       "    </tr>\n",
       "    <tr>\n",
       "      <th>offer_type</th>\n",
       "      <th></th>\n",
       "      <th></th>\n",
       "      <th></th>\n",
       "      <th></th>\n",
       "      <th></th>\n",
       "      <th></th>\n",
       "      <th></th>\n",
       "    </tr>\n",
       "  </thead>\n",
       "  <tbody>\n",
       "    <tr>\n",
       "      <th>bogo</th>\n",
       "      <td>7.5</td>\n",
       "      <td>7.50</td>\n",
       "      <td>6.0</td>\n",
       "      <td>0.75</td>\n",
       "      <td>1.0</td>\n",
       "      <td>0.75</td>\n",
       "      <td>1.00</td>\n",
       "    </tr>\n",
       "    <tr>\n",
       "      <th>discount</th>\n",
       "      <td>3.0</td>\n",
       "      <td>11.75</td>\n",
       "      <td>8.5</td>\n",
       "      <td>1.00</td>\n",
       "      <td>1.0</td>\n",
       "      <td>0.50</td>\n",
       "      <td>0.75</td>\n",
       "    </tr>\n",
       "    <tr>\n",
       "      <th>informational</th>\n",
       "      <td>0.0</td>\n",
       "      <td>0.00</td>\n",
       "      <td>3.5</td>\n",
       "      <td>0.50</td>\n",
       "      <td>1.0</td>\n",
       "      <td>0.50</td>\n",
       "      <td>1.00</td>\n",
       "    </tr>\n",
       "  </tbody>\n",
       "</table>\n",
       "</div>"
      ],
      "text/plain": [
       "               reward  difficulty  duration   web  email  social  mobile\n",
       "offer_type                                                              \n",
       "bogo              7.5        7.50       6.0  0.75    1.0    0.75    1.00\n",
       "discount          3.0       11.75       8.5  1.00    1.0    0.50    0.75\n",
       "informational     0.0        0.00       3.5  0.50    1.0    0.50    1.00"
      ]
     },
     "execution_count": 144,
     "metadata": {},
     "output_type": "execute_result"
    }
   ],
   "source": [
    "portfolio_v1.groupby('offer_type').mean()"
   ]
  },
  {
   "cell_type": "code",
   "execution_count": 145,
   "metadata": {},
   "outputs": [
    {
     "data": {
      "image/png": "[encoded data removed]",
      "text/plain": [
       "<Figure size 864x288 with 4 Axes>"
      ]
     },
     "metadata": {
      "needs_background": "light"
     },
     "output_type": "display_data"
    }
   ],
   "source": [
    "fig, (ax1, ax2) = plt.subplots(1,2, figsize=(12,4))\n",
    "\n",
    "sns.heatmap(portfolio_v1.iloc[:, :5].groupby('offer_type').mean().T, \n",
    "            annot=True, fmt='.2f', cmap='Oranges', ax=ax1);\n",
    "sns.heatmap(portfolio_v1.iloc[:, 3:].groupby('offer_type').mean().T, \n",
    "            annot=True, fmt='.2f', cmap='Blues', ax=ax2);\n",
    "\n",
    "ax1.set(title ='How does each offer type look?');\n",
    "ax2.set(title ='Which channel does each offer use?');"
   ]
  },
  {
   "cell_type": "markdown",
   "metadata": {},
   "source": [
    "`discount` offer requires the highest minium spends to get but has the longest duration, assuming customers feel the influence longer that the others. Regardless of offer type, `email` is always used when communicating the offer. `bogo` offer uses the widest number of channels. \n",
    "\n",
    "The analysis will be more meaningful when offer type is explored together with customer profile and transction data, which will be done later after mering the dataset."
   ]
  },
  {
   "cell_type": "markdown",
   "metadata": {},
   "source": [
    "###  Demographics"
   ]
  },
  {
   "cell_type": "code",
   "execution_count": 146,
   "metadata": {},
   "outputs": [
    {
     "data": {
      "text/plain": [
       "14825"
      ]
     },
     "execution_count": 146,
     "metadata": {},
     "output_type": "execute_result"
    }
   ],
   "source": [
    "profile_v1.shape[0] # total 14825 unique demographic data"
   ]
  },
  {
   "cell_type": "code",
   "execution_count": 147,
   "metadata": {},
   "outputs": [
    {
     "data": {
      "text/html": [
       "<div>\n",
       "<style scoped>\n",
       "    .dataframe tbody tr th:only-of-type {\n",
       "        vertical-align: middle;\n",
       "    }\n",
       "\n",
       "    .dataframe tbody tr th {\n",
       "        vertical-align: top;\n",
       "    }\n",
       "\n",
       "    .dataframe thead th {\n",
       "        text-align: right;\n",
       "    }\n",
       "</style>\n",
       "<table border=\"1\" class=\"dataframe\">\n",
       "  <thead>\n",
       "    <tr style=\"text-align: right;\">\n",
       "      <th></th>\n",
       "      <th>gender</th>\n",
       "      <th>age</th>\n",
       "      <th>id</th>\n",
       "      <th>became_member_on</th>\n",
       "      <th>income</th>\n",
       "    </tr>\n",
       "  </thead>\n",
       "  <tbody>\n",
       "    <tr>\n",
       "      <th>0</th>\n",
       "      <td>F</td>\n",
       "      <td>55</td>\n",
       "      <td>0610b486422d4921ae7d2bf64640c50b</td>\n",
       "      <td>2017-07-15</td>\n",
       "      <td>112000.0</td>\n",
       "    </tr>\n",
       "    <tr>\n",
       "      <th>1</th>\n",
       "      <td>F</td>\n",
       "      <td>75</td>\n",
       "      <td>78afa995795e4d85b5d9ceeca43f5fef</td>\n",
       "      <td>2017-05-09</td>\n",
       "      <td>100000.0</td>\n",
       "    </tr>\n",
       "    <tr>\n",
       "      <th>2</th>\n",
       "      <td>M</td>\n",
       "      <td>68</td>\n",
       "      <td>e2127556f4f64592b11af22de27a7932</td>\n",
       "      <td>2018-04-26</td>\n",
       "      <td>70000.0</td>\n",
       "    </tr>\n",
       "    <tr>\n",
       "      <th>3</th>\n",
       "      <td>M</td>\n",
       "      <td>65</td>\n",
       "      <td>389bc3fa690240e798340f5a15918d5c</td>\n",
       "      <td>2018-02-09</td>\n",
       "      <td>53000.0</td>\n",
       "    </tr>\n",
       "    <tr>\n",
       "      <th>4</th>\n",
       "      <td>M</td>\n",
       "      <td>58</td>\n",
       "      <td>2eeac8d8feae4a8cad5a6af0499a211d</td>\n",
       "      <td>2017-11-11</td>\n",
       "      <td>51000.0</td>\n",
       "    </tr>\n",
       "  </tbody>\n",
       "</table>\n",
       "</div>"
      ],
      "text/plain": [
       "  gender  age                                id became_member_on    income\n",
       "0      F   55  0610b486422d4921ae7d2bf64640c50b       2017-07-15  112000.0\n",
       "1      F   75  78afa995795e4d85b5d9ceeca43f5fef       2017-05-09  100000.0\n",
       "2      M   68  e2127556f4f64592b11af22de27a7932       2018-04-26   70000.0\n",
       "3      M   65  389bc3fa690240e798340f5a15918d5c       2018-02-09   53000.0\n",
       "4      M   58  2eeac8d8feae4a8cad5a6af0499a211d       2017-11-11   51000.0"
      ]
     },
     "execution_count": 147,
     "metadata": {},
     "output_type": "execute_result"
    }
   ],
   "source": [
    "profile_v1.head()"
   ]
  },
  {
   "cell_type": "code",
   "execution_count": 148,
   "metadata": {},
   "outputs": [],
   "source": [
    "# It looks that 'became_member_on' is still object... \n",
    "# Convert to datetime object\n",
    "profile_v1['became_member_on'] = pd.to_datetime(profile_v1['became_member_on'])"
   ]
  },
  {
   "cell_type": "code",
   "execution_count": 149,
   "metadata": {},
   "outputs": [
    {
     "data": {
      "image/png": "[encoded data removed]",
      "text/plain": [
       "<Figure size 864x576 with 4 Axes>"
      ]
     },
     "metadata": {
      "needs_background": "light"
     },
     "output_type": "display_data"
    }
   ],
   "source": [
    "base_color = sns.color_palette()[0]\n",
    "\n",
    "fig, axes = plt.subplots(2, 2, figsize=(12,8))\n",
    "\n",
    "fig1 = sns.countplot(x=profile_v1.gender, ax=axes[0,0], color=base_color)\n",
    "fig2 = sns.countplot(x=profile_v1.became_member_on.dt.year, ax=axes[0,1], color=base_color)\n",
    "fig3 = sns.histplot(x=profile_v1.age, binwidth=5, ax=axes[1,0])\n",
    "fig4 = sns.histplot(x=profile_v1.income, binwidth=5000, ax=axes[1,1])\n",
    "\n",
    "fig1.set(title='Count by gender', xlabel='', ylabel='')\n",
    "fig2.set(title='Count of new members by years', xlabel='', ylabel='')\n",
    "fig3.set(title='Age distribution of members', xlabel='', ylabel='')\n",
    "fig4.set(title='Income distribution of members\\n(unit: US dollars)', xlabel='', ylabel='')\n",
    "\n",
    "plt.tight_layout(pad=3.5)\n",
    "plt.show()"
   ]
  },
  {
   "cell_type": "code",
   "execution_count": 150,
   "metadata": {},
   "outputs": [
    {
     "data": {
      "text/plain": [
       "M    0.572277\n",
       "F    0.413423\n",
       "O    0.014300\n",
       "Name: gender, dtype: float64"
      ]
     },
     "execution_count": 150,
     "metadata": {},
     "output_type": "execute_result"
    }
   ],
   "source": [
    "# Percentage of male, female and others\n",
    "profile_v1.gender.value_counts() / profile_v1.shape[0]"
   ]
  },
  {
   "cell_type": "code",
   "execution_count": 151,
   "metadata": {},
   "outputs": [
    {
     "data": {
      "text/plain": [
       "count    14825.000000\n",
       "mean        54.393524\n",
       "std         17.383705\n",
       "min         18.000000\n",
       "25%         42.000000\n",
       "50%         55.000000\n",
       "75%         66.000000\n",
       "max        101.000000\n",
       "Name: age, dtype: float64"
      ]
     },
     "execution_count": 151,
     "metadata": {},
     "output_type": "execute_result"
    }
   ],
   "source": [
    "# Summary statistics for age\n",
    "profile_v1.age.describe()"
   ]
  },
  {
   "cell_type": "code",
   "execution_count": 152,
   "metadata": {},
   "outputs": [
    {
     "data": {
      "text/plain": [
       "count     14825.000000\n",
       "mean      65404.991568\n",
       "std       21598.299410\n",
       "min       30000.000000\n",
       "25%       49000.000000\n",
       "50%       64000.000000\n",
       "75%       80000.000000\n",
       "max      120000.000000\n",
       "Name: income, dtype: float64"
      ]
     },
     "execution_count": 152,
     "metadata": {},
     "output_type": "execute_result"
    }
   ],
   "source": [
    "# Summary statistics for income\n",
    "profile_v1.income.describe()"
   ]
  },
  {
   "cell_type": "markdown",
   "metadata": {},
   "source": [
    "**Gender:** based on this dataset, male customers accounts for 57% of total, more than female (or others). \n",
    "\n",
    "**Date:** The growth of new members has increased over time, but it may need better comparison against other metrics like the total visitor volume to validate the organic growth. Also, the data collection period is not clear so 2013 and 2018 data may be biased. \n",
    "\n",
    "**Age:** The minimum age is 18 which may be due to age restriction for members. With the median of 55, 50% of the members fall into interquartile range is between 42 and 66. There are some members above 100, which may be true or caused by survey error.\n",
    "\n",
    "**Income:** Median income is $64,000. The distribution is skewed to the right which seems natural for income distribution."
   ]
  },
  {
   "cell_type": "markdown",
   "metadata": {},
   "source": [
    "### Offer completion\n",
    "Using the cleaned, pivoted dataframe saved in transcript_labeled.csv"
   ]
  },
  {
   "cell_type": "code",
   "execution_count": 153,
   "metadata": {},
   "outputs": [
    {
     "data": {
      "text/plain": [
       "16994"
      ]
     },
     "execution_count": 153,
     "metadata": {},
     "output_type": "execute_result"
    }
   ],
   "source": [
    "# Number of unique customers\n",
    "transcript_labeled.person.nunique() "
   ]
  },
  {
   "cell_type": "code",
   "execution_count": 154,
   "metadata": {},
   "outputs": [
    {
     "data": {
      "text/plain": [
       "10"
      ]
     },
     "execution_count": 154,
     "metadata": {},
     "output_type": "execute_result"
    }
   ],
   "source": [
    "# Number of unique offers should be 10\n",
    "transcript_labeled.offer_id.nunique() "
   ]
  },
  {
   "cell_type": "code",
   "execution_count": 164,
   "metadata": {
    "scrolled": false
   },
   "outputs": [
    {
     "data": {
      "image/png": "[encoded data removed]",
      "text/plain": [
       "<Figure size 864x288 with 2 Axes>"
      ]
     },
     "metadata": {
      "needs_background": "light"
     },
     "output_type": "display_data"
    }
   ],
   "source": [
    "fig, (ax1, ax2) = plt.subplots(1,2, figsize=(12,4))\n",
    "\n",
    "fig1 = sns.countplot(x=transcript_labeled.offer_status, ax=ax1);\n",
    "\n",
    "# Proportion of offer completion over total sent\n",
    "offer_sent = transcript_labeled[transcript_labeled.offer_status != 'unsent'].offer_status.value_counts()\n",
    "fig2 = plt.bar(x=offer_sent.index, height=offer_sent.values / offer_sent.values.sum() * 100);\n",
    "\n",
    "ax1.set_title('Counts by Offer Status');\n",
    "ax2.set(title='Number of Offer Completion', ylabel='% total', xlabel='offer status');\n",
    "ax2.set_yticks(np.arange(0, 70+10, 10))\n",
    "ax2.set_yticklabels(np.arange(0, 70+10, 10))\n",
    "\n",
    "plt.show()"
   ]
  },
  {
   "cell_type": "code",
   "execution_count": 181,
   "metadata": {},
   "outputs": [
    {
     "data": {
      "text/plain": [
       "unsent        0.627586\n",
       "incomplete    0.195522\n",
       "completed     0.176892\n",
       "Name: offer_status, dtype: float64"
      ]
     },
     "execution_count": 181,
     "metadata": {},
     "output_type": "execute_result"
    }
   ],
   "source": [
    "transcript_labeled['offer_status'].value_counts() / transcript_labeled.shape[0]"
   ]
  },
  {
   "cell_type": "code",
   "execution_count": 182,
   "metadata": {},
   "outputs": [
    {
     "data": {
      "text/plain": [
       "incomplete    0.525013\n",
       "completed     0.474987\n",
       "Name: offer_status, dtype: float64"
      ]
     },
     "execution_count": 182,
     "metadata": {},
     "output_type": "execute_result"
    }
   ],
   "source": [
    "offer_sent / offer_sent.sum()"
   ]
  },
  {
   "cell_type": "markdown",
   "metadata": {},
   "source": [
    "16,994 unique customers and 10 unique offers are represented in this dataset, which gives 169,940 total mix of possible offers. Around 63% offers are `unsent`, most likely because it was identified that offers do not fulfill the needs of specific customers or the opportunity was misinterpreted and therefore missed, which is the gap that we need to fill in this analysis. \n",
    "\n",
    "When considering those offers that were actually sent, about 52% turned out incomplete, which means offers did not influenced customers to purchase."
   ]
  },
  {
   "cell_type": "code",
   "execution_count": 180,
   "metadata": {},
   "outputs": [
    {
     "data": {
      "image/png": "[encoded data removed]",
      "text/plain": [
       "<Figure size 864x288 with 2 Axes>"
      ]
     },
     "metadata": {
      "needs_background": "light"
     },
     "output_type": "display_data"
    }
   ],
   "source": [
    "# Get subset data for informational and transactional offers\n",
    "informational_ids = portfolio_v1.loc[portfolio_v1['offer_type'] == 'informational', 'id'].to_list()\n",
    "\n",
    "transcript_infos = transcript_labeled[transcript_labeled['offer_id'].isin(informational_ids)]\n",
    "transcript_trans = transcript_labeled[~transcript_labeled['offer_id'].isin(informational_ids)]\n",
    "\n",
    "# Visualization\n",
    "fig, (ax1, ax2) = plt.subplots(1,2, figsize=(12,4), sharey=True)\n",
    "\n",
    "# Set order for plots\n",
    "status_order = ['unsent', 'incomplete', 'completed']\n",
    "\n",
    "fig1 = sns.countplot(x=transcript_infos.offer_status, ax=ax1, order=status_order);\n",
    "fig2 = sns.countplot(x=transcript_trans.offer_status, ax=ax2, order=status_order);\n",
    "\n",
    "ax1.set_title('Offer completion for information offers');\n",
    "ax2.set_title('Offer completion for transactional offers');\n",
    "ax2.set(ylabel='')\n",
    "\n",
    "plt.show()"
   ]
  },
  {
   "cell_type": "markdown",
   "metadata": {},
   "source": [
    "In the split data, offer completion is relatively higher than incompletion for informational offers."
   ]
  },
  {
   "cell_type": "markdown",
   "metadata": {},
   "source": [
    "### Purchased but incomplete offers\n",
    "Earlier it was identified that there are some offers incorrectly marked completed without customers actually viewing them. From the business perspective, this group of customers are not influenced by offers when purchasing products, it may not be a good idea to send offers. "
   ]
  },
  {
   "cell_type": "code",
   "execution_count": 184,
   "metadata": {},
   "outputs": [
    {
     "name": "stdout",
     "output_type": "stream",
     "text": [
      "# offer incomplete (total): 33227\n",
      "# offer incomplete but purchased: 8244\n",
      "# offer incomplete and viewed after purchase: 3708\n"
     ]
    }
   ],
   "source": [
    "# Creating some conditions\n",
    "cond_purchased = transcript_labeled.amount.notnull()\n",
    "cond_incomplete = transcript_labeled.offer_status == 'incomplete'\n",
    "cond_viewed = transcript_labeled['offer viewed'].notnull()\n",
    "\n",
    "print(f'# offer incomplete (total): {transcript_labeled[cond_incomplete].shape[0]}')\n",
    "print(f'# offer incomplete but purchased: {transcript_labeled[cond_incomplete & cond_purchased].shape[0]}')\n",
    "print(f'# offer incomplete and viewed after purchase: {transcript_labeled[cond_incomplete & cond_purchased & cond_viewed].shape[0]}')"
   ]
  },
  {
   "cell_type": "markdown",
   "metadata": {},
   "source": [
    "### Purchased amounts and rewards"
   ]
  },
  {
   "cell_type": "code",
   "execution_count": 185,
   "metadata": {},
   "outputs": [
    {
     "data": {
      "text/plain": [
       "count    28996.000000\n",
       "mean        20.388305\n",
       "std         39.952649\n",
       "min          0.150000\n",
       "25%         10.817500\n",
       "50%         16.610000\n",
       "75%         23.390000\n",
       "max       1015.730000\n",
       "Name: amount, dtype: float64"
      ]
     },
     "execution_count": 185,
     "metadata": {},
     "output_type": "execute_result"
    }
   ],
   "source": [
    "transcript_labeled.amount.describe()"
   ]
  },
  {
   "cell_type": "code",
   "execution_count": 186,
   "metadata": {},
   "outputs": [
    {
     "data": {
      "image/png": "[encoded data removed]",
      "text/plain": [
       "<Figure size 864x288 with 2 Axes>"
      ]
     },
     "metadata": {
      "needs_background": "light"
     },
     "output_type": "display_data"
    }
   ],
   "source": [
    "# Two box plot graphs \n",
    "# fig1: incomplete but putchased, fig2: completed\n",
    "\n",
    "fig, (ax1, ax2) = plt.subplots(1, 2, figsize=(12,4))\n",
    "fig1 = sns.boxplot(x=transcript_labeled[cond_incomplete].amount, ax=ax1);\n",
    "fig2 = sns.boxplot(x=transcript_labeled[~cond_incomplete].amount, ax=ax2);\n",
    "\n",
    "ax1.set(title='Summary statistics of purchased amount\\n(incomplete offers)', xlabel='amount ($)', ylabel='')\n",
    "ax2.set(title='Summary statistics of purchased amount\\n(completed offers)', xlabel='amount ($)', ylabel='')\n",
    "\n",
    "plt.show()"
   ]
  },
  {
   "cell_type": "markdown",
   "metadata": {},
   "source": [
    "Purchase amount varies from 15 cents to 1015 dollars, while 75% fall below 23.39 dollars per receipt. Now let's see visualizations after removing outliers. Outliers here are difined as observations that are outside 1.5 x interquantile range below Q1 and above Q3."
   ]
  },
  {
   "cell_type": "code",
   "execution_count": 187,
   "metadata": {},
   "outputs": [
    {
     "data": {
      "image/png": "[encoded data removed]",
      "text/plain": [
       "<Figure size 720x432 with 2 Axes>"
      ]
     },
     "metadata": {
      "needs_background": "light"
     },
     "output_type": "display_data"
    }
   ],
   "source": [
    "# Prepare for statistics\n",
    "Q1_purchased = transcript_labeled.amount.describe()['25%']\n",
    "Q3_purchased = transcript_labeled.amount.describe()['75%']\n",
    "IQR_purchased = Q3_purchased - Q1_purchased\n",
    "outlier_lower = Q1_purchased - 1.5 * IQR_purchased\n",
    "outlier_upper = Q3_purchased + 1.5 * IQR_purchased\n",
    "\n",
    "# Two box plot graphs \n",
    "# fig1: incomplete but putchased, fig2: completed\n",
    "\n",
    "fig, (ax1, ax2) = plt.subplots(2, 1, figsize=(10,6), sharex=True)\n",
    "fig1 = sns.boxplot(x=transcript_labeled[cond_incomplete].amount, ax=ax1);\n",
    "fig2 = sns.boxplot(x=transcript_labeled[~cond_incomplete].amount, ax=ax2);\n",
    "\n",
    "ax1.set(title='Summary statistics of purchased amount\\n(incomplete offers)',xlabel='', ylabel='')\n",
    "ax2.set(title='(completed offers)', xlabel='', ylabel='')\n",
    "\n",
    "ax1.set_xticks(np.arange(0, 100, 5))\n",
    "ax1.set_xticklabels([f'${str(n)}' for n in np.arange(0, 100, 5)])\n",
    "ax1.set_xlim(outlier_lower, outlier_upper+5)\n",
    "\n",
    "plt.tight_layout(pad=3)\n",
    "\n",
    "plt.show()"
   ]
  },
  {
   "cell_type": "markdown",
   "metadata": {},
   "source": [
    "Those customers who purchased products without viewing offers have slightly higher spends when compared with those purchases influenced by others. It is self-explanatory as completed offers should have some discounts applied to them. "
   ]
  },
  {
   "cell_type": "markdown",
   "metadata": {},
   "source": [
    "<a id=\"explore-part2\"></a>\n",
    "# `Section4` Exploratory analysis - Part2\n",
    "\n",
    "In this section, we would like to go deeper into offer completion by offer type and demographics. In order to do this, we will merge the datasets."
   ]
  },
  {
   "cell_type": "markdown",
   "metadata": {},
   "source": [
    "## Prepare the subset data\n",
    "`unsent` offer status does not clearly show if customers completed offers or not, so we will subset those offers that customers actually received."
   ]
  },
  {
   "cell_type": "code",
   "execution_count": 228,
   "metadata": {},
   "outputs": [],
   "source": [
    "# Get all records that were sent\n",
    "offer_sent = transcript_labeled[transcript_labeled['offer_status'] != 'unsent']"
   ]
  },
  {
   "cell_type": "markdown",
   "metadata": {},
   "source": [
    "## Offer completion by offer type"
   ]
  },
  {
   "cell_type": "code",
   "execution_count": 189,
   "metadata": {
    "scrolled": true
   },
   "outputs": [
    {
     "data": {
      "text/html": [
       "<div>\n",
       "<style scoped>\n",
       "    .dataframe tbody tr th:only-of-type {\n",
       "        vertical-align: middle;\n",
       "    }\n",
       "\n",
       "    .dataframe tbody tr th {\n",
       "        vertical-align: top;\n",
       "    }\n",
       "\n",
       "    .dataframe thead th {\n",
       "        text-align: right;\n",
       "    }\n",
       "</style>\n",
       "<table border=\"1\" class=\"dataframe\">\n",
       "  <thead>\n",
       "    <tr style=\"text-align: right;\">\n",
       "      <th>offer_status</th>\n",
       "      <th>completed</th>\n",
       "      <th>incomplete</th>\n",
       "    </tr>\n",
       "    <tr>\n",
       "      <th>offer_id</th>\n",
       "      <th></th>\n",
       "      <th></th>\n",
       "    </tr>\n",
       "  </thead>\n",
       "  <tbody>\n",
       "    <tr>\n",
       "      <th>0b1e1539f2cc45b7b9fa7c272da2e1d7</th>\n",
       "      <td>1207</td>\n",
       "      <td>5167</td>\n",
       "    </tr>\n",
       "    <tr>\n",
       "      <th>2298d6c36e964ae4a3e7e9706d1fb8c2</th>\n",
       "      <td>3820</td>\n",
       "      <td>2505</td>\n",
       "    </tr>\n",
       "    <tr>\n",
       "      <th>2906b810c7d4411798c6938adc9daaa5</th>\n",
       "      <td>1891</td>\n",
       "      <td>4394</td>\n",
       "    </tr>\n",
       "    <tr>\n",
       "      <th>3f207df678b143eea3cee63160fa8bed</th>\n",
       "      <td>3635</td>\n",
       "      <td>2696</td>\n",
       "    </tr>\n",
       "    <tr>\n",
       "      <th>4d5c57ea9a6940dd891ad53e9dbe8da0</th>\n",
       "      <td>2436</td>\n",
       "      <td>3894</td>\n",
       "    </tr>\n",
       "    <tr>\n",
       "      <th>5a8bc65990b245e5a138643cd4eb9837</th>\n",
       "      <td>5674</td>\n",
       "      <td>646</td>\n",
       "    </tr>\n",
       "    <tr>\n",
       "      <th>9b98b8c7a33c4b65b9aebfe6a799e6d9</th>\n",
       "      <td>1922</td>\n",
       "      <td>4433</td>\n",
       "    </tr>\n",
       "    <tr>\n",
       "      <th>ae264e3637204a6fb9bb56bc8210ddfd</th>\n",
       "      <td>2314</td>\n",
       "      <td>4060</td>\n",
       "    </tr>\n",
       "    <tr>\n",
       "      <th>f19421c1d4aa40978ebb69ca19b0e20d</th>\n",
       "      <td>3129</td>\n",
       "      <td>3133</td>\n",
       "    </tr>\n",
       "    <tr>\n",
       "      <th>fafdcd668e3743c1bb461111dcafc2a4</th>\n",
       "      <td>4033</td>\n",
       "      <td>2299</td>\n",
       "    </tr>\n",
       "  </tbody>\n",
       "</table>\n",
       "</div>"
      ],
      "text/plain": [
       "offer_status                      completed  incomplete\n",
       "offer_id                                               \n",
       "0b1e1539f2cc45b7b9fa7c272da2e1d7       1207        5167\n",
       "2298d6c36e964ae4a3e7e9706d1fb8c2       3820        2505\n",
       "2906b810c7d4411798c6938adc9daaa5       1891        4394\n",
       "3f207df678b143eea3cee63160fa8bed       3635        2696\n",
       "4d5c57ea9a6940dd891ad53e9dbe8da0       2436        3894\n",
       "5a8bc65990b245e5a138643cd4eb9837       5674         646\n",
       "9b98b8c7a33c4b65b9aebfe6a799e6d9       1922        4433\n",
       "ae264e3637204a6fb9bb56bc8210ddfd       2314        4060\n",
       "f19421c1d4aa40978ebb69ca19b0e20d       3129        3133\n",
       "fafdcd668e3743c1bb461111dcafc2a4       4033        2299"
      ]
     },
     "execution_count": 189,
     "metadata": {},
     "output_type": "execute_result"
    }
   ],
   "source": [
    "completion_by_offer = offer_sent.groupby(['offer_id', 'offer_status']).size().unstack()\n",
    "completion_by_offer"
   ]
  },
  {
   "cell_type": "code",
   "execution_count": 190,
   "metadata": {},
   "outputs": [],
   "source": [
    "# Compute completion rate\n",
    "completion_by_offer['completion_rate'] = completion_by_offer['completed'] / completion_by_offer.sum(axis=1).values\n",
    "completion_by_offer['incompletion_rate'] = completion_by_offer['incomplete'] / completion_by_offer.sum(axis=1).values"
   ]
  },
  {
   "cell_type": "code",
   "execution_count": 191,
   "metadata": {},
   "outputs": [],
   "source": [
    "# Sort by completed rate\n",
    "completion_by_offer.sort_values('completion_rate', ascending=False, inplace=True)"
   ]
  },
  {
   "cell_type": "code",
   "execution_count": 192,
   "metadata": {
    "scrolled": true
   },
   "outputs": [],
   "source": [
    "# Merge the data sets\n",
    "completion_by_offer = pd.merge(completion_by_offer, portfolio_v1, left_on='offer_id', right_on='id', how='left')"
   ]
  },
  {
   "cell_type": "code",
   "execution_count": 193,
   "metadata": {},
   "outputs": [
    {
     "data": {
      "text/html": [
       "<div>\n",
       "<style scoped>\n",
       "    .dataframe tbody tr th:only-of-type {\n",
       "        vertical-align: middle;\n",
       "    }\n",
       "\n",
       "    .dataframe tbody tr th {\n",
       "        vertical-align: top;\n",
       "    }\n",
       "\n",
       "    .dataframe thead th {\n",
       "        text-align: right;\n",
       "    }\n",
       "</style>\n",
       "<table border=\"1\" class=\"dataframe\">\n",
       "  <thead>\n",
       "    <tr style=\"text-align: right;\">\n",
       "      <th></th>\n",
       "      <th>completed</th>\n",
       "      <th>incomplete</th>\n",
       "      <th>completion_rate</th>\n",
       "      <th>incompletion_rate</th>\n",
       "      <th>reward</th>\n",
       "      <th>difficulty</th>\n",
       "      <th>duration</th>\n",
       "      <th>offer_type</th>\n",
       "      <th>id</th>\n",
       "      <th>web</th>\n",
       "      <th>email</th>\n",
       "      <th>social</th>\n",
       "      <th>mobile</th>\n",
       "    </tr>\n",
       "  </thead>\n",
       "  <tbody>\n",
       "    <tr>\n",
       "      <th>0</th>\n",
       "      <td>5674</td>\n",
       "      <td>646</td>\n",
       "      <td>0.897785</td>\n",
       "      <td>0.102201</td>\n",
       "      <td>0</td>\n",
       "      <td>0</td>\n",
       "      <td>3</td>\n",
       "      <td>informational</td>\n",
       "      <td>5a8bc65990b245e5a138643cd4eb9837</td>\n",
       "      <td>0</td>\n",
       "      <td>1</td>\n",
       "      <td>1</td>\n",
       "      <td>1</td>\n",
       "    </tr>\n",
       "    <tr>\n",
       "      <th>1</th>\n",
       "      <td>4033</td>\n",
       "      <td>2299</td>\n",
       "      <td>0.636924</td>\n",
       "      <td>0.363040</td>\n",
       "      <td>2</td>\n",
       "      <td>10</td>\n",
       "      <td>10</td>\n",
       "      <td>discount</td>\n",
       "      <td>fafdcd668e3743c1bb461111dcafc2a4</td>\n",
       "      <td>1</td>\n",
       "      <td>1</td>\n",
       "      <td>1</td>\n",
       "      <td>1</td>\n",
       "    </tr>\n",
       "    <tr>\n",
       "      <th>2</th>\n",
       "      <td>3820</td>\n",
       "      <td>2505</td>\n",
       "      <td>0.603953</td>\n",
       "      <td>0.396010</td>\n",
       "      <td>3</td>\n",
       "      <td>7</td>\n",
       "      <td>7</td>\n",
       "      <td>discount</td>\n",
       "      <td>2298d6c36e964ae4a3e7e9706d1fb8c2</td>\n",
       "      <td>1</td>\n",
       "      <td>1</td>\n",
       "      <td>1</td>\n",
       "      <td>1</td>\n",
       "    </tr>\n",
       "  </tbody>\n",
       "</table>\n",
       "</div>"
      ],
      "text/plain": [
       "   completed  incomplete  completion_rate  incompletion_rate  reward  \\\n",
       "0       5674         646         0.897785           0.102201       0   \n",
       "1       4033        2299         0.636924           0.363040       2   \n",
       "2       3820        2505         0.603953           0.396010       3   \n",
       "\n",
       "   difficulty  duration     offer_type                                id  web  \\\n",
       "0           0         3  informational  5a8bc65990b245e5a138643cd4eb9837    0   \n",
       "1          10        10       discount  fafdcd668e3743c1bb461111dcafc2a4    1   \n",
       "2           7         7       discount  2298d6c36e964ae4a3e7e9706d1fb8c2    1   \n",
       "\n",
       "   email  social  mobile  \n",
       "0      1       1       1  \n",
       "1      1       1       1  \n",
       "2      1       1       1  "
      ]
     },
     "execution_count": 193,
     "metadata": {},
     "output_type": "execute_result"
    }
   ],
   "source": [
    "# Confirm if correctly merged\n",
    "assert completion_by_offer.shape[0] == 10, \"The resulting dataframe is not merged successfully \"\n",
    "\n",
    "completion_by_offer.head(3) "
   ]
  },
  {
   "cell_type": "code",
   "execution_count": 194,
   "metadata": {
    "scrolled": true
   },
   "outputs": [],
   "source": [
    "# Get more intuitive offer names with mix of values\n",
    "\n",
    "def get_offer_name(df, cols):\n",
    "    ''' Concatenate cell data from a dataframe to formulate a unique offer name\n",
    "    For example, if input cols are 'offer_type', 'reward', 'difficulty', 'duration'\n",
    "    and respective values are 'discount', 2, 10, 10, returning name will be disc021010\n",
    "    \n",
    "    INPUT: \n",
    "        df: a dataframe that contains information for offer names \n",
    "            i.e. 'offer_type', 'reward', 'difficulty', 'duration'\n",
    "        cols: columns that values will be extracted from\n",
    "        \n",
    "    OUTPUT: \n",
    "        a list of unique offer name\n",
    "    \n",
    "    '''\n",
    "    \n",
    "    # Get the subset of data needed\n",
    "    df_subset = df[cols]\n",
    "    \n",
    "    # Instantiate a list of offer names\n",
    "    offer_names = list()\n",
    "    \n",
    "    # Iterate by row\n",
    "    for idx, values in df_subset.iterrows():\n",
    "        \n",
    "        # Instantiate name\n",
    "        name = ''\n",
    "        \n",
    "        for item in values:\n",
    "            # If item is string, get the first 4 letters\n",
    "            if type(item) == str:\n",
    "                item = item[:4]\n",
    "            \n",
    "            # If item is integer, check if the value < 10, \n",
    "            # then add '0' in front and transform it to string\n",
    "            if type(item) == int and item < 10:\n",
    "                item = '0' + str(item)\n",
    "            else:\n",
    "                item = str(item)\n",
    "            \n",
    "            # Concatenate item \n",
    "            name += item\n",
    "        \n",
    "        # Add completed name to a list of offer names\n",
    "        offer_names.append(name)\n",
    "        \n",
    "        \n",
    "    return offer_names\n",
    "            "
   ]
  },
  {
   "cell_type": "code",
   "execution_count": 195,
   "metadata": {},
   "outputs": [],
   "source": [
    "col_names = ['offer_type', 'reward', 'difficulty', 'duration']\n",
    "\n",
    "# Add the offer names to the dataframe and set it as an index\n",
    "completion_by_offer['offer_name'] = get_offer_name(completion_by_offer, col_names)\n",
    "completion_by_offer.set_index('offer_name', inplace=True)"
   ]
  },
  {
   "cell_type": "code",
   "execution_count": 196,
   "metadata": {},
   "outputs": [
    {
     "data": {
      "text/html": [
       "<div>\n",
       "<style scoped>\n",
       "    .dataframe tbody tr th:only-of-type {\n",
       "        vertical-align: middle;\n",
       "    }\n",
       "\n",
       "    .dataframe tbody tr th {\n",
       "        vertical-align: top;\n",
       "    }\n",
       "\n",
       "    .dataframe thead th {\n",
       "        text-align: right;\n",
       "    }\n",
       "</style>\n",
       "<table border=\"1\" class=\"dataframe\">\n",
       "  <thead>\n",
       "    <tr style=\"text-align: right;\">\n",
       "      <th></th>\n",
       "      <th>completed</th>\n",
       "      <th>incomplete</th>\n",
       "      <th>completion_rate</th>\n",
       "      <th>incompletion_rate</th>\n",
       "      <th>reward</th>\n",
       "      <th>difficulty</th>\n",
       "      <th>duration</th>\n",
       "      <th>offer_type</th>\n",
       "      <th>id</th>\n",
       "      <th>web</th>\n",
       "      <th>email</th>\n",
       "      <th>social</th>\n",
       "      <th>mobile</th>\n",
       "    </tr>\n",
       "    <tr>\n",
       "      <th>offer_name</th>\n",
       "      <th></th>\n",
       "      <th></th>\n",
       "      <th></th>\n",
       "      <th></th>\n",
       "      <th></th>\n",
       "      <th></th>\n",
       "      <th></th>\n",
       "      <th></th>\n",
       "      <th></th>\n",
       "      <th></th>\n",
       "      <th></th>\n",
       "      <th></th>\n",
       "      <th></th>\n",
       "    </tr>\n",
       "  </thead>\n",
       "  <tbody>\n",
       "    <tr>\n",
       "      <th>info000003</th>\n",
       "      <td>5674</td>\n",
       "      <td>646</td>\n",
       "      <td>0.897785</td>\n",
       "      <td>0.102201</td>\n",
       "      <td>0</td>\n",
       "      <td>0</td>\n",
       "      <td>3</td>\n",
       "      <td>informational</td>\n",
       "      <td>5a8bc65990b245e5a138643cd4eb9837</td>\n",
       "      <td>0</td>\n",
       "      <td>1</td>\n",
       "      <td>1</td>\n",
       "      <td>1</td>\n",
       "    </tr>\n",
       "    <tr>\n",
       "      <th>disc021010</th>\n",
       "      <td>4033</td>\n",
       "      <td>2299</td>\n",
       "      <td>0.636924</td>\n",
       "      <td>0.363040</td>\n",
       "      <td>2</td>\n",
       "      <td>10</td>\n",
       "      <td>10</td>\n",
       "      <td>discount</td>\n",
       "      <td>fafdcd668e3743c1bb461111dcafc2a4</td>\n",
       "      <td>1</td>\n",
       "      <td>1</td>\n",
       "      <td>1</td>\n",
       "      <td>1</td>\n",
       "    </tr>\n",
       "    <tr>\n",
       "      <th>disc030707</th>\n",
       "      <td>3820</td>\n",
       "      <td>2505</td>\n",
       "      <td>0.603953</td>\n",
       "      <td>0.396010</td>\n",
       "      <td>3</td>\n",
       "      <td>7</td>\n",
       "      <td>7</td>\n",
       "      <td>discount</td>\n",
       "      <td>2298d6c36e964ae4a3e7e9706d1fb8c2</td>\n",
       "      <td>1</td>\n",
       "      <td>1</td>\n",
       "      <td>1</td>\n",
       "      <td>1</td>\n",
       "    </tr>\n",
       "    <tr>\n",
       "      <th>info000004</th>\n",
       "      <td>3635</td>\n",
       "      <td>2696</td>\n",
       "      <td>0.574159</td>\n",
       "      <td>0.425802</td>\n",
       "      <td>0</td>\n",
       "      <td>0</td>\n",
       "      <td>4</td>\n",
       "      <td>informational</td>\n",
       "      <td>3f207df678b143eea3cee63160fa8bed</td>\n",
       "      <td>1</td>\n",
       "      <td>1</td>\n",
       "      <td>0</td>\n",
       "      <td>1</td>\n",
       "    </tr>\n",
       "    <tr>\n",
       "      <th>bogo050505</th>\n",
       "      <td>3129</td>\n",
       "      <td>3133</td>\n",
       "      <td>0.499681</td>\n",
       "      <td>0.500279</td>\n",
       "      <td>5</td>\n",
       "      <td>5</td>\n",
       "      <td>5</td>\n",
       "      <td>bogo</td>\n",
       "      <td>f19421c1d4aa40978ebb69ca19b0e20d</td>\n",
       "      <td>1</td>\n",
       "      <td>1</td>\n",
       "      <td>1</td>\n",
       "      <td>1</td>\n",
       "    </tr>\n",
       "    <tr>\n",
       "      <th>bogo101005</th>\n",
       "      <td>2436</td>\n",
       "      <td>3894</td>\n",
       "      <td>0.384834</td>\n",
       "      <td>0.615128</td>\n",
       "      <td>10</td>\n",
       "      <td>10</td>\n",
       "      <td>5</td>\n",
       "      <td>bogo</td>\n",
       "      <td>4d5c57ea9a6940dd891ad53e9dbe8da0</td>\n",
       "      <td>1</td>\n",
       "      <td>1</td>\n",
       "      <td>1</td>\n",
       "      <td>1</td>\n",
       "    </tr>\n",
       "    <tr>\n",
       "      <th>bogo101007</th>\n",
       "      <td>2314</td>\n",
       "      <td>4060</td>\n",
       "      <td>0.363037</td>\n",
       "      <td>0.636926</td>\n",
       "      <td>10</td>\n",
       "      <td>10</td>\n",
       "      <td>7</td>\n",
       "      <td>bogo</td>\n",
       "      <td>ae264e3637204a6fb9bb56bc8210ddfd</td>\n",
       "      <td>0</td>\n",
       "      <td>1</td>\n",
       "      <td>1</td>\n",
       "      <td>1</td>\n",
       "    </tr>\n",
       "    <tr>\n",
       "      <th>bogo050507</th>\n",
       "      <td>1922</td>\n",
       "      <td>4433</td>\n",
       "      <td>0.302439</td>\n",
       "      <td>0.697528</td>\n",
       "      <td>5</td>\n",
       "      <td>5</td>\n",
       "      <td>7</td>\n",
       "      <td>bogo</td>\n",
       "      <td>9b98b8c7a33c4b65b9aebfe6a799e6d9</td>\n",
       "      <td>1</td>\n",
       "      <td>1</td>\n",
       "      <td>0</td>\n",
       "      <td>1</td>\n",
       "    </tr>\n",
       "    <tr>\n",
       "      <th>disc021007</th>\n",
       "      <td>1891</td>\n",
       "      <td>4394</td>\n",
       "      <td>0.300875</td>\n",
       "      <td>0.699091</td>\n",
       "      <td>2</td>\n",
       "      <td>10</td>\n",
       "      <td>7</td>\n",
       "      <td>discount</td>\n",
       "      <td>2906b810c7d4411798c6938adc9daaa5</td>\n",
       "      <td>1</td>\n",
       "      <td>1</td>\n",
       "      <td>0</td>\n",
       "      <td>1</td>\n",
       "    </tr>\n",
       "    <tr>\n",
       "      <th>disc052010</th>\n",
       "      <td>1207</td>\n",
       "      <td>5167</td>\n",
       "      <td>0.189363</td>\n",
       "      <td>0.810613</td>\n",
       "      <td>5</td>\n",
       "      <td>20</td>\n",
       "      <td>10</td>\n",
       "      <td>discount</td>\n",
       "      <td>0b1e1539f2cc45b7b9fa7c272da2e1d7</td>\n",
       "      <td>1</td>\n",
       "      <td>1</td>\n",
       "      <td>0</td>\n",
       "      <td>0</td>\n",
       "    </tr>\n",
       "  </tbody>\n",
       "</table>\n",
       "</div>"
      ],
      "text/plain": [
       "            completed  incomplete  completion_rate  incompletion_rate  reward  \\\n",
       "offer_name                                                                      \n",
       "info000003       5674         646         0.897785           0.102201       0   \n",
       "disc021010       4033        2299         0.636924           0.363040       2   \n",
       "disc030707       3820        2505         0.603953           0.396010       3   \n",
       "info000004       3635        2696         0.574159           0.425802       0   \n",
       "bogo050505       3129        3133         0.499681           0.500279       5   \n",
       "bogo101005       2436        3894         0.384834           0.615128      10   \n",
       "bogo101007       2314        4060         0.363037           0.636926      10   \n",
       "bogo050507       1922        4433         0.302439           0.697528       5   \n",
       "disc021007       1891        4394         0.300875           0.699091       2   \n",
       "disc052010       1207        5167         0.189363           0.810613       5   \n",
       "\n",
       "            difficulty  duration     offer_type  \\\n",
       "offer_name                                        \n",
       "info000003           0         3  informational   \n",
       "disc021010          10        10       discount   \n",
       "disc030707           7         7       discount   \n",
       "info000004           0         4  informational   \n",
       "bogo050505           5         5           bogo   \n",
       "bogo101005          10         5           bogo   \n",
       "bogo101007          10         7           bogo   \n",
       "bogo050507           5         7           bogo   \n",
       "disc021007          10         7       discount   \n",
       "disc052010          20        10       discount   \n",
       "\n",
       "                                          id  web  email  social  mobile  \n",
       "offer_name                                                                \n",
       "info000003  5a8bc65990b245e5a138643cd4eb9837    0      1       1       1  \n",
       "disc021010  fafdcd668e3743c1bb461111dcafc2a4    1      1       1       1  \n",
       "disc030707  2298d6c36e964ae4a3e7e9706d1fb8c2    1      1       1       1  \n",
       "info000004  3f207df678b143eea3cee63160fa8bed    1      1       0       1  \n",
       "bogo050505  f19421c1d4aa40978ebb69ca19b0e20d    1      1       1       1  \n",
       "bogo101005  4d5c57ea9a6940dd891ad53e9dbe8da0    1      1       1       1  \n",
       "bogo101007  ae264e3637204a6fb9bb56bc8210ddfd    0      1       1       1  \n",
       "bogo050507  9b98b8c7a33c4b65b9aebfe6a799e6d9    1      1       0       1  \n",
       "disc021007  2906b810c7d4411798c6938adc9daaa5    1      1       0       1  \n",
       "disc052010  0b1e1539f2cc45b7b9fa7c272da2e1d7    1      1       0       0  "
      ]
     },
     "execution_count": 196,
     "metadata": {},
     "output_type": "execute_result"
    }
   ],
   "source": [
    "completion_by_offer # good!"
   ]
  },
  {
   "cell_type": "code",
   "execution_count": 197,
   "metadata": {
    "scrolled": false
   },
   "outputs": [
    {
     "data": {
      "image/png": "[encoded data removed]",
      "text/plain": [
       "<Figure size 864x360 with 1 Axes>"
      ]
     },
     "metadata": {
      "needs_background": "light"
     },
     "output_type": "display_data"
    }
   ],
   "source": [
    "completion_by_offer[['completion_rate', 'incompletion_rate']].plot(kind='bar', stacked=True, figsize=(12,5));\n",
    "\n",
    "plt.title('Completion rate by offer type')\n",
    "plt.xlabel('offer type')\n",
    "plt.xticks(rotation=0)\n",
    "plt.ylabel('completion rate (1.0 = 100%)')\n",
    "plt.legend(loc='upper center', ncol=4)\n",
    "plt.hlines(0.5, xmin=-10, xmax=100, linestyles='--', colors=sns.color_palette()[0])\n",
    "plt.show()"
   ]
  },
  {
   "cell_type": "markdown",
   "metadata": {},
   "source": [
    "Informational offers have generally higher completion rate. Depsite slightly longer duration, completion rate of `info000003` is a lot higher than that of `info000004`. The difference possibly comes from type of distribution channel: `info000003` used social whereas `info info000004` used web. \n",
    "\n",
    "For transactional data, the completion rate is over 50% for `disc021010`, `disc030707`, `bogo050505`. \n",
    "\n",
    "`disc021010`, `disc030707` actually gives out less rewards with relatively higher difficulties, which is interesting. On ther other hand, they have relatively higher duration allowed for redemption and been distributed across all avilable channels - so the offers have been exposed to customers longer and wider.\n",
    "\n",
    "Note that there are two offers that are informational and they have completion rate of 0%, which originally had only two events: offer received and offer viewed."
   ]
  },
  {
   "cell_type": "code",
   "execution_count": 199,
   "metadata": {},
   "outputs": [],
   "source": [
    "# Saving the dataframe in case of any future use\n",
    "completion_by_offer.to_csv('data/completion_by_offer.csv', index=True)"
   ]
  },
  {
   "cell_type": "markdown",
   "metadata": {},
   "source": [
    "## Offer completion by demographics"
   ]
  },
  {
   "cell_type": "code",
   "execution_count": 240,
   "metadata": {},
   "outputs": [
    {
     "data": {
      "text/html": [
       "<div>\n",
       "<style scoped>\n",
       "    .dataframe tbody tr th:only-of-type {\n",
       "        vertical-align: middle;\n",
       "    }\n",
       "\n",
       "    .dataframe tbody tr th {\n",
       "        vertical-align: top;\n",
       "    }\n",
       "\n",
       "    .dataframe thead th {\n",
       "        text-align: right;\n",
       "    }\n",
       "</style>\n",
       "<table border=\"1\" class=\"dataframe\">\n",
       "  <thead>\n",
       "    <tr style=\"text-align: right;\">\n",
       "      <th></th>\n",
       "      <th>person</th>\n",
       "      <th>offer_id</th>\n",
       "      <th>offer received</th>\n",
       "      <th>offer viewed</th>\n",
       "      <th>offer completed</th>\n",
       "      <th>offer_status</th>\n",
       "      <th>amount</th>\n",
       "      <th>reward</th>\n",
       "      <th>gender</th>\n",
       "      <th>age</th>\n",
       "      <th>became_member_on</th>\n",
       "      <th>income</th>\n",
       "    </tr>\n",
       "  </thead>\n",
       "  <tbody>\n",
       "    <tr>\n",
       "      <th>0</th>\n",
       "      <td>0009655768c64bdeb2e877511632db8f</td>\n",
       "      <td>3f207df678b143eea3cee63160fa8bed</td>\n",
       "      <td>336.0</td>\n",
       "      <td>372.0</td>\n",
       "      <td>NaN</td>\n",
       "      <td>completed</td>\n",
       "      <td>NaN</td>\n",
       "      <td>NaN</td>\n",
       "      <td>M</td>\n",
       "      <td>33.0</td>\n",
       "      <td>2017-04-21</td>\n",
       "      <td>72000.0</td>\n",
       "    </tr>\n",
       "    <tr>\n",
       "      <th>1</th>\n",
       "      <td>0009655768c64bdeb2e877511632db8f</td>\n",
       "      <td>5a8bc65990b245e5a138643cd4eb9837</td>\n",
       "      <td>168.0</td>\n",
       "      <td>192.0</td>\n",
       "      <td>NaN</td>\n",
       "      <td>completed</td>\n",
       "      <td>NaN</td>\n",
       "      <td>NaN</td>\n",
       "      <td>M</td>\n",
       "      <td>33.0</td>\n",
       "      <td>2017-04-21</td>\n",
       "      <td>72000.0</td>\n",
       "    </tr>\n",
       "    <tr>\n",
       "      <th>2</th>\n",
       "      <td>0011e0d4e6b944f998e987f904e8c1e5</td>\n",
       "      <td>3f207df678b143eea3cee63160fa8bed</td>\n",
       "      <td>0.0</td>\n",
       "      <td>6.0</td>\n",
       "      <td>NaN</td>\n",
       "      <td>completed</td>\n",
       "      <td>NaN</td>\n",
       "      <td>NaN</td>\n",
       "      <td>O</td>\n",
       "      <td>40.0</td>\n",
       "      <td>2018-01-09</td>\n",
       "      <td>57000.0</td>\n",
       "    </tr>\n",
       "    <tr>\n",
       "      <th>3</th>\n",
       "      <td>0011e0d4e6b944f998e987f904e8c1e5</td>\n",
       "      <td>5a8bc65990b245e5a138643cd4eb9837</td>\n",
       "      <td>336.0</td>\n",
       "      <td>354.0</td>\n",
       "      <td>NaN</td>\n",
       "      <td>completed</td>\n",
       "      <td>NaN</td>\n",
       "      <td>NaN</td>\n",
       "      <td>O</td>\n",
       "      <td>40.0</td>\n",
       "      <td>2018-01-09</td>\n",
       "      <td>57000.0</td>\n",
       "    </tr>\n",
       "    <tr>\n",
       "      <th>4</th>\n",
       "      <td>0020c2b971eb4e9188eac86d93036a77</td>\n",
       "      <td>5a8bc65990b245e5a138643cd4eb9837</td>\n",
       "      <td>504.0</td>\n",
       "      <td>660.0</td>\n",
       "      <td>NaN</td>\n",
       "      <td>completed</td>\n",
       "      <td>NaN</td>\n",
       "      <td>NaN</td>\n",
       "      <td>F</td>\n",
       "      <td>59.0</td>\n",
       "      <td>2016-03-04</td>\n",
       "      <td>90000.0</td>\n",
       "    </tr>\n",
       "  </tbody>\n",
       "</table>\n",
       "</div>"
      ],
      "text/plain": [
       "                             person                          offer_id  \\\n",
       "0  0009655768c64bdeb2e877511632db8f  3f207df678b143eea3cee63160fa8bed   \n",
       "1  0009655768c64bdeb2e877511632db8f  5a8bc65990b245e5a138643cd4eb9837   \n",
       "2  0011e0d4e6b944f998e987f904e8c1e5  3f207df678b143eea3cee63160fa8bed   \n",
       "3  0011e0d4e6b944f998e987f904e8c1e5  5a8bc65990b245e5a138643cd4eb9837   \n",
       "4  0020c2b971eb4e9188eac86d93036a77  5a8bc65990b245e5a138643cd4eb9837   \n",
       "\n",
       "   offer received  offer viewed  offer completed offer_status  amount  reward  \\\n",
       "0           336.0         372.0              NaN    completed     NaN     NaN   \n",
       "1           168.0         192.0              NaN    completed     NaN     NaN   \n",
       "2             0.0           6.0              NaN    completed     NaN     NaN   \n",
       "3           336.0         354.0              NaN    completed     NaN     NaN   \n",
       "4           504.0         660.0              NaN    completed     NaN     NaN   \n",
       "\n",
       "  gender   age became_member_on   income  \n",
       "0      M  33.0       2017-04-21  72000.0  \n",
       "1      M  33.0       2017-04-21  72000.0  \n",
       "2      O  40.0       2018-01-09  57000.0  \n",
       "3      O  40.0       2018-01-09  57000.0  \n",
       "4      F  59.0       2016-03-04  90000.0  "
      ]
     },
     "execution_count": 240,
     "metadata": {},
     "output_type": "execute_result"
    }
   ],
   "source": [
    "# Merge with profile_v1 dataset\n",
    "completion_by_demo = pd.merge(offer_sent, profile_v1, left_on='person', right_on='id', how='left')\n",
    "\n",
    "# Drop the duplicated id column\n",
    "completion_by_demo = completion_by_demo.drop(columns='id')\n",
    "\n",
    "completion_by_demo.head()"
   ]
  },
  {
   "cell_type": "markdown",
   "metadata": {},
   "source": [
    "The below heatmap visualization was inspired by https://moonbooks.org/Articles/How-to-add-text-units--etc-in-a-heatmap-cell-annotations-using-seaborn-in-python-/"
   ]
  },
  {
   "cell_type": "code",
   "execution_count": 278,
   "metadata": {},
   "outputs": [
    {
     "data": {
      "text/html": [
       "<div>\n",
       "<style scoped>\n",
       "    .dataframe tbody tr th:only-of-type {\n",
       "        vertical-align: middle;\n",
       "    }\n",
       "\n",
       "    .dataframe tbody tr th {\n",
       "        vertical-align: top;\n",
       "    }\n",
       "\n",
       "    .dataframe thead th {\n",
       "        text-align: right;\n",
       "    }\n",
       "</style>\n",
       "<table border=\"1\" class=\"dataframe\">\n",
       "  <thead>\n",
       "    <tr style=\"text-align: right;\">\n",
       "      <th>offer_status</th>\n",
       "      <th>completed</th>\n",
       "      <th>incomplete</th>\n",
       "    </tr>\n",
       "    <tr>\n",
       "      <th>gender</th>\n",
       "      <th></th>\n",
       "      <th></th>\n",
       "    </tr>\n",
       "  </thead>\n",
       "  <tbody>\n",
       "    <tr>\n",
       "      <th>F</th>\n",
       "      <td>12559</td>\n",
       "      <td>10249</td>\n",
       "    </tr>\n",
       "    <tr>\n",
       "      <th>M</th>\n",
       "      <td>14836</td>\n",
       "      <td>16809</td>\n",
       "    </tr>\n",
       "    <tr>\n",
       "      <th>O</th>\n",
       "      <td>483</td>\n",
       "      <td>286</td>\n",
       "    </tr>\n",
       "  </tbody>\n",
       "</table>\n",
       "</div>"
      ],
      "text/plain": [
       "offer_status  completed  incomplete\n",
       "gender                             \n",
       "F                 12559       10249\n",
       "M                 14836       16809\n",
       "O                   483         286"
      ]
     },
     "execution_count": 278,
     "metadata": {},
     "output_type": "execute_result"
    }
   ],
   "source": [
    "completion_by_gender = completion_by_demo.groupby(['gender', 'offer_status']).size().unstack()\n",
    "completion_by_gender"
   ]
  },
  {
   "cell_type": "code",
   "execution_count": 284,
   "metadata": {},
   "outputs": [
    {
     "data": {
      "image/png": "[encoded data removed]",
      "text/plain": [
       "<Figure size 432x288 with 2 Axes>"
      ]
     },
     "metadata": {
      "needs_background": "light"
     },
     "output_type": "display_data"
    }
   ],
   "source": [
    "completion_by_gender = completion_by_demo.groupby(['offer_status', 'gender']).size().unstack()\n",
    "\n",
    "cmap = sns.cubehelix_palette(as_cmap=True)\n",
    "fig = sns.heatmap(completion_by_gender / completion_by_gender.sum(axis=0) * 100, \n",
    "                  annot=True, fmt='.2f', cmap=cmap)\n",
    "\n",
    "# Fine tune annotation\n",
    "for t in fig.texts: \n",
    "    t.set_text(t.get_text() + \" %\")\n",
    "    \n",
    "plt.title('Offer completion by gender')\n",
    "plt.show()"
   ]
  },
  {
   "cell_type": "markdown",
   "metadata": {},
   "source": [
    "Female customers generally have higher completion rate than male. Male customers have less offers completed than incomplete."
   ]
  },
  {
   "cell_type": "code",
   "execution_count": 299,
   "metadata": {},
   "outputs": [],
   "source": [
    "# Divide each record with age group\n",
    "bin_edges = np.arange(10, 100+10, 10)\n",
    "bin_label = [str(n)+ 's' for n in bin_edges[:-1]]\n",
    "completion_by_demo['age_group'] = pd.cut(completion_by_demo.age, bins=bin_edges, labels=bin_label)"
   ]
  },
  {
   "cell_type": "code",
   "execution_count": 311,
   "metadata": {},
   "outputs": [
    {
     "data": {
      "image/png": "[encoded data removed]",
      "text/plain": [
       "<Figure size 864x360 with 2 Axes>"
      ]
     },
     "metadata": {
      "needs_background": "light"
     },
     "output_type": "display_data"
    }
   ],
   "source": [
    "completion_by_age = completion_by_demo.groupby(['offer_status', 'age_group']).size().unstack()\n",
    "\n",
    "cmap = sns.cubehelix_palette(as_cmap=True)\n",
    "plt.figure(figsize=(12,5))\n",
    "fig = sns.heatmap(completion_by_age / completion_by_age.sum(axis=0) * 100, \n",
    "                  annot=True, fmt='.2f', cmap=cmap)\n",
    "\n",
    "# Fine tune annotation\n",
    "for t in fig.texts: \n",
    "    t.set_text(t.get_text() + \" %\")\n",
    "    \n",
    "plt.title('Offer completion by gender')\n",
    "plt.show()"
   ]
  },
  {
   "cell_type": "markdown",
   "metadata": {},
   "source": [
    "Completion rate is low (lower than incomplete) for customers below 30s whereas those above 40s have completion rate higher than 50%."
   ]
  },
  {
   "cell_type": "code",
   "execution_count": 328,
   "metadata": {},
   "outputs": [],
   "source": [
    "# Divide each record with income group\n",
    "bin_edges = np.arange(completion_by_demo.income.min(), \n",
    "                       completion_by_demo.income.max() + 10000, 10000)\n",
    "bin_label = ['$' + str(int(n))[:-3] + 'k' for n in bin_edges[:-1]]\n",
    "completion_by_demo['income_group'] = pd.cut(completion_by_demo.income, bins=bin_edges, labels=bin_label)"
   ]
  },
  {
   "cell_type": "code",
   "execution_count": 329,
   "metadata": {},
   "outputs": [
    {
     "data": {
      "image/png": "[encoded data removed]",
      "text/plain": [
       "<Figure size 864x360 with 2 Axes>"
      ]
     },
     "metadata": {
      "needs_background": "light"
     },
     "output_type": "display_data"
    }
   ],
   "source": [
    "completion_by_income = completion_by_demo.groupby(['offer_status', 'income_group']).size().unstack()\n",
    "\n",
    "cmap = sns.cubehelix_palette(as_cmap=True)\n",
    "plt.figure(figsize=(12,5))\n",
    "fig = sns.heatmap(completion_by_income / completion_by_income.sum(axis=0) * 100, \n",
    "                  annot=True, fmt='.2f', cmap=cmap)\n",
    "\n",
    "# Fine tune annotation\n",
    "for t in fig.texts: \n",
    "    t.set_text(t.get_text() + \" %\")\n",
    "    \n",
    "plt.title('Offer completion by gender')\n",
    "plt.show()"
   ]
  },
  {
   "cell_type": "markdown",
   "metadata": {},
   "source": [
    "Completion rate is lower for customers with income less than \\\\$50k. The higest completion rate is observed in the income group between \\\\$80k and \\\\$100k."
   ]
  },
  {
   "cell_type": "markdown",
   "metadata": {},
   "source": [
    "<a id=\"work\"></a>\n",
    "[to modules](#modules)"
   ]
  }
 ],
 "metadata": {
  "kernelspec": {
   "display_name": "Python 3",
   "language": "python",
   "name": "python3"
  },
  "language_info": {
   "codemirror_mode": {
    "name": "ipython",
    "version": 3
   },
   "file_extension": ".py",
   "mimetype": "text/x-python",
   "name": "python",
   "nbconvert_exporter": "python",
   "pygments_lexer": "ipython3",
   "version": "3.8.5"
  }
 },
 "nbformat": 4,
 "nbformat_minor": 2
}
