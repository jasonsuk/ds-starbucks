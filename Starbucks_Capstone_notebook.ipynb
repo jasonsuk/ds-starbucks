{
 "cells": [
  {
   "cell_type": "markdown",
   "metadata": {},
   "source": [
    "# Starbucks Capstone Challenge\n",
    "\n",
    "### Introduction\n",
    "\n",
    "This data set contains simulated data that mimics customer behavior on the Starbucks rewards mobile app. Once every few days, Starbucks sends out an offer to users of the mobile app. An offer can be merely an advertisement for a drink or an actual offer such as a discount or BOGO (buy one get one free). Some users might not receive any offer during certain weeks. \n",
    "\n",
    "Not all users receive the same offer, and that is the challenge to solve with this data set.\n",
    "\n",
    "Your task is to combine transaction, demographic and offer data to determine which demographic groups respond best to which offer type. This data set is a simplified version of the real Starbucks app because the underlying simulator only has one product whereas Starbucks actually sells dozens of products.\n",
    "\n",
    "Every offer has a validity period before the offer expires. As an example, a BOGO offer might be valid for only 5 days. You'll see in the data set that informational offers have a validity period even though these ads are merely providing information about a product; for example, if an informational offer has 7 days of validity, you can assume the customer is feeling the influence of the offer for 7 days after receiving the advertisement.\n",
    "\n",
    "You'll be given transactional data showing user purchases made on the app including the timestamp of purchase and the amount of money spent on a purchase. This transactional data also has a record for each offer that a user receives as well as a record for when a user actually views the offer. There are also records for when a user completes an offer. \n",
    "\n",
    "Keep in mind as well that someone using the app might make a purchase through the app without having received an offer or seen an offer.\n",
    "\n",
    "### Example\n",
    "\n",
    "To give an example, a user could receive a discount offer buy 10 dollars get 2 off on Monday. The offer is valid for 10 days from receipt. If the customer accumulates at least 10 dollars in purchases during the validity period, the customer completes the offer.\n",
    "\n",
    "However, there are a few things to watch out for in this data set. Customers do not opt into the offers that they receive; in other words, a user can receive an offer, never actually view the offer, and still complete the offer. For example, a user might receive the \"buy 10 dollars get 2 dollars off offer\", but the user never opens the offer during the 10 day validity period. The customer spends 15 dollars during those ten days. There will be an offer completion record in the data set; however, the customer was not influenced by the offer because the customer never viewed the offer.\n",
    "\n",
    "### Cleaning\n",
    "\n",
    "This makes data cleaning especially important and tricky.\n",
    "\n",
    "You'll also want to take into account that some demographic groups will make purchases even if they don't receive an offer. From a business perspective, if a customer is going to make a 10 dollar purchase without an offer anyway, you wouldn't want to send a buy 10 dollars get 2 dollars off offer. You'll want to try to assess what a certain demographic group will buy when not receiving any offers.\n",
    "\n",
    "### Final Advice\n",
    "\n",
    "Because this is a capstone project, you are free to analyze the data any way you see fit. For example, you could build a machine learning model that predicts how much someone will spend based on demographics and offer type. Or you could build a model that predicts whether or not someone will respond to an offer. Or, you don't need to build a machine learning model at all. You could develop a set of heuristics that determine what offer you should send to each customer (i.e., 75 percent of women customers who were 35 years old responded to offer A vs 40 percent from the same demographic to offer B, so send offer A)."
   ]
  },
  {
   "cell_type": "markdown",
   "metadata": {},
   "source": [
    "# Data Sets\n",
    "\n",
    "The data is contained in three files:\n",
    "\n",
    "* portfolio.json - containing offer ids and meta data about each offer (duration, type, etc.)\n",
    "* profile.json - demographic data for each customer\n",
    "* transcript.json - records for transactions, offers received, offers viewed, and offers completed\n",
    "\n",
    "Here is the schema and explanation of each variable in the files:\n",
    "\n",
    "**portfolio.json**\n",
    "* id (string) - offer id\n",
    "* offer_type (string) - type of offer ie BOGO, discount, informational\n",
    "* difficulty (int) - minimum required spend to complete an offer\n",
    "* reward (int) - reward given for completing an offer\n",
    "* duration (int) - time for offer to be open, in days\n",
    "* channels (list of strings)\n",
    "\n",
    "**profile.json**\n",
    "* age (int) - age of the customer \n",
    "* became_member_on (int) - date when customer created an app account\n",
    "* gender (str) - gender of the customer (note some entries contain 'O' for other rather than M or F)\n",
    "* id (str) - customer id\n",
    "* income (float) - customer's income\n",
    "\n",
    "**transcript.json**\n",
    "* event (str) - record description (ie transaction, offer received, offer viewed, etc.)\n",
    "* person (str) - customer id\n",
    "* time (int) - time in hours since start of test. The data begins at time t=0\n",
    "* value - (dict of strings) - either an offer id or transaction amount depending on the record"
   ]
  },
  {
   "cell_type": "markdown",
   "metadata": {},
   "source": [
    "# Table of contents"
   ]
  },
  {
   "cell_type": "markdown",
   "metadata": {},
   "source": [
    "1. [Importing libaries & dataset](#data)\n",
    "2. Explore and clean data :\n",
    "    [portfolio](#portfolio)\n",
    "    [profile](#profile)\n",
    "    [transcript](#transcript)\n",
    "3. [Exploratory analysis](#explore)\n",
    "4. [Modeling](#model)\n",
    "5. [Conclusion](#conclude)\n",
    "\n",
    "\n",
    "<font color=\"orangered\">Jump right into the <strong> 3. Exporatory Analysis</strong> part if you want to skip the data cleaning and </font>"
   ]
  },
  {
   "cell_type": "markdown",
   "metadata": {},
   "source": [
    "<a id=\"data\"></a>\n",
    "# `SECTION 1`\n",
    "\n",
    "## Importing libraries"
   ]
  },
  {
   "cell_type": "code",
   "execution_count": 3,
   "metadata": {},
   "outputs": [],
   "source": [
    "import pandas as pd\n",
    "import numpy as np\n",
    "import matplotlib.pyplot as plt\n",
    "import seaborn as sns\n",
    "import math\n",
    "import json\n",
    "import os.path\n",
    "from tqdm import tqdm # progress bar\n",
    "\n",
    "%matplotlib inline\n",
    "%config Completer.use_jedi = False # autocomplete"
   ]
  },
  {
   "cell_type": "markdown",
   "metadata": {},
   "source": [
    "## Importing data"
   ]
  },
  {
   "cell_type": "code",
   "execution_count": 2,
   "metadata": {},
   "outputs": [],
   "source": [
    "# read in the json files\n",
    "portfolio = pd.read_json('data/portfolio.json', orient='records', lines=True)\n",
    "profile = pd.read_json('data/profile.json', orient='records', lines=True)\n",
    "transcript = pd.read_json('data/transcript.json', orient='records', lines=True)"
   ]
  },
  {
   "cell_type": "markdown",
   "metadata": {},
   "source": [
    "---\n",
    "# `SECTION 2` Exploring & cleaning data\n",
    "\n",
    "There are three dataset to explore and clean."
   ]
  },
  {
   "cell_type": "markdown",
   "metadata": {},
   "source": [
    "<a id=\"portfolio\"></a>\n",
    "## `DATA 1` portfolio"
   ]
  },
  {
   "cell_type": "code",
   "execution_count": null,
   "metadata": {
    "scrolled": true
   },
   "outputs": [],
   "source": [
    "portfolio.info() "
   ]
  },
  {
   "cell_type": "markdown",
   "metadata": {},
   "source": [
    "#### Commentary\n",
    "\n",
    "There are only 10 offers available in the data as it is a simplified version. \n",
    "\n",
    "For cleaning, note the following:\n",
    "- no missing value exists\n",
    "- date types look okay\n",
    "- need to destructure `channels` column as it is list <font color=\"orangered\">(to do)</font>\n",
    "- just confirm if there is any duplicates <font color=\"orangered\">(to do)</font>\n",
    "\n",
    "After cleaning, I would like to return:\n",
    "- a grouped by table that shows summary statistics of offers by `offer_type`"
   ]
  },
  {
   "cell_type": "markdown",
   "metadata": {},
   "source": [
    "### Function to clean `portfolio` data"
   ]
  },
  {
   "cell_type": "code",
   "execution_count": null,
   "metadata": {},
   "outputs": [],
   "source": [
    "def clean_portfolio(df):\n",
    "    ''' Clean the 'portolio' dataset, achieving :\n",
    "    1. Destructure 'channels' column\n",
    "    2. Drop 'channels' column after destructing\n",
    "    \n",
    "    INPUT: a Pandas dataframe that contains portfolio data\n",
    "    OUTPUT: a clean dataframe \n",
    "    '''\n",
    "    \n",
    "    # Get unique channels \n",
    "    temp_list = list()\n",
    "\n",
    "    for _type in df.channels:\n",
    "        temp_list.extend(_type)\n",
    "\n",
    "    channel_list = set(temp_list)\n",
    "    \n",
    "    \n",
    "    # Create binary tables for channels\n",
    "    channel_bool = dict()\n",
    "\n",
    "    for _type in channel_list:\n",
    "        channel_bool[_type] = df.channels.apply(lambda x: _type in x)\n",
    "    \n",
    "    channel_df = pd.DataFrame(channel_bool)\n",
    "    \n",
    "    \n",
    "    # Transform boolean to binary integer (True: 1, False: 0)\n",
    "    binary_rule = {True: 1, False: 0}\n",
    "    \n",
    "    for col in channel_df.columns:\n",
    "        channel_df[col] = channel_df[col].map(binary_rule) \n",
    "       \n",
    "    # Join the binary columns to the original dataframe\n",
    "    df_clean = df.join(channel_df)\n",
    "    \n",
    "    # Drop 'channels' columns\n",
    "    df_clean = df_clean.drop(columns='channels')\n",
    "    \n",
    "    \n",
    "    return df_clean\n",
    "    "
   ]
  },
  {
   "cell_type": "code",
   "execution_count": null,
   "metadata": {},
   "outputs": [],
   "source": [
    "# Clean portfolio dataframe\n",
    "portfolio_v1 = clean_portfolio(portfolio)\n",
    "portfolio_v1"
   ]
  },
  {
   "cell_type": "code",
   "execution_count": null,
   "metadata": {},
   "outputs": [],
   "source": [
    "# Check for duplicates\n",
    "assert portfolio_v1.duplicated().sum() == 0, \"There is at least one duplicated offer\""
   ]
  },
  {
   "cell_type": "code",
   "execution_count": null,
   "metadata": {},
   "outputs": [],
   "source": [
    "# Printing stats table including channels\n",
    "portfolio_v1.groupby('offer_type').mean()"
   ]
  },
  {
   "cell_type": "markdown",
   "metadata": {},
   "source": [
    "#### Commentary:\n",
    "\n",
    "Customers gets the most reward from `bogo` it is less difficult to redeem than `discount` which requires more spends. \n",
    "\n",
    "When sending out offers, `email` is opted always. `bogo` looks the most aggressive offer utilising the 4 channels the most (just as it sounds)."
   ]
  },
  {
   "cell_type": "code",
   "execution_count": null,
   "metadata": {},
   "outputs": [],
   "source": [
    "# Saving the cleand dataframe as 'portfolio_v1'\n",
    "portfolio_v1.to_csv('data/portfolio_v1.csv', index=False)"
   ]
  },
  {
   "cell_type": "markdown",
   "metadata": {},
   "source": [
    "<a id=\"profile\"></a>\n",
    "## `DATA 2` profile"
   ]
  },
  {
   "cell_type": "code",
   "execution_count": null,
   "metadata": {},
   "outputs": [],
   "source": [
    "profile.head(3) "
   ]
  },
  {
   "cell_type": "code",
   "execution_count": null,
   "metadata": {
    "scrolled": true
   },
   "outputs": [],
   "source": [
    "profile.info() "
   ]
  },
  {
   "cell_type": "code",
   "execution_count": null,
   "metadata": {},
   "outputs": [],
   "source": [
    "# Check for duplicates by id\n",
    "assert profile.duplicated(subset='id').sum() == 0, \"There is at least one duplicated record\""
   ]
  },
  {
   "cell_type": "code",
   "execution_count": null,
   "metadata": {},
   "outputs": [],
   "source": [
    "# 2175 records with null data \n",
    "# age of 118 is odd so to remove\n",
    "print(profile[profile.gender.isnull()].head(3))\n",
    "profile[profile.gender.isnull()].age.value_counts() "
   ]
  },
  {
   "cell_type": "markdown",
   "metadata": {},
   "source": [
    "#### Commentary\n",
    "\n",
    "There is no duplicated id. `profile` data contains all unique user ids.\n",
    "\n",
    "For cleaning, note the following:\n",
    "- 2175 missing value exists in `gender`, `income` columns: contain age of 118 which is abnormal <font color=\"orangered\">(drop them) - 12.7% of the data</font>\n",
    "- `become_member_on` to be converted to datetime object"
   ]
  },
  {
   "cell_type": "markdown",
   "metadata": {},
   "source": [
    "### Function to clean `profile` data"
   ]
  },
  {
   "cell_type": "code",
   "execution_count": null,
   "metadata": {},
   "outputs": [],
   "source": [
    "def clean_profile(df):\n",
    "    ''' Clean the 'portolio' dataset, achieving :\n",
    "    1. Drop nulls\n",
    "    2. Convert 'become_member_on' to datetime object\n",
    "    \n",
    "    INPUT: a Pandas dataframe that contains profile data\n",
    "    OUTPUT: a clean dataframe \n",
    "    '''\n",
    "    \n",
    "    # Copy the original dataframe\n",
    "    df_clean = df.copy()\n",
    "    \n",
    "    # Drop nulls\n",
    "    df_clean = df_clean[df_clean.gender.notnull()]\n",
    "    \n",
    "    # Convert to datetime object\n",
    "    df_clean.loc[:, 'became_member_on'] = pd.to_datetime(df_clean.became_member_on, format=\"%Y%m%d\")\n",
    "    \n",
    "    return df_clean\n"
   ]
  },
  {
   "cell_type": "code",
   "execution_count": null,
   "metadata": {},
   "outputs": [],
   "source": [
    "# Check for any remaining null data \n",
    "assert profile_v1.shape[0] == profile.shape[0] - 2175, \"It looks that missing values are not dropped correctly\"\n",
    "assert profile_v1.isnull().sum().sum() == 0, \"There still is missing value\""
   ]
  },
  {
   "cell_type": "code",
   "execution_count": null,
   "metadata": {},
   "outputs": [],
   "source": [
    "# Save the clean data as profile_v1\n",
    "profile_v1.to_csv('data/profile_v1.csv', index=False)"
   ]
  },
  {
   "cell_type": "markdown",
   "metadata": {},
   "source": [
    "<a id=\"transcript\"></a>\n",
    "## `DATA 3` transcript"
   ]
  },
  {
   "cell_type": "code",
   "execution_count": null,
   "metadata": {},
   "outputs": [],
   "source": [
    "transcript.info()"
   ]
  },
  {
   "cell_type": "code",
   "execution_count": null,
   "metadata": {},
   "outputs": [],
   "source": [
    "transcript.head()"
   ]
  },
  {
   "cell_type": "code",
   "execution_count": null,
   "metadata": {
    "scrolled": true
   },
   "outputs": [],
   "source": [
    "transcript.event.value_counts()"
   ]
  },
  {
   "cell_type": "markdown",
   "metadata": {},
   "source": [
    "### Quick inspection of the `value` column"
   ]
  },
  {
   "cell_type": "code",
   "execution_count": null,
   "metadata": {},
   "outputs": [],
   "source": [
    "# Destructoring dictionary in 'value' column \n",
    "temp = transcript.copy()"
   ]
  },
  {
   "cell_type": "code",
   "execution_count": null,
   "metadata": {
    "scrolled": false
   },
   "outputs": [],
   "source": [
    "# Extract unique keys from the dictionary\n",
    "value_keys = []\n",
    "\n",
    "for _dict in temp.value:\n",
    "    for keys in _dict.keys():\n",
    "        value_keys.append(keys)\n",
    "        \n",
    "print(set(value_keys))"
   ]
  },
  {
   "cell_type": "markdown",
   "metadata": {},
   "source": [
    "#### Commentary\n",
    "\n",
    "There are 3 unique keys in the dictionary, while `offer_id` and `offer id` should give the same information. \n",
    "\n",
    "- We need destructuring the dictionary first \n",
    "- Then combine `offer_id` and `offer id` column together into `offer_id` column\n",
    "- drop `offer id` column"
   ]
  },
  {
   "cell_type": "code",
   "execution_count": null,
   "metadata": {},
   "outputs": [],
   "source": [
    "# Quick way to destructure using 'json_normalize' method\n",
    "value_destructured = pd.json_normalize(temp['value'])\n",
    "value_destructured"
   ]
  },
  {
   "cell_type": "code",
   "execution_count": null,
   "metadata": {},
   "outputs": [],
   "source": [
    "# Merge 'offer_id' and 'offer id' columns \n",
    "# np.where(condition, value if true, value if false)\n",
    "value_destructured['offer_id'] = np.where(value_destructured['offer id'].notnull(), \n",
    "                                          value_destructured['offer id'], \n",
    "                                          value_destructured['offer_id'])\n",
    "\n",
    "# Drop the unnecessary offer id column if merger successful\n",
    "assert value_destructured['offer_id'].notnull().sum() == 167581, \"It is an incorrect merge\"\n",
    "value_destructured = value_destructured.drop(columns='offer id')"
   ]
  },
  {
   "cell_type": "code",
   "execution_count": null,
   "metadata": {},
   "outputs": [],
   "source": [
    "# Inspecting amount column\n",
    "print('Number of transactions made: ', value_destructured.amount.notnull().sum(), end='\\n\\n')\n",
    "print(value_destructured.amount.describe())\n",
    "\n",
    "sns.histplot(x=value_destructured.amount, binwidth=5); # every $5\n",
    "plt.title('Distribution of transaction amounts');\n",
    "plt.xlim([0,100]); # removing outliers i.e. max value of $1062.28"
   ]
  },
  {
   "cell_type": "code",
   "execution_count": null,
   "metadata": {},
   "outputs": [],
   "source": [
    "# Transation value over $100 (hidden from the graph above)\n",
    "print(f'#trans over $100: {(value_destructured.amount > 100).sum()}')\n",
    "print(f'  in percentage: {(value_destructured.amount > 100).sum() / 138953 * 100:.2f}%')"
   ]
  },
  {
   "cell_type": "markdown",
   "metadata": {},
   "source": [
    "Most of the amounts fall below $100 with some outliers that are minor enough to be ignored. Note that transaction values here includes those purchased with no offers as well."
   ]
  },
  {
   "cell_type": "code",
   "execution_count": null,
   "metadata": {},
   "outputs": [],
   "source": [
    "# Inspecting reward column\n",
    "print('Total number of rewards given:', len(value_destructured.reward.notnull()))\n",
    "\n",
    "sns.countplot(x=value_destructured.reward);\n",
    "plt.title('Rewards given for completing offers and their counts');"
   ]
  },
  {
   "cell_type": "markdown",
   "metadata": {},
   "source": [
    "Rewards are given for offers that are completed. Therefore, it must correspond to `offer completed` events only. Reward 5 has been given the most followed by reward 2. "
   ]
  },
  {
   "cell_type": "markdown",
   "metadata": {},
   "source": [
    "#### Commentary - `transcript` data:\n",
    "\n",
    "There are four types of event following marketing funnels. As mentioned earlier an offer can be completed without receiving / viewing offer. Also, transaction can happen with no offer redeemed.\n",
    "\n",
    "No missing data is found in `transcript` data. However, after destructuring `value` column many null values are generated, which is to address no transactions / rewards and delivers a correct picture - no need to drop.\n",
    " \n",
    "For cleaning, \n",
    "- destructor dictionary in `value` column <font color=\"orangered\">(to do)</font>\n",
    "- make the keys of the ditionary in `value` column consistent <font color=\"orangered\">(to do)</font>\n",
    "- drop the original `value` column <font color=\"orangered\">(to do)</font>"
   ]
  },
  {
   "cell_type": "markdown",
   "metadata": {},
   "source": [
    "### Function to clean `transcript` data"
   ]
  },
  {
   "cell_type": "code",
   "execution_count": null,
   "metadata": {},
   "outputs": [],
   "source": [
    "def clean_transcript(df):\n",
    "    ''' Clean the 'transcript' dataset, achieving :\n",
    "    1. Destructure dictionary in 'value' column & create a new dataframe\n",
    "    2. Ensure consistency by merging offer_id with offer id column\n",
    "    3. Drop the duplicated offer id column\n",
    "    3. Join the new dataframe to the original transcript dataframe\n",
    "    4. Drop the original 'value' column\n",
    "\n",
    "    INPUT: a Pandas dataframe that contains transcript data\n",
    "    OUTPUT: a clean dataframe \n",
    "    '''\n",
    "    \n",
    "    # Instantiate df_clean as a copy of df\n",
    "    df_clean = df.copy()\n",
    "    \n",
    "    # Destructoring dictionary in 'value' column \n",
    "    value_df = pd.json_normalize(df.value)\n",
    "    \n",
    "    # Making values in 'value_key' column consistent + testing the result\n",
    "    # 'offer id' column merged 'offer_id' & test the change\n",
    "\n",
    "    # For testing, the merged column size should match sum of count 1 & 2\n",
    "    count1 = value_df['offer_id'].notnull().sum()\n",
    "    count2 = value_df['offer id'].notnull().sum()\n",
    "    \n",
    "    value_df['offer_id'] = np.where(value_df['offer id'].notnull(), \n",
    "                                    value_df['offer id'], value_df['offer_id'])\n",
    "    \n",
    "    # Testing if merged successfully\n",
    "    assert value_df['offer_id'].notnull().sum() == count1 + count2\n",
    "    \n",
    "    # Drop offer id column\n",
    "    value_df = value_df.drop(columns='offer id')\n",
    "\n",
    "    df_clean = df_clean.join(value_df)\n",
    "    \n",
    "    # Drop the original 'value' column\n",
    "    df_clean = df_clean.drop(columns='value')\n",
    "    \n",
    "    \n",
    "    return df_clean\n",
    "    "
   ]
  },
  {
   "cell_type": "code",
   "execution_count": null,
   "metadata": {},
   "outputs": [],
   "source": [
    "# Returning the clean dataframe\n",
    "transcript_v1 = clean_transcript(transcript)\n",
    "transcript_v1"
   ]
  },
  {
   "cell_type": "markdown",
   "metadata": {},
   "source": [
    "### Post cleaning inspection for `transcript_v1`"
   ]
  },
  {
   "cell_type": "code",
   "execution_count": null,
   "metadata": {},
   "outputs": [],
   "source": [
    "# If there is a value in 'amount', it should be about transaction\n",
    "assert transcript_v1[transcript_v1.amount.notnull()].event.unique()[0] == 'transaction'"
   ]
  },
  {
   "cell_type": "code",
   "execution_count": null,
   "metadata": {
    "scrolled": false
   },
   "outputs": [],
   "source": [
    "# Check for duplicates by 'person' and 'value_key'\n",
    "transript_v1_duplicated = transcript_v1[transcript_v1.duplicated(keep=False)]\n",
    "transript_v1_duplicated"
   ]
  },
  {
   "cell_type": "code",
   "execution_count": null,
   "metadata": {},
   "outputs": [],
   "source": [
    "# Duplicated event \n",
    "transript_v1_duplicated.event.hist();"
   ]
  },
  {
   "cell_type": "code",
   "execution_count": null,
   "metadata": {},
   "outputs": [],
   "source": [
    "# Inspection for duplicates with a sample \n",
    "sample = transcript_v1[transcript_v1.person == 'b7e216b6472b46648272c29a52a86702']\n",
    "sample"
   ]
  },
  {
   "cell_type": "markdown",
   "metadata": {},
   "source": [
    "#### Commentary\n",
    "About 397 fields (793 rows / 2) have duplicated records and it happends for `offer completed` event only. \n",
    "\n",
    "The above sample data shows the same type of duplication (idx# 305550, 305551). The duplicated fields do not really convery any meaningful data so drop duplicates (keep first)."
   ]
  },
  {
   "cell_type": "markdown",
   "metadata": {},
   "source": [
    "### Drop duplicates in `transcript_v1`"
   ]
  },
  {
   "cell_type": "code",
   "execution_count": null,
   "metadata": {},
   "outputs": [],
   "source": [
    "print(f'Before dropping duplicates: {transcript_v1.shape[0]} records')\n",
    "print(f'Total {transcript_v1.duplicated().sum()} duplicates exist')"
   ]
  },
  {
   "cell_type": "code",
   "execution_count": null,
   "metadata": {},
   "outputs": [],
   "source": [
    "transcript_v1 = transcript_v1.drop_duplicates(keep='first')"
   ]
  },
  {
   "cell_type": "code",
   "execution_count": null,
   "metadata": {},
   "outputs": [],
   "source": [
    "# Confirm the changes\n",
    "assert transcript_v1.shape[0] == 306534 - 397, \"There is something wrong\""
   ]
  },
  {
   "cell_type": "code",
   "execution_count": null,
   "metadata": {},
   "outputs": [],
   "source": [
    "# Save the clean data as transcript_v1\n",
    "transcript_v1.to_csv('data/transcript_v1.csv', index=False)"
   ]
  },
  {
   "cell_type": "markdown",
   "metadata": {},
   "source": [
    "### `transcript_v1` - further cleaning needed!\n",
    "Before any explatory analysis, we need a further cleaning of `transcript_v1` dataframe in order to clearly identify how funnels work and customers react to offers.\n",
    "\n",
    "As instructed in the introdution, transactions can be made without customers actually viewing offers, which does not really tell that customers were influenced by the offers.\n",
    "\n",
    "Therefore, we need to work on:\n",
    "1. Make `event` column categorical ordered\n",
    "2. Fill NaN value in `offer_id` for `transaction` made as a result of offer completion\n",
    "3. Pivot `transcript_v1` to see which offer / person completed offer or not\n",
    "\n",
    "The explanation here may not sound clear. So, I will explain the work along the way."
   ]
  },
  {
   "cell_type": "code",
   "execution_count": 51,
   "metadata": {},
   "outputs": [],
   "source": [
    "transcript_v1 = pd.read_csv('data/transcript_v1.csv')"
   ]
  },
  {
   "cell_type": "markdown",
   "metadata": {},
   "source": [
    "#### Re-order event\n",
    "It is understood that when an offer is completed, it follows funnles like below:  \n",
    "    \n",
    "    'offer received' -> 'offer viewed' ->'transaction' -> 'offer completed'\n",
    "    \n",
    "For later use, it is reasonable to make the `event` column categorical (ordered)."
   ]
  },
  {
   "cell_type": "code",
   "execution_count": 52,
   "metadata": {},
   "outputs": [],
   "source": [
    "# Transform event column into categorical ordered dtype\n",
    "funnel_order = ['offer received', 'offer viewed', 'transaction', 'offer completed']\n",
    "transcript_v1.event = pd.Categorical(transcript_v1.event, categories=funnel_order, ordered=True)"
   ]
  },
  {
   "cell_type": "code",
   "execution_count": 53,
   "metadata": {},
   "outputs": [
    {
     "data": {
      "text/html": [
       "<div>\n",
       "<style scoped>\n",
       "    .dataframe tbody tr th:only-of-type {\n",
       "        vertical-align: middle;\n",
       "    }\n",
       "\n",
       "    .dataframe tbody tr th {\n",
       "        vertical-align: top;\n",
       "    }\n",
       "\n",
       "    .dataframe thead th {\n",
       "        text-align: right;\n",
       "    }\n",
       "</style>\n",
       "<table border=\"1\" class=\"dataframe\">\n",
       "  <thead>\n",
       "    <tr style=\"text-align: right;\">\n",
       "      <th></th>\n",
       "      <th>person</th>\n",
       "      <th>event</th>\n",
       "      <th>time</th>\n",
       "      <th>amount</th>\n",
       "      <th>offer_id</th>\n",
       "      <th>reward</th>\n",
       "    </tr>\n",
       "  </thead>\n",
       "  <tbody>\n",
       "    <tr>\n",
       "      <th>247632</th>\n",
       "      <td>0009655768c64bdeb2e877511632db8f</td>\n",
       "      <td>offer received</td>\n",
       "      <td>576</td>\n",
       "      <td>NaN</td>\n",
       "      <td>2906b810c7d4411798c6938adc9daaa5</td>\n",
       "      <td>NaN</td>\n",
       "    </tr>\n",
       "    <tr>\n",
       "      <th>258632</th>\n",
       "      <td>0009655768c64bdeb2e877511632db8f</td>\n",
       "      <td>offer completed</td>\n",
       "      <td>576</td>\n",
       "      <td>NaN</td>\n",
       "      <td>2906b810c7d4411798c6938adc9daaa5</td>\n",
       "      <td>2.0</td>\n",
       "    </tr>\n",
       "    <tr>\n",
       "      <th>113591</th>\n",
       "      <td>0009655768c64bdeb2e877511632db8f</td>\n",
       "      <td>offer received</td>\n",
       "      <td>336</td>\n",
       "      <td>NaN</td>\n",
       "      <td>3f207df678b143eea3cee63160fa8bed</td>\n",
       "      <td>NaN</td>\n",
       "    </tr>\n",
       "    <tr>\n",
       "      <th>139973</th>\n",
       "      <td>0009655768c64bdeb2e877511632db8f</td>\n",
       "      <td>offer viewed</td>\n",
       "      <td>372</td>\n",
       "      <td>NaN</td>\n",
       "      <td>3f207df678b143eea3cee63160fa8bed</td>\n",
       "      <td>NaN</td>\n",
       "    </tr>\n",
       "    <tr>\n",
       "      <th>55972</th>\n",
       "      <td>0009655768c64bdeb2e877511632db8f</td>\n",
       "      <td>offer received</td>\n",
       "      <td>168</td>\n",
       "      <td>NaN</td>\n",
       "      <td>5a8bc65990b245e5a138643cd4eb9837</td>\n",
       "      <td>NaN</td>\n",
       "    </tr>\n",
       "    <tr>\n",
       "      <th>...</th>\n",
       "      <td>...</td>\n",
       "      <td>...</td>\n",
       "      <td>...</td>\n",
       "      <td>...</td>\n",
       "      <td>...</td>\n",
       "      <td>...</td>\n",
       "    </tr>\n",
       "    <tr>\n",
       "      <th>200113</th>\n",
       "      <td>ffff82501cea40309d5fdd7edcca4a07</td>\n",
       "      <td>transaction</td>\n",
       "      <td>498</td>\n",
       "      <td>13.17</td>\n",
       "      <td>NaN</td>\n",
       "      <td>NaN</td>\n",
       "    </tr>\n",
       "    <tr>\n",
       "      <th>214570</th>\n",
       "      <td>ffff82501cea40309d5fdd7edcca4a07</td>\n",
       "      <td>transaction</td>\n",
       "      <td>504</td>\n",
       "      <td>7.79</td>\n",
       "      <td>NaN</td>\n",
       "      <td>NaN</td>\n",
       "    </tr>\n",
       "    <tr>\n",
       "      <th>258113</th>\n",
       "      <td>ffff82501cea40309d5fdd7edcca4a07</td>\n",
       "      <td>transaction</td>\n",
       "      <td>576</td>\n",
       "      <td>14.23</td>\n",
       "      <td>NaN</td>\n",
       "      <td>NaN</td>\n",
       "    </tr>\n",
       "    <tr>\n",
       "      <th>274495</th>\n",
       "      <td>ffff82501cea40309d5fdd7edcca4a07</td>\n",
       "      <td>transaction</td>\n",
       "      <td>606</td>\n",
       "      <td>10.12</td>\n",
       "      <td>NaN</td>\n",
       "      <td>NaN</td>\n",
       "    </tr>\n",
       "    <tr>\n",
       "      <th>289552</th>\n",
       "      <td>ffff82501cea40309d5fdd7edcca4a07</td>\n",
       "      <td>transaction</td>\n",
       "      <td>648</td>\n",
       "      <td>18.91</td>\n",
       "      <td>NaN</td>\n",
       "      <td>NaN</td>\n",
       "    </tr>\n",
       "  </tbody>\n",
       "</table>\n",
       "<p>306137 rows × 6 columns</p>\n",
       "</div>"
      ],
      "text/plain": [
       "                                  person            event  time  amount  \\\n",
       "247632  0009655768c64bdeb2e877511632db8f   offer received   576     NaN   \n",
       "258632  0009655768c64bdeb2e877511632db8f  offer completed   576     NaN   \n",
       "113591  0009655768c64bdeb2e877511632db8f   offer received   336     NaN   \n",
       "139973  0009655768c64bdeb2e877511632db8f     offer viewed   372     NaN   \n",
       "55972   0009655768c64bdeb2e877511632db8f   offer received   168     NaN   \n",
       "...                                  ...              ...   ...     ...   \n",
       "200113  ffff82501cea40309d5fdd7edcca4a07      transaction   498   13.17   \n",
       "214570  ffff82501cea40309d5fdd7edcca4a07      transaction   504    7.79   \n",
       "258113  ffff82501cea40309d5fdd7edcca4a07      transaction   576   14.23   \n",
       "274495  ffff82501cea40309d5fdd7edcca4a07      transaction   606   10.12   \n",
       "289552  ffff82501cea40309d5fdd7edcca4a07      transaction   648   18.91   \n",
       "\n",
       "                                offer_id  reward  \n",
       "247632  2906b810c7d4411798c6938adc9daaa5     NaN  \n",
       "258632  2906b810c7d4411798c6938adc9daaa5     2.0  \n",
       "113591  3f207df678b143eea3cee63160fa8bed     NaN  \n",
       "139973  3f207df678b143eea3cee63160fa8bed     NaN  \n",
       "55972   5a8bc65990b245e5a138643cd4eb9837     NaN  \n",
       "...                                  ...     ...  \n",
       "200113                               NaN     NaN  \n",
       "214570                               NaN     NaN  \n",
       "258113                               NaN     NaN  \n",
       "274495                               NaN     NaN  \n",
       "289552                               NaN     NaN  \n",
       "\n",
       "[306137 rows x 6 columns]"
      ]
     },
     "execution_count": 53,
     "metadata": {},
     "output_type": "execute_result"
    }
   ],
   "source": [
    "# Sorting the dataframe by person, offer_id and then event\n",
    "# will represent dataframe in order of event(funnel) for each offer\n",
    "transcript_sorted = transcript_v1.sort_values(by=['person', 'offer_id', 'time'])\n",
    "transcript_sorted"
   ]
  },
  {
   "cell_type": "code",
   "execution_count": 54,
   "metadata": {},
   "outputs": [],
   "source": [
    "# Let's inspect in more detail with a sample\n",
    "sample = transcript_sorted[transcript_sorted.person == 'ffff82501cea40309d5fdd7edcca4a07']"
   ]
  },
  {
   "cell_type": "code",
   "execution_count": 55,
   "metadata": {},
   "outputs": [
    {
     "data": {
      "text/html": [
       "<div>\n",
       "<style scoped>\n",
       "    .dataframe tbody tr th:only-of-type {\n",
       "        vertical-align: middle;\n",
       "    }\n",
       "\n",
       "    .dataframe tbody tr th {\n",
       "        vertical-align: top;\n",
       "    }\n",
       "\n",
       "    .dataframe thead th {\n",
       "        text-align: right;\n",
       "    }\n",
       "</style>\n",
       "<table border=\"1\" class=\"dataframe\">\n",
       "  <thead>\n",
       "    <tr style=\"text-align: right;\">\n",
       "      <th></th>\n",
       "      <th>person</th>\n",
       "      <th>event</th>\n",
       "      <th>time</th>\n",
       "      <th>amount</th>\n",
       "      <th>offer_id</th>\n",
       "      <th>reward</th>\n",
       "    </tr>\n",
       "  </thead>\n",
       "  <tbody>\n",
       "    <tr>\n",
       "      <th>54574</th>\n",
       "      <td>ffff82501cea40309d5fdd7edcca4a07</td>\n",
       "      <td>offer received</td>\n",
       "      <td>168</td>\n",
       "      <td>NaN</td>\n",
       "      <td>0b1e1539f2cc45b7b9fa7c272da2e1d7</td>\n",
       "      <td>NaN</td>\n",
       "    </tr>\n",
       "    <tr>\n",
       "      <th>69621</th>\n",
       "      <td>ffff82501cea40309d5fdd7edcca4a07</td>\n",
       "      <td>offer viewed</td>\n",
       "      <td>174</td>\n",
       "      <td>NaN</td>\n",
       "      <td>0b1e1539f2cc45b7b9fa7c272da2e1d7</td>\n",
       "      <td>NaN</td>\n",
       "    </tr>\n",
       "    <tr>\n",
       "      <th>79661</th>\n",
       "      <td>ffff82501cea40309d5fdd7edcca4a07</td>\n",
       "      <td>offer completed</td>\n",
       "      <td>198</td>\n",
       "      <td>NaN</td>\n",
       "      <td>0b1e1539f2cc45b7b9fa7c272da2e1d7</td>\n",
       "      <td>5.0</td>\n",
       "    </tr>\n",
       "    <tr>\n",
       "      <th>112200</th>\n",
       "      <td>ffff82501cea40309d5fdd7edcca4a07</td>\n",
       "      <td>offer received</td>\n",
       "      <td>336</td>\n",
       "      <td>NaN</td>\n",
       "      <td>2906b810c7d4411798c6938adc9daaa5</td>\n",
       "      <td>NaN</td>\n",
       "    </tr>\n",
       "    <tr>\n",
       "      <th>133059</th>\n",
       "      <td>ffff82501cea40309d5fdd7edcca4a07</td>\n",
       "      <td>offer viewed</td>\n",
       "      <td>354</td>\n",
       "      <td>NaN</td>\n",
       "      <td>2906b810c7d4411798c6938adc9daaa5</td>\n",
       "      <td>NaN</td>\n",
       "    </tr>\n",
       "    <tr>\n",
       "      <th>143768</th>\n",
       "      <td>ffff82501cea40309d5fdd7edcca4a07</td>\n",
       "      <td>offer completed</td>\n",
       "      <td>384</td>\n",
       "      <td>NaN</td>\n",
       "      <td>2906b810c7d4411798c6938adc9daaa5</td>\n",
       "      <td>2.0</td>\n",
       "    </tr>\n",
       "    <tr>\n",
       "      <th>152007</th>\n",
       "      <td>ffff82501cea40309d5fdd7edcca4a07</td>\n",
       "      <td>offer received</td>\n",
       "      <td>408</td>\n",
       "      <td>NaN</td>\n",
       "      <td>2906b810c7d4411798c6938adc9daaa5</td>\n",
       "      <td>NaN</td>\n",
       "    </tr>\n",
       "    <tr>\n",
       "      <th>167990</th>\n",
       "      <td>ffff82501cea40309d5fdd7edcca4a07</td>\n",
       "      <td>offer viewed</td>\n",
       "      <td>414</td>\n",
       "      <td>NaN</td>\n",
       "      <td>2906b810c7d4411798c6938adc9daaa5</td>\n",
       "      <td>NaN</td>\n",
       "    </tr>\n",
       "    <tr>\n",
       "      <th>167992</th>\n",
       "      <td>ffff82501cea40309d5fdd7edcca4a07</td>\n",
       "      <td>offer completed</td>\n",
       "      <td>414</td>\n",
       "      <td>NaN</td>\n",
       "      <td>2906b810c7d4411798c6938adc9daaa5</td>\n",
       "      <td>2.0</td>\n",
       "    </tr>\n",
       "    <tr>\n",
       "      <th>246248</th>\n",
       "      <td>ffff82501cea40309d5fdd7edcca4a07</td>\n",
       "      <td>offer received</td>\n",
       "      <td>576</td>\n",
       "      <td>NaN</td>\n",
       "      <td>2906b810c7d4411798c6938adc9daaa5</td>\n",
       "      <td>NaN</td>\n",
       "    </tr>\n",
       "    <tr>\n",
       "      <th>258114</th>\n",
       "      <td>ffff82501cea40309d5fdd7edcca4a07</td>\n",
       "      <td>offer completed</td>\n",
       "      <td>576</td>\n",
       "      <td>NaN</td>\n",
       "      <td>2906b810c7d4411798c6938adc9daaa5</td>\n",
       "      <td>2.0</td>\n",
       "    </tr>\n",
       "    <tr>\n",
       "      <th>262204</th>\n",
       "      <td>ffff82501cea40309d5fdd7edcca4a07</td>\n",
       "      <td>offer viewed</td>\n",
       "      <td>582</td>\n",
       "      <td>NaN</td>\n",
       "      <td>2906b810c7d4411798c6938adc9daaa5</td>\n",
       "      <td>NaN</td>\n",
       "    </tr>\n",
       "    <tr>\n",
       "      <th>202817</th>\n",
       "      <td>ffff82501cea40309d5fdd7edcca4a07</td>\n",
       "      <td>offer received</td>\n",
       "      <td>504</td>\n",
       "      <td>NaN</td>\n",
       "      <td>9b98b8c7a33c4b65b9aebfe6a799e6d9</td>\n",
       "      <td>NaN</td>\n",
       "    </tr>\n",
       "    <tr>\n",
       "      <th>214571</th>\n",
       "      <td>ffff82501cea40309d5fdd7edcca4a07</td>\n",
       "      <td>offer completed</td>\n",
       "      <td>504</td>\n",
       "      <td>NaN</td>\n",
       "      <td>9b98b8c7a33c4b65b9aebfe6a799e6d9</td>\n",
       "      <td>5.0</td>\n",
       "    </tr>\n",
       "    <tr>\n",
       "      <th>230484</th>\n",
       "      <td>ffff82501cea40309d5fdd7edcca4a07</td>\n",
       "      <td>offer viewed</td>\n",
       "      <td>534</td>\n",
       "      <td>NaN</td>\n",
       "      <td>9b98b8c7a33c4b65b9aebfe6a799e6d9</td>\n",
       "      <td>NaN</td>\n",
       "    </tr>\n",
       "    <tr>\n",
       "      <th>1393</th>\n",
       "      <td>ffff82501cea40309d5fdd7edcca4a07</td>\n",
       "      <td>offer received</td>\n",
       "      <td>0</td>\n",
       "      <td>NaN</td>\n",
       "      <td>fafdcd668e3743c1bb461111dcafc2a4</td>\n",
       "      <td>NaN</td>\n",
       "    </tr>\n",
       "    <tr>\n",
       "      <th>15836</th>\n",
       "      <td>ffff82501cea40309d5fdd7edcca4a07</td>\n",
       "      <td>offer viewed</td>\n",
       "      <td>6</td>\n",
       "      <td>NaN</td>\n",
       "      <td>fafdcd668e3743c1bb461111dcafc2a4</td>\n",
       "      <td>NaN</td>\n",
       "    </tr>\n",
       "    <tr>\n",
       "      <th>32763</th>\n",
       "      <td>ffff82501cea40309d5fdd7edcca4a07</td>\n",
       "      <td>offer completed</td>\n",
       "      <td>60</td>\n",
       "      <td>NaN</td>\n",
       "      <td>fafdcd668e3743c1bb461111dcafc2a4</td>\n",
       "      <td>2.0</td>\n",
       "    </tr>\n",
       "    <tr>\n",
       "      <th>32762</th>\n",
       "      <td>ffff82501cea40309d5fdd7edcca4a07</td>\n",
       "      <td>transaction</td>\n",
       "      <td>60</td>\n",
       "      <td>16.06</td>\n",
       "      <td>NaN</td>\n",
       "      <td>NaN</td>\n",
       "    </tr>\n",
       "    <tr>\n",
       "      <th>37060</th>\n",
       "      <td>ffff82501cea40309d5fdd7edcca4a07</td>\n",
       "      <td>transaction</td>\n",
       "      <td>78</td>\n",
       "      <td>7.18</td>\n",
       "      <td>NaN</td>\n",
       "      <td>NaN</td>\n",
       "    </tr>\n",
       "    <tr>\n",
       "      <th>45575</th>\n",
       "      <td>ffff82501cea40309d5fdd7edcca4a07</td>\n",
       "      <td>transaction</td>\n",
       "      <td>120</td>\n",
       "      <td>9.12</td>\n",
       "      <td>NaN</td>\n",
       "      <td>NaN</td>\n",
       "    </tr>\n",
       "    <tr>\n",
       "      <th>79660</th>\n",
       "      <td>ffff82501cea40309d5fdd7edcca4a07</td>\n",
       "      <td>transaction</td>\n",
       "      <td>198</td>\n",
       "      <td>22.88</td>\n",
       "      <td>NaN</td>\n",
       "      <td>NaN</td>\n",
       "    </tr>\n",
       "    <tr>\n",
       "      <th>81586</th>\n",
       "      <td>ffff82501cea40309d5fdd7edcca4a07</td>\n",
       "      <td>transaction</td>\n",
       "      <td>204</td>\n",
       "      <td>15.23</td>\n",
       "      <td>NaN</td>\n",
       "      <td>NaN</td>\n",
       "    </tr>\n",
       "    <tr>\n",
       "      <th>90685</th>\n",
       "      <td>ffff82501cea40309d5fdd7edcca4a07</td>\n",
       "      <td>transaction</td>\n",
       "      <td>234</td>\n",
       "      <td>18.08</td>\n",
       "      <td>NaN</td>\n",
       "      <td>NaN</td>\n",
       "    </tr>\n",
       "    <tr>\n",
       "      <th>97816</th>\n",
       "      <td>ffff82501cea40309d5fdd7edcca4a07</td>\n",
       "      <td>transaction</td>\n",
       "      <td>264</td>\n",
       "      <td>23.32</td>\n",
       "      <td>NaN</td>\n",
       "      <td>NaN</td>\n",
       "    </tr>\n",
       "    <tr>\n",
       "      <th>107038</th>\n",
       "      <td>ffff82501cea40309d5fdd7edcca4a07</td>\n",
       "      <td>transaction</td>\n",
       "      <td>312</td>\n",
       "      <td>16.86</td>\n",
       "      <td>NaN</td>\n",
       "      <td>NaN</td>\n",
       "    </tr>\n",
       "    <tr>\n",
       "      <th>143767</th>\n",
       "      <td>ffff82501cea40309d5fdd7edcca4a07</td>\n",
       "      <td>transaction</td>\n",
       "      <td>384</td>\n",
       "      <td>15.57</td>\n",
       "      <td>NaN</td>\n",
       "      <td>NaN</td>\n",
       "    </tr>\n",
       "    <tr>\n",
       "      <th>167991</th>\n",
       "      <td>ffff82501cea40309d5fdd7edcca4a07</td>\n",
       "      <td>transaction</td>\n",
       "      <td>414</td>\n",
       "      <td>17.55</td>\n",
       "      <td>NaN</td>\n",
       "      <td>NaN</td>\n",
       "    </tr>\n",
       "    <tr>\n",
       "      <th>200113</th>\n",
       "      <td>ffff82501cea40309d5fdd7edcca4a07</td>\n",
       "      <td>transaction</td>\n",
       "      <td>498</td>\n",
       "      <td>13.17</td>\n",
       "      <td>NaN</td>\n",
       "      <td>NaN</td>\n",
       "    </tr>\n",
       "    <tr>\n",
       "      <th>214570</th>\n",
       "      <td>ffff82501cea40309d5fdd7edcca4a07</td>\n",
       "      <td>transaction</td>\n",
       "      <td>504</td>\n",
       "      <td>7.79</td>\n",
       "      <td>NaN</td>\n",
       "      <td>NaN</td>\n",
       "    </tr>\n",
       "    <tr>\n",
       "      <th>258113</th>\n",
       "      <td>ffff82501cea40309d5fdd7edcca4a07</td>\n",
       "      <td>transaction</td>\n",
       "      <td>576</td>\n",
       "      <td>14.23</td>\n",
       "      <td>NaN</td>\n",
       "      <td>NaN</td>\n",
       "    </tr>\n",
       "    <tr>\n",
       "      <th>274495</th>\n",
       "      <td>ffff82501cea40309d5fdd7edcca4a07</td>\n",
       "      <td>transaction</td>\n",
       "      <td>606</td>\n",
       "      <td>10.12</td>\n",
       "      <td>NaN</td>\n",
       "      <td>NaN</td>\n",
       "    </tr>\n",
       "    <tr>\n",
       "      <th>289552</th>\n",
       "      <td>ffff82501cea40309d5fdd7edcca4a07</td>\n",
       "      <td>transaction</td>\n",
       "      <td>648</td>\n",
       "      <td>18.91</td>\n",
       "      <td>NaN</td>\n",
       "      <td>NaN</td>\n",
       "    </tr>\n",
       "  </tbody>\n",
       "</table>\n",
       "</div>"
      ],
      "text/plain": [
       "                                  person            event  time  amount  \\\n",
       "54574   ffff82501cea40309d5fdd7edcca4a07   offer received   168     NaN   \n",
       "69621   ffff82501cea40309d5fdd7edcca4a07     offer viewed   174     NaN   \n",
       "79661   ffff82501cea40309d5fdd7edcca4a07  offer completed   198     NaN   \n",
       "112200  ffff82501cea40309d5fdd7edcca4a07   offer received   336     NaN   \n",
       "133059  ffff82501cea40309d5fdd7edcca4a07     offer viewed   354     NaN   \n",
       "143768  ffff82501cea40309d5fdd7edcca4a07  offer completed   384     NaN   \n",
       "152007  ffff82501cea40309d5fdd7edcca4a07   offer received   408     NaN   \n",
       "167990  ffff82501cea40309d5fdd7edcca4a07     offer viewed   414     NaN   \n",
       "167992  ffff82501cea40309d5fdd7edcca4a07  offer completed   414     NaN   \n",
       "246248  ffff82501cea40309d5fdd7edcca4a07   offer received   576     NaN   \n",
       "258114  ffff82501cea40309d5fdd7edcca4a07  offer completed   576     NaN   \n",
       "262204  ffff82501cea40309d5fdd7edcca4a07     offer viewed   582     NaN   \n",
       "202817  ffff82501cea40309d5fdd7edcca4a07   offer received   504     NaN   \n",
       "214571  ffff82501cea40309d5fdd7edcca4a07  offer completed   504     NaN   \n",
       "230484  ffff82501cea40309d5fdd7edcca4a07     offer viewed   534     NaN   \n",
       "1393    ffff82501cea40309d5fdd7edcca4a07   offer received     0     NaN   \n",
       "15836   ffff82501cea40309d5fdd7edcca4a07     offer viewed     6     NaN   \n",
       "32763   ffff82501cea40309d5fdd7edcca4a07  offer completed    60     NaN   \n",
       "32762   ffff82501cea40309d5fdd7edcca4a07      transaction    60   16.06   \n",
       "37060   ffff82501cea40309d5fdd7edcca4a07      transaction    78    7.18   \n",
       "45575   ffff82501cea40309d5fdd7edcca4a07      transaction   120    9.12   \n",
       "79660   ffff82501cea40309d5fdd7edcca4a07      transaction   198   22.88   \n",
       "81586   ffff82501cea40309d5fdd7edcca4a07      transaction   204   15.23   \n",
       "90685   ffff82501cea40309d5fdd7edcca4a07      transaction   234   18.08   \n",
       "97816   ffff82501cea40309d5fdd7edcca4a07      transaction   264   23.32   \n",
       "107038  ffff82501cea40309d5fdd7edcca4a07      transaction   312   16.86   \n",
       "143767  ffff82501cea40309d5fdd7edcca4a07      transaction   384   15.57   \n",
       "167991  ffff82501cea40309d5fdd7edcca4a07      transaction   414   17.55   \n",
       "200113  ffff82501cea40309d5fdd7edcca4a07      transaction   498   13.17   \n",
       "214570  ffff82501cea40309d5fdd7edcca4a07      transaction   504    7.79   \n",
       "258113  ffff82501cea40309d5fdd7edcca4a07      transaction   576   14.23   \n",
       "274495  ffff82501cea40309d5fdd7edcca4a07      transaction   606   10.12   \n",
       "289552  ffff82501cea40309d5fdd7edcca4a07      transaction   648   18.91   \n",
       "\n",
       "                                offer_id  reward  \n",
       "54574   0b1e1539f2cc45b7b9fa7c272da2e1d7     NaN  \n",
       "69621   0b1e1539f2cc45b7b9fa7c272da2e1d7     NaN  \n",
       "79661   0b1e1539f2cc45b7b9fa7c272da2e1d7     5.0  \n",
       "112200  2906b810c7d4411798c6938adc9daaa5     NaN  \n",
       "133059  2906b810c7d4411798c6938adc9daaa5     NaN  \n",
       "143768  2906b810c7d4411798c6938adc9daaa5     2.0  \n",
       "152007  2906b810c7d4411798c6938adc9daaa5     NaN  \n",
       "167990  2906b810c7d4411798c6938adc9daaa5     NaN  \n",
       "167992  2906b810c7d4411798c6938adc9daaa5     2.0  \n",
       "246248  2906b810c7d4411798c6938adc9daaa5     NaN  \n",
       "258114  2906b810c7d4411798c6938adc9daaa5     2.0  \n",
       "262204  2906b810c7d4411798c6938adc9daaa5     NaN  \n",
       "202817  9b98b8c7a33c4b65b9aebfe6a799e6d9     NaN  \n",
       "214571  9b98b8c7a33c4b65b9aebfe6a799e6d9     5.0  \n",
       "230484  9b98b8c7a33c4b65b9aebfe6a799e6d9     NaN  \n",
       "1393    fafdcd668e3743c1bb461111dcafc2a4     NaN  \n",
       "15836   fafdcd668e3743c1bb461111dcafc2a4     NaN  \n",
       "32763   fafdcd668e3743c1bb461111dcafc2a4     2.0  \n",
       "32762                                NaN     NaN  \n",
       "37060                                NaN     NaN  \n",
       "45575                                NaN     NaN  \n",
       "79660                                NaN     NaN  \n",
       "81586                                NaN     NaN  \n",
       "90685                                NaN     NaN  \n",
       "97816                                NaN     NaN  \n",
       "107038                               NaN     NaN  \n",
       "143767                               NaN     NaN  \n",
       "167991                               NaN     NaN  \n",
       "200113                               NaN     NaN  \n",
       "214570                               NaN     NaN  \n",
       "258113                               NaN     NaN  \n",
       "274495                               NaN     NaN  \n",
       "289552                               NaN     NaN  "
      ]
     },
     "execution_count": 55,
     "metadata": {},
     "output_type": "execute_result"
    }
   ],
   "source": [
    "sample"
   ]
  },
  {
   "cell_type": "markdown",
   "metadata": {},
   "source": [
    "#### Commentary:\n",
    "The above method correctly sorts each offer by order of funnel. The rows with `transaction` does not contain offer_id. Therefore they need to be split and merged back after labeling complete offer. They can be merged on `time` of offer completed event which is exactly same as time of corresponding transaction."
   ]
  },
  {
   "cell_type": "markdown",
   "metadata": {},
   "source": [
    "#### Splitting rows that contain `transaction` event"
   ]
  },
  {
   "cell_type": "code",
   "execution_count": 56,
   "metadata": {},
   "outputs": [],
   "source": [
    "# Split rows with 'transaction' event\n",
    "transaction_df = transcript_sorted[transcript_sorted.event == 'transaction']\n",
    "\n",
    "# Remove transaction from transcript_sorted dataframe\n",
    "transcript_sorted = transcript_sorted[transcript_sorted.event != 'transaction']"
   ]
  },
  {
   "cell_type": "code",
   "execution_count": 57,
   "metadata": {},
   "outputs": [],
   "source": [
    "# Confirm the change\n",
    "assert (transcript_sorted.event == 'transaction').sum() == 0, \"There still is a row with transaction event.\"\n",
    "assert (transcript_sorted.offer_id.isnull().sum()) == 0, \"There is a missing record in offer_id column\""
   ]
  },
  {
   "cell_type": "markdown",
   "metadata": {},
   "source": [
    "#### Pivot transcript_sorted to label offer complete / incomplete\n",
    "We do not need `reward` column for this operations. It will later be added after labeling."
   ]
  },
  {
   "cell_type": "code",
   "execution_count": 58,
   "metadata": {
    "scrolled": true
   },
   "outputs": [
    {
     "data": {
      "text/html": [
       "<div>\n",
       "<style scoped>\n",
       "    .dataframe tbody tr th:only-of-type {\n",
       "        vertical-align: middle;\n",
       "    }\n",
       "\n",
       "    .dataframe tbody tr th {\n",
       "        vertical-align: top;\n",
       "    }\n",
       "\n",
       "    .dataframe thead tr th {\n",
       "        text-align: left;\n",
       "    }\n",
       "\n",
       "    .dataframe thead tr:last-of-type th {\n",
       "        text-align: right;\n",
       "    }\n",
       "</style>\n",
       "<table border=\"1\" class=\"dataframe\">\n",
       "  <thead>\n",
       "    <tr>\n",
       "      <th></th>\n",
       "      <th></th>\n",
       "      <th colspan=\"4\" halign=\"left\">time</th>\n",
       "    </tr>\n",
       "    <tr>\n",
       "      <th></th>\n",
       "      <th>event</th>\n",
       "      <th>offer received</th>\n",
       "      <th>offer viewed</th>\n",
       "      <th>transaction</th>\n",
       "      <th>offer completed</th>\n",
       "    </tr>\n",
       "    <tr>\n",
       "      <th>person</th>\n",
       "      <th>offer_id</th>\n",
       "      <th></th>\n",
       "      <th></th>\n",
       "      <th></th>\n",
       "      <th></th>\n",
       "    </tr>\n",
       "  </thead>\n",
       "  <tbody>\n",
       "    <tr>\n",
       "      <th rowspan=\"5\" valign=\"top\">0009655768c64bdeb2e877511632db8f</th>\n",
       "      <th>0b1e1539f2cc45b7b9fa7c272da2e1d7</th>\n",
       "      <td>NaN</td>\n",
       "      <td>NaN</td>\n",
       "      <td>NaN</td>\n",
       "      <td>NaN</td>\n",
       "    </tr>\n",
       "    <tr>\n",
       "      <th>2298d6c36e964ae4a3e7e9706d1fb8c2</th>\n",
       "      <td>NaN</td>\n",
       "      <td>NaN</td>\n",
       "      <td>NaN</td>\n",
       "      <td>NaN</td>\n",
       "    </tr>\n",
       "    <tr>\n",
       "      <th>2906b810c7d4411798c6938adc9daaa5</th>\n",
       "      <td>576.0</td>\n",
       "      <td>NaN</td>\n",
       "      <td>NaN</td>\n",
       "      <td>576.0</td>\n",
       "    </tr>\n",
       "    <tr>\n",
       "      <th>3f207df678b143eea3cee63160fa8bed</th>\n",
       "      <td>336.0</td>\n",
       "      <td>372.0</td>\n",
       "      <td>NaN</td>\n",
       "      <td>NaN</td>\n",
       "    </tr>\n",
       "    <tr>\n",
       "      <th>4d5c57ea9a6940dd891ad53e9dbe8da0</th>\n",
       "      <td>NaN</td>\n",
       "      <td>NaN</td>\n",
       "      <td>NaN</td>\n",
       "      <td>NaN</td>\n",
       "    </tr>\n",
       "  </tbody>\n",
       "</table>\n",
       "</div>"
      ],
      "text/plain": [
       "                                                                            time  \\\n",
       "event                                                             offer received   \n",
       "person                           offer_id                                          \n",
       "0009655768c64bdeb2e877511632db8f 0b1e1539f2cc45b7b9fa7c272da2e1d7            NaN   \n",
       "                                 2298d6c36e964ae4a3e7e9706d1fb8c2            NaN   \n",
       "                                 2906b810c7d4411798c6938adc9daaa5          576.0   \n",
       "                                 3f207df678b143eea3cee63160fa8bed          336.0   \n",
       "                                 4d5c57ea9a6940dd891ad53e9dbe8da0            NaN   \n",
       "\n",
       "                                                                                \\\n",
       "event                                                             offer viewed   \n",
       "person                           offer_id                                        \n",
       "0009655768c64bdeb2e877511632db8f 0b1e1539f2cc45b7b9fa7c272da2e1d7          NaN   \n",
       "                                 2298d6c36e964ae4a3e7e9706d1fb8c2          NaN   \n",
       "                                 2906b810c7d4411798c6938adc9daaa5          NaN   \n",
       "                                 3f207df678b143eea3cee63160fa8bed        372.0   \n",
       "                                 4d5c57ea9a6940dd891ad53e9dbe8da0          NaN   \n",
       "\n",
       "                                                                               \\\n",
       "event                                                             transaction   \n",
       "person                           offer_id                                       \n",
       "0009655768c64bdeb2e877511632db8f 0b1e1539f2cc45b7b9fa7c272da2e1d7         NaN   \n",
       "                                 2298d6c36e964ae4a3e7e9706d1fb8c2         NaN   \n",
       "                                 2906b810c7d4411798c6938adc9daaa5         NaN   \n",
       "                                 3f207df678b143eea3cee63160fa8bed         NaN   \n",
       "                                 4d5c57ea9a6940dd891ad53e9dbe8da0         NaN   \n",
       "\n",
       "                                                                                   \n",
       "event                                                             offer completed  \n",
       "person                           offer_id                                          \n",
       "0009655768c64bdeb2e877511632db8f 0b1e1539f2cc45b7b9fa7c272da2e1d7             NaN  \n",
       "                                 2298d6c36e964ae4a3e7e9706d1fb8c2             NaN  \n",
       "                                 2906b810c7d4411798c6938adc9daaa5           576.0  \n",
       "                                 3f207df678b143eea3cee63160fa8bed             NaN  \n",
       "                                 4d5c57ea9a6940dd891ad53e9dbe8da0             NaN  "
      ]
     },
     "execution_count": 58,
     "metadata": {},
     "output_type": "execute_result"
    }
   ],
   "source": [
    "# Remove reward column and subset transcript sorted dataframe\n",
    "transcript_subset = transcript_sorted[['person', 'event', 'time', 'offer_id']]\n",
    "\n",
    "# Pivot the subsetted dataframe \n",
    "offer_by_customer = transcript_subset.groupby(['person', 'offer_id', 'event']).max().unstack()\n",
    "offer_by_customer.head()"
   ]
  },
  {
   "cell_type": "markdown",
   "metadata": {},
   "source": [
    "#### Commentary:\n",
    "The pivoted dataframe `is_offer_complete` contains multi-layered index and column. It looks that there are 10 `offer_id` for each person containing all offer types that we saw in `portfolio` dataframe. \n",
    "\n",
    "When it comes to column, `time` and `event` features are multi-layered, which will need a further processing in the following section."
   ]
  },
  {
   "cell_type": "code",
   "execution_count": 59,
   "metadata": {
    "scrolled": true
   },
   "outputs": [
    {
     "name": "stderr",
     "output_type": "stream",
     "text": [
      "100%|██████████| 167184/167184 [01:25<00:00, 1966.73it/s]\n"
     ]
    }
   ],
   "source": [
    "# Inspect if all persons have 10 offers using progress bar\n",
    "\n",
    "member_ids = transcript_subset.person\n",
    "\n",
    "for _id in tqdm(member_ids):\n",
    "    assert offer_by_customer.loc[_id].shape[0] == 10"
   ]
  },
  {
   "cell_type": "markdown",
   "metadata": {},
   "source": [
    "Yes indeed! This will allow us to check which offer has actually been sent and which hasn't"
   ]
  },
  {
   "cell_type": "markdown",
   "metadata": {},
   "source": [
    "#### Reset multi-index and drop 'transaction' column\n",
    "The multi-index column can be reset. Also `transaction` is regenerated as it is part of the categorical `event` column. To faciliate the labeling, we can drop it. Also, "
   ]
  },
  {
   "cell_type": "code",
   "execution_count": 60,
   "metadata": {},
   "outputs": [],
   "source": [
    "# Resetting multi-index column\n",
    "offer_by_customer.columns = offer_by_customer.columns.droplevel(0)"
   ]
  },
  {
   "cell_type": "code",
   "execution_count": 61,
   "metadata": {},
   "outputs": [],
   "source": [
    "# Check if transaction column has any non-null value\n",
    "assert offer_by_customer['transaction'].notnull().sum() == 0, 'There is a non-null value in transaction column'\n",
    "\n",
    "# Drop the transaction column\n",
    "offer_by_customer = offer_by_customer.drop(columns='transaction')"
   ]
  },
  {
   "cell_type": "code",
   "execution_count": 62,
   "metadata": {},
   "outputs": [
    {
     "data": {
      "text/html": [
       "<div>\n",
       "<style scoped>\n",
       "    .dataframe tbody tr th:only-of-type {\n",
       "        vertical-align: middle;\n",
       "    }\n",
       "\n",
       "    .dataframe tbody tr th {\n",
       "        vertical-align: top;\n",
       "    }\n",
       "\n",
       "    .dataframe thead th {\n",
       "        text-align: right;\n",
       "    }\n",
       "</style>\n",
       "<table border=\"1\" class=\"dataframe\">\n",
       "  <thead>\n",
       "    <tr style=\"text-align: right;\">\n",
       "      <th></th>\n",
       "      <th>event</th>\n",
       "      <th>offer received</th>\n",
       "      <th>offer viewed</th>\n",
       "      <th>offer completed</th>\n",
       "    </tr>\n",
       "    <tr>\n",
       "      <th>person</th>\n",
       "      <th>offer_id</th>\n",
       "      <th></th>\n",
       "      <th></th>\n",
       "      <th></th>\n",
       "    </tr>\n",
       "  </thead>\n",
       "  <tbody>\n",
       "    <tr>\n",
       "      <th rowspan=\"5\" valign=\"top\">0009655768c64bdeb2e877511632db8f</th>\n",
       "      <th>0b1e1539f2cc45b7b9fa7c272da2e1d7</th>\n",
       "      <td>NaN</td>\n",
       "      <td>NaN</td>\n",
       "      <td>NaN</td>\n",
       "    </tr>\n",
       "    <tr>\n",
       "      <th>2298d6c36e964ae4a3e7e9706d1fb8c2</th>\n",
       "      <td>NaN</td>\n",
       "      <td>NaN</td>\n",
       "      <td>NaN</td>\n",
       "    </tr>\n",
       "    <tr>\n",
       "      <th>2906b810c7d4411798c6938adc9daaa5</th>\n",
       "      <td>576.0</td>\n",
       "      <td>NaN</td>\n",
       "      <td>576.0</td>\n",
       "    </tr>\n",
       "    <tr>\n",
       "      <th>3f207df678b143eea3cee63160fa8bed</th>\n",
       "      <td>336.0</td>\n",
       "      <td>372.0</td>\n",
       "      <td>NaN</td>\n",
       "    </tr>\n",
       "    <tr>\n",
       "      <th>4d5c57ea9a6940dd891ad53e9dbe8da0</th>\n",
       "      <td>NaN</td>\n",
       "      <td>NaN</td>\n",
       "      <td>NaN</td>\n",
       "    </tr>\n",
       "    <tr>\n",
       "      <th>...</th>\n",
       "      <th>...</th>\n",
       "      <td>...</td>\n",
       "      <td>...</td>\n",
       "      <td>...</td>\n",
       "    </tr>\n",
       "    <tr>\n",
       "      <th rowspan=\"5\" valign=\"top\">ffff82501cea40309d5fdd7edcca4a07</th>\n",
       "      <th>5a8bc65990b245e5a138643cd4eb9837</th>\n",
       "      <td>NaN</td>\n",
       "      <td>NaN</td>\n",
       "      <td>NaN</td>\n",
       "    </tr>\n",
       "    <tr>\n",
       "      <th>9b98b8c7a33c4b65b9aebfe6a799e6d9</th>\n",
       "      <td>504.0</td>\n",
       "      <td>534.0</td>\n",
       "      <td>504.0</td>\n",
       "    </tr>\n",
       "    <tr>\n",
       "      <th>ae264e3637204a6fb9bb56bc8210ddfd</th>\n",
       "      <td>NaN</td>\n",
       "      <td>NaN</td>\n",
       "      <td>NaN</td>\n",
       "    </tr>\n",
       "    <tr>\n",
       "      <th>f19421c1d4aa40978ebb69ca19b0e20d</th>\n",
       "      <td>NaN</td>\n",
       "      <td>NaN</td>\n",
       "      <td>NaN</td>\n",
       "    </tr>\n",
       "    <tr>\n",
       "      <th>fafdcd668e3743c1bb461111dcafc2a4</th>\n",
       "      <td>0.0</td>\n",
       "      <td>6.0</td>\n",
       "      <td>60.0</td>\n",
       "    </tr>\n",
       "  </tbody>\n",
       "</table>\n",
       "<p>169940 rows × 3 columns</p>\n",
       "</div>"
      ],
      "text/plain": [
       "event                                                              offer received  \\\n",
       "person                           offer_id                                           \n",
       "0009655768c64bdeb2e877511632db8f 0b1e1539f2cc45b7b9fa7c272da2e1d7             NaN   \n",
       "                                 2298d6c36e964ae4a3e7e9706d1fb8c2             NaN   \n",
       "                                 2906b810c7d4411798c6938adc9daaa5           576.0   \n",
       "                                 3f207df678b143eea3cee63160fa8bed           336.0   \n",
       "                                 4d5c57ea9a6940dd891ad53e9dbe8da0             NaN   \n",
       "...                                                                           ...   \n",
       "ffff82501cea40309d5fdd7edcca4a07 5a8bc65990b245e5a138643cd4eb9837             NaN   \n",
       "                                 9b98b8c7a33c4b65b9aebfe6a799e6d9           504.0   \n",
       "                                 ae264e3637204a6fb9bb56bc8210ddfd             NaN   \n",
       "                                 f19421c1d4aa40978ebb69ca19b0e20d             NaN   \n",
       "                                 fafdcd668e3743c1bb461111dcafc2a4             0.0   \n",
       "\n",
       "event                                                              offer viewed  \\\n",
       "person                           offer_id                                         \n",
       "0009655768c64bdeb2e877511632db8f 0b1e1539f2cc45b7b9fa7c272da2e1d7           NaN   \n",
       "                                 2298d6c36e964ae4a3e7e9706d1fb8c2           NaN   \n",
       "                                 2906b810c7d4411798c6938adc9daaa5           NaN   \n",
       "                                 3f207df678b143eea3cee63160fa8bed         372.0   \n",
       "                                 4d5c57ea9a6940dd891ad53e9dbe8da0           NaN   \n",
       "...                                                                         ...   \n",
       "ffff82501cea40309d5fdd7edcca4a07 5a8bc65990b245e5a138643cd4eb9837           NaN   \n",
       "                                 9b98b8c7a33c4b65b9aebfe6a799e6d9         534.0   \n",
       "                                 ae264e3637204a6fb9bb56bc8210ddfd           NaN   \n",
       "                                 f19421c1d4aa40978ebb69ca19b0e20d           NaN   \n",
       "                                 fafdcd668e3743c1bb461111dcafc2a4           6.0   \n",
       "\n",
       "event                                                              offer completed  \n",
       "person                           offer_id                                           \n",
       "0009655768c64bdeb2e877511632db8f 0b1e1539f2cc45b7b9fa7c272da2e1d7              NaN  \n",
       "                                 2298d6c36e964ae4a3e7e9706d1fb8c2              NaN  \n",
       "                                 2906b810c7d4411798c6938adc9daaa5            576.0  \n",
       "                                 3f207df678b143eea3cee63160fa8bed              NaN  \n",
       "                                 4d5c57ea9a6940dd891ad53e9dbe8da0              NaN  \n",
       "...                                                                            ...  \n",
       "ffff82501cea40309d5fdd7edcca4a07 5a8bc65990b245e5a138643cd4eb9837              NaN  \n",
       "                                 9b98b8c7a33c4b65b9aebfe6a799e6d9            504.0  \n",
       "                                 ae264e3637204a6fb9bb56bc8210ddfd              NaN  \n",
       "                                 f19421c1d4aa40978ebb69ca19b0e20d              NaN  \n",
       "                                 fafdcd668e3743c1bb461111dcafc2a4             60.0  \n",
       "\n",
       "[169940 rows x 3 columns]"
      ]
     },
     "execution_count": 62,
     "metadata": {},
     "output_type": "execute_result"
    }
   ],
   "source": [
    "offer_by_customer"
   ]
  },
  {
   "cell_type": "markdown",
   "metadata": {},
   "source": [
    "#### Labeling completed / incompleted offer\n",
    "Now we have **offer received**, **offer viewed** and **offer completed** column following funnel. We label `completed` when all three columns are filled with non-null values. \n",
    "\n",
    "**Labeling matrix for possible mix (o: non-null value, x: null):**\n",
    "\n",
    "| offer received | offer viewed | offer completed | label |\n",
    "| --- | --- | --- | --- |\n",
    "| o | o | o | completed |\n",
    "| o | o | x | incomplete |\n",
    "| o | x | o | incomplete |\n",
    "| o | x | x | incomplete |\n",
    "| x | x | x | unsent |\n",
    "\n",
    "As inspected earlier, the dataframe contains data for offers that have not been sent to a person and we denote that as `unsent` for any future use."
   ]
  },
  {
   "cell_type": "code",
   "execution_count": 63,
   "metadata": {},
   "outputs": [],
   "source": [
    "def label_offer_by_customer(df=offer_by_customer):\n",
    "    ''' Create a new dataframe that contains label column\n",
    "    to represent the status of offer. The column will contain\n",
    "    three labels that are 'completed', 'incomplete', 'no offer'\n",
    "    \n",
    "        'completed': customers has been influenced by offer when\n",
    "            purchasing a product\n",
    "        'incomplete': customers may have purchased a product or not\n",
    "            which however was not influenced by offer\n",
    "        'unsent': a particular offer has not been sent by Starbucks            \n",
    "    \n",
    "    INPUT: a pivoted dataframe that contains funnel information by\n",
    "        customer(person) and offer(offer_id)\n",
    "        \n",
    "    OUTPUT: a dataframe that has either of the three labels attached    \n",
    "    '''\n",
    "    \n",
    "    # Instantiate a copy of dataframe\n",
    "    df_new = is_offer_complete.copy()\n",
    "\n",
    "    # Change dtype categorical --> str\n",
    "    # otherwise, a new column cannot be added\n",
    "    df_new.columns = df_new.columns.astype(str)\n",
    "\n",
    "    # Instantiate a new 'offer_status' column\n",
    "    df_new['offer_status'] = ''\n",
    "    \n",
    "    for idx, rows in tqdm(df_new.iterrows(), total=df_new.shape[0]):\n",
    "    \n",
    "        # Set conditions to check if there is non-null value\n",
    "        is_received = not math.isnan(rows['offer received'])\n",
    "        is_viewed = not math.isnan(rows['offer viewed'])\n",
    "        is_completed = not math.isnan(rows['offer completed'])\n",
    "\n",
    "        # Label as per the logic spcified in the labeling matrix \n",
    "        if is_received and is_viewed and is_completed:\n",
    "            df_new.loc[idx, 'offer_status'] = 'completed'\n",
    "\n",
    "        elif is_received and is_viewed and not is_completed:\n",
    "            df_new.loc[idx, 'offer_status'] = 'incomplete'\n",
    "\n",
    "        elif is_received and not is_viewed and is_completed:\n",
    "            df_new.loc[idx, 'offer_status'] = 'incomplete'\n",
    "\n",
    "        elif is_received and not is_viewed and not is_completed:\n",
    "            df_new.loc[idx, 'offer_status'] = 'incomplete'\n",
    "\n",
    "        elif not is_received and not is_completed and not is_viewed:\n",
    "            df_new.loc[idx, 'offer_status'] = 'unsent'\n",
    "\n",
    "        else:\n",
    "            df_new.loc[idx, 'offer_status'] = np.nan\n",
    "\n",
    "    return df_new"
   ]
  },
  {
   "cell_type": "code",
   "execution_count": 64,
   "metadata": {},
   "outputs": [
    {
     "name": "stderr",
     "output_type": "stream",
     "text": [
      "100%|██████████| 169940/169940 [05:02<00:00, 562.14it/s]\n"
     ]
    }
   ],
   "source": [
    "offer_by_customer_labeled = label_offer_completion(df=offer_by_customer)"
   ]
  },
  {
   "cell_type": "code",
   "execution_count": 67,
   "metadata": {},
   "outputs": [],
   "source": [
    "# Check if offer_status has null values\n",
    "assert offer_by_customer_labeled.offer_status.isnull().sum() == 0, 'There is a null value'"
   ]
  },
  {
   "cell_type": "code",
   "execution_count": 68,
   "metadata": {},
   "outputs": [
    {
     "data": {
      "text/html": [
       "<div>\n",
       "<style scoped>\n",
       "    .dataframe tbody tr th:only-of-type {\n",
       "        vertical-align: middle;\n",
       "    }\n",
       "\n",
       "    .dataframe tbody tr th {\n",
       "        vertical-align: top;\n",
       "    }\n",
       "\n",
       "    .dataframe thead th {\n",
       "        text-align: right;\n",
       "    }\n",
       "</style>\n",
       "<table border=\"1\" class=\"dataframe\">\n",
       "  <thead>\n",
       "    <tr style=\"text-align: right;\">\n",
       "      <th></th>\n",
       "      <th>event</th>\n",
       "      <th>offer received</th>\n",
       "      <th>offer viewed</th>\n",
       "      <th>offer completed</th>\n",
       "      <th>offer_status</th>\n",
       "    </tr>\n",
       "    <tr>\n",
       "      <th>person</th>\n",
       "      <th>offer_id</th>\n",
       "      <th></th>\n",
       "      <th></th>\n",
       "      <th></th>\n",
       "      <th></th>\n",
       "    </tr>\n",
       "  </thead>\n",
       "  <tbody>\n",
       "    <tr>\n",
       "      <th>ed652dee45c042cc99eb591f2f210b65</th>\n",
       "      <th>ae264e3637204a6fb9bb56bc8210ddfd</th>\n",
       "      <td>NaN</td>\n",
       "      <td>NaN</td>\n",
       "      <td>NaN</td>\n",
       "      <td>unsent</td>\n",
       "    </tr>\n",
       "    <tr>\n",
       "      <th>0f5cb923d0a74415aca9ce5dd0c60e46</th>\n",
       "      <th>0b1e1539f2cc45b7b9fa7c272da2e1d7</th>\n",
       "      <td>576.0</td>\n",
       "      <td>600.0</td>\n",
       "      <td>642.0</td>\n",
       "      <td>completed</td>\n",
       "    </tr>\n",
       "    <tr>\n",
       "      <th>0f457f3ccf254eb0af0921ddd996b504</th>\n",
       "      <th>9b98b8c7a33c4b65b9aebfe6a799e6d9</th>\n",
       "      <td>408.0</td>\n",
       "      <td>NaN</td>\n",
       "      <td>426.0</td>\n",
       "      <td>incomplete</td>\n",
       "    </tr>\n",
       "    <tr>\n",
       "      <th>f6518c2b6806414fa80552ce7a3c2a91</th>\n",
       "      <th>3f207df678b143eea3cee63160fa8bed</th>\n",
       "      <td>NaN</td>\n",
       "      <td>NaN</td>\n",
       "      <td>NaN</td>\n",
       "      <td>unsent</td>\n",
       "    </tr>\n",
       "    <tr>\n",
       "      <th>3971f0bafa78424ea2361204747cb108</th>\n",
       "      <th>0b1e1539f2cc45b7b9fa7c272da2e1d7</th>\n",
       "      <td>336.0</td>\n",
       "      <td>NaN</td>\n",
       "      <td>NaN</td>\n",
       "      <td>incomplete</td>\n",
       "    </tr>\n",
       "    <tr>\n",
       "      <th>a349c2f0f90c430aae70eeed8937c2fa</th>\n",
       "      <th>5a8bc65990b245e5a138643cd4eb9837</th>\n",
       "      <td>168.0</td>\n",
       "      <td>180.0</td>\n",
       "      <td>NaN</td>\n",
       "      <td>incomplete</td>\n",
       "    </tr>\n",
       "    <tr>\n",
       "      <th>f4655eb024894fe98aa0b7b598024b8f</th>\n",
       "      <th>ae264e3637204a6fb9bb56bc8210ddfd</th>\n",
       "      <td>NaN</td>\n",
       "      <td>NaN</td>\n",
       "      <td>NaN</td>\n",
       "      <td>unsent</td>\n",
       "    </tr>\n",
       "    <tr>\n",
       "      <th>e1db113b332344a4b333953e717c848b</th>\n",
       "      <th>ae264e3637204a6fb9bb56bc8210ddfd</th>\n",
       "      <td>408.0</td>\n",
       "      <td>438.0</td>\n",
       "      <td>438.0</td>\n",
       "      <td>completed</td>\n",
       "    </tr>\n",
       "    <tr>\n",
       "      <th>b0be9b4679204f82b937260a08e54eb0</th>\n",
       "      <th>0b1e1539f2cc45b7b9fa7c272da2e1d7</th>\n",
       "      <td>408.0</td>\n",
       "      <td>NaN</td>\n",
       "      <td>NaN</td>\n",
       "      <td>incomplete</td>\n",
       "    </tr>\n",
       "    <tr>\n",
       "      <th>92e41e23303b4110b2409a1f233cffe2</th>\n",
       "      <th>4d5c57ea9a6940dd891ad53e9dbe8da0</th>\n",
       "      <td>336.0</td>\n",
       "      <td>336.0</td>\n",
       "      <td>NaN</td>\n",
       "      <td>incomplete</td>\n",
       "    </tr>\n",
       "  </tbody>\n",
       "</table>\n",
       "</div>"
      ],
      "text/plain": [
       "event                                                              offer received  \\\n",
       "person                           offer_id                                           \n",
       "ed652dee45c042cc99eb591f2f210b65 ae264e3637204a6fb9bb56bc8210ddfd             NaN   \n",
       "0f5cb923d0a74415aca9ce5dd0c60e46 0b1e1539f2cc45b7b9fa7c272da2e1d7           576.0   \n",
       "0f457f3ccf254eb0af0921ddd996b504 9b98b8c7a33c4b65b9aebfe6a799e6d9           408.0   \n",
       "f6518c2b6806414fa80552ce7a3c2a91 3f207df678b143eea3cee63160fa8bed             NaN   \n",
       "3971f0bafa78424ea2361204747cb108 0b1e1539f2cc45b7b9fa7c272da2e1d7           336.0   \n",
       "a349c2f0f90c430aae70eeed8937c2fa 5a8bc65990b245e5a138643cd4eb9837           168.0   \n",
       "f4655eb024894fe98aa0b7b598024b8f ae264e3637204a6fb9bb56bc8210ddfd             NaN   \n",
       "e1db113b332344a4b333953e717c848b ae264e3637204a6fb9bb56bc8210ddfd           408.0   \n",
       "b0be9b4679204f82b937260a08e54eb0 0b1e1539f2cc45b7b9fa7c272da2e1d7           408.0   \n",
       "92e41e23303b4110b2409a1f233cffe2 4d5c57ea9a6940dd891ad53e9dbe8da0           336.0   \n",
       "\n",
       "event                                                              offer viewed  \\\n",
       "person                           offer_id                                         \n",
       "ed652dee45c042cc99eb591f2f210b65 ae264e3637204a6fb9bb56bc8210ddfd           NaN   \n",
       "0f5cb923d0a74415aca9ce5dd0c60e46 0b1e1539f2cc45b7b9fa7c272da2e1d7         600.0   \n",
       "0f457f3ccf254eb0af0921ddd996b504 9b98b8c7a33c4b65b9aebfe6a799e6d9           NaN   \n",
       "f6518c2b6806414fa80552ce7a3c2a91 3f207df678b143eea3cee63160fa8bed           NaN   \n",
       "3971f0bafa78424ea2361204747cb108 0b1e1539f2cc45b7b9fa7c272da2e1d7           NaN   \n",
       "a349c2f0f90c430aae70eeed8937c2fa 5a8bc65990b245e5a138643cd4eb9837         180.0   \n",
       "f4655eb024894fe98aa0b7b598024b8f ae264e3637204a6fb9bb56bc8210ddfd           NaN   \n",
       "e1db113b332344a4b333953e717c848b ae264e3637204a6fb9bb56bc8210ddfd         438.0   \n",
       "b0be9b4679204f82b937260a08e54eb0 0b1e1539f2cc45b7b9fa7c272da2e1d7           NaN   \n",
       "92e41e23303b4110b2409a1f233cffe2 4d5c57ea9a6940dd891ad53e9dbe8da0         336.0   \n",
       "\n",
       "event                                                              offer completed  \\\n",
       "person                           offer_id                                            \n",
       "ed652dee45c042cc99eb591f2f210b65 ae264e3637204a6fb9bb56bc8210ddfd              NaN   \n",
       "0f5cb923d0a74415aca9ce5dd0c60e46 0b1e1539f2cc45b7b9fa7c272da2e1d7            642.0   \n",
       "0f457f3ccf254eb0af0921ddd996b504 9b98b8c7a33c4b65b9aebfe6a799e6d9            426.0   \n",
       "f6518c2b6806414fa80552ce7a3c2a91 3f207df678b143eea3cee63160fa8bed              NaN   \n",
       "3971f0bafa78424ea2361204747cb108 0b1e1539f2cc45b7b9fa7c272da2e1d7              NaN   \n",
       "a349c2f0f90c430aae70eeed8937c2fa 5a8bc65990b245e5a138643cd4eb9837              NaN   \n",
       "f4655eb024894fe98aa0b7b598024b8f ae264e3637204a6fb9bb56bc8210ddfd              NaN   \n",
       "e1db113b332344a4b333953e717c848b ae264e3637204a6fb9bb56bc8210ddfd            438.0   \n",
       "b0be9b4679204f82b937260a08e54eb0 0b1e1539f2cc45b7b9fa7c272da2e1d7              NaN   \n",
       "92e41e23303b4110b2409a1f233cffe2 4d5c57ea9a6940dd891ad53e9dbe8da0              NaN   \n",
       "\n",
       "event                                                             offer_status  \n",
       "person                           offer_id                                       \n",
       "ed652dee45c042cc99eb591f2f210b65 ae264e3637204a6fb9bb56bc8210ddfd       unsent  \n",
       "0f5cb923d0a74415aca9ce5dd0c60e46 0b1e1539f2cc45b7b9fa7c272da2e1d7    completed  \n",
       "0f457f3ccf254eb0af0921ddd996b504 9b98b8c7a33c4b65b9aebfe6a799e6d9   incomplete  \n",
       "f6518c2b6806414fa80552ce7a3c2a91 3f207df678b143eea3cee63160fa8bed       unsent  \n",
       "3971f0bafa78424ea2361204747cb108 0b1e1539f2cc45b7b9fa7c272da2e1d7   incomplete  \n",
       "a349c2f0f90c430aae70eeed8937c2fa 5a8bc65990b245e5a138643cd4eb9837   incomplete  \n",
       "f4655eb024894fe98aa0b7b598024b8f ae264e3637204a6fb9bb56bc8210ddfd       unsent  \n",
       "e1db113b332344a4b333953e717c848b ae264e3637204a6fb9bb56bc8210ddfd    completed  \n",
       "b0be9b4679204f82b937260a08e54eb0 0b1e1539f2cc45b7b9fa7c272da2e1d7   incomplete  \n",
       "92e41e23303b4110b2409a1f233cffe2 4d5c57ea9a6940dd891ad53e9dbe8da0   incomplete  "
      ]
     },
     "execution_count": 68,
     "metadata": {},
     "output_type": "execute_result"
    }
   ],
   "source": [
    "# Visually check with 10 samples \n",
    "offer_by_customer_labeled.sample(10) # ok!"
   ]
  },
  {
   "cell_type": "code",
   "execution_count": 65,
   "metadata": {},
   "outputs": [],
   "source": [
    "offer_by_customer_labeled.to_csv('data/offer_by_customer_labeled.csv', index=True)"
   ]
  },
  {
   "cell_type": "markdown",
   "metadata": {},
   "source": [
    "---\n",
    "<a id=\"explore\"></a>\n",
    "# `SECTION 3` Exploratory analysis"
   ]
  },
  {
   "cell_type": "code",
   "execution_count": 4,
   "metadata": {},
   "outputs": [],
   "source": [
    "# Load the clean dataset\n",
    "portfolio_v1 = pd.read_csv('data/portfolio_v1.csv')\n",
    "profile_v1 = pd.read_csv('data/profile_v1.csv', parse_dates=True)\n",
    "transcript_v1 = pd.read_csv('data/transcript_v1.csv')\n",
    "offer_by_customer = pd.read_csv('data/offer_by_customer_labeled.csv')"
   ]
  },
  {
   "cell_type": "code",
   "execution_count": 5,
   "metadata": {},
   "outputs": [
    {
     "data": {
      "text/html": [
       "<div>\n",
       "<style scoped>\n",
       "    .dataframe tbody tr th:only-of-type {\n",
       "        vertical-align: middle;\n",
       "    }\n",
       "\n",
       "    .dataframe tbody tr th {\n",
       "        vertical-align: top;\n",
       "    }\n",
       "\n",
       "    .dataframe thead th {\n",
       "        text-align: right;\n",
       "    }\n",
       "</style>\n",
       "<table border=\"1\" class=\"dataframe\">\n",
       "  <thead>\n",
       "    <tr style=\"text-align: right;\">\n",
       "      <th></th>\n",
       "      <th>reward</th>\n",
       "      <th>difficulty</th>\n",
       "      <th>duration</th>\n",
       "      <th>offer_type</th>\n",
       "      <th>id</th>\n",
       "      <th>web</th>\n",
       "      <th>email</th>\n",
       "      <th>social</th>\n",
       "      <th>mobile</th>\n",
       "    </tr>\n",
       "  </thead>\n",
       "  <tbody>\n",
       "    <tr>\n",
       "      <th>0</th>\n",
       "      <td>10</td>\n",
       "      <td>10</td>\n",
       "      <td>7</td>\n",
       "      <td>bogo</td>\n",
       "      <td>ae264e3637204a6fb9bb56bc8210ddfd</td>\n",
       "      <td>0</td>\n",
       "      <td>1</td>\n",
       "      <td>1</td>\n",
       "      <td>1</td>\n",
       "    </tr>\n",
       "    <tr>\n",
       "      <th>1</th>\n",
       "      <td>10</td>\n",
       "      <td>10</td>\n",
       "      <td>5</td>\n",
       "      <td>bogo</td>\n",
       "      <td>4d5c57ea9a6940dd891ad53e9dbe8da0</td>\n",
       "      <td>1</td>\n",
       "      <td>1</td>\n",
       "      <td>1</td>\n",
       "      <td>1</td>\n",
       "    </tr>\n",
       "    <tr>\n",
       "      <th>2</th>\n",
       "      <td>0</td>\n",
       "      <td>0</td>\n",
       "      <td>4</td>\n",
       "      <td>informational</td>\n",
       "      <td>3f207df678b143eea3cee63160fa8bed</td>\n",
       "      <td>1</td>\n",
       "      <td>1</td>\n",
       "      <td>0</td>\n",
       "      <td>1</td>\n",
       "    </tr>\n",
       "    <tr>\n",
       "      <th>3</th>\n",
       "      <td>5</td>\n",
       "      <td>5</td>\n",
       "      <td>7</td>\n",
       "      <td>bogo</td>\n",
       "      <td>9b98b8c7a33c4b65b9aebfe6a799e6d9</td>\n",
       "      <td>1</td>\n",
       "      <td>1</td>\n",
       "      <td>0</td>\n",
       "      <td>1</td>\n",
       "    </tr>\n",
       "    <tr>\n",
       "      <th>4</th>\n",
       "      <td>5</td>\n",
       "      <td>20</td>\n",
       "      <td>10</td>\n",
       "      <td>discount</td>\n",
       "      <td>0b1e1539f2cc45b7b9fa7c272da2e1d7</td>\n",
       "      <td>1</td>\n",
       "      <td>1</td>\n",
       "      <td>0</td>\n",
       "      <td>0</td>\n",
       "    </tr>\n",
       "    <tr>\n",
       "      <th>5</th>\n",
       "      <td>3</td>\n",
       "      <td>7</td>\n",
       "      <td>7</td>\n",
       "      <td>discount</td>\n",
       "      <td>2298d6c36e964ae4a3e7e9706d1fb8c2</td>\n",
       "      <td>1</td>\n",
       "      <td>1</td>\n",
       "      <td>1</td>\n",
       "      <td>1</td>\n",
       "    </tr>\n",
       "    <tr>\n",
       "      <th>6</th>\n",
       "      <td>2</td>\n",
       "      <td>10</td>\n",
       "      <td>10</td>\n",
       "      <td>discount</td>\n",
       "      <td>fafdcd668e3743c1bb461111dcafc2a4</td>\n",
       "      <td>1</td>\n",
       "      <td>1</td>\n",
       "      <td>1</td>\n",
       "      <td>1</td>\n",
       "    </tr>\n",
       "    <tr>\n",
       "      <th>7</th>\n",
       "      <td>0</td>\n",
       "      <td>0</td>\n",
       "      <td>3</td>\n",
       "      <td>informational</td>\n",
       "      <td>5a8bc65990b245e5a138643cd4eb9837</td>\n",
       "      <td>0</td>\n",
       "      <td>1</td>\n",
       "      <td>1</td>\n",
       "      <td>1</td>\n",
       "    </tr>\n",
       "    <tr>\n",
       "      <th>8</th>\n",
       "      <td>5</td>\n",
       "      <td>5</td>\n",
       "      <td>5</td>\n",
       "      <td>bogo</td>\n",
       "      <td>f19421c1d4aa40978ebb69ca19b0e20d</td>\n",
       "      <td>1</td>\n",
       "      <td>1</td>\n",
       "      <td>1</td>\n",
       "      <td>1</td>\n",
       "    </tr>\n",
       "    <tr>\n",
       "      <th>9</th>\n",
       "      <td>2</td>\n",
       "      <td>10</td>\n",
       "      <td>7</td>\n",
       "      <td>discount</td>\n",
       "      <td>2906b810c7d4411798c6938adc9daaa5</td>\n",
       "      <td>1</td>\n",
       "      <td>1</td>\n",
       "      <td>0</td>\n",
       "      <td>1</td>\n",
       "    </tr>\n",
       "  </tbody>\n",
       "</table>\n",
       "</div>"
      ],
      "text/plain": [
       "   reward  difficulty  duration     offer_type  \\\n",
       "0      10          10         7           bogo   \n",
       "1      10          10         5           bogo   \n",
       "2       0           0         4  informational   \n",
       "3       5           5         7           bogo   \n",
       "4       5          20        10       discount   \n",
       "5       3           7         7       discount   \n",
       "6       2          10        10       discount   \n",
       "7       0           0         3  informational   \n",
       "8       5           5         5           bogo   \n",
       "9       2          10         7       discount   \n",
       "\n",
       "                                 id  web  email  social  mobile  \n",
       "0  ae264e3637204a6fb9bb56bc8210ddfd    0      1       1       1  \n",
       "1  4d5c57ea9a6940dd891ad53e9dbe8da0    1      1       1       1  \n",
       "2  3f207df678b143eea3cee63160fa8bed    1      1       0       1  \n",
       "3  9b98b8c7a33c4b65b9aebfe6a799e6d9    1      1       0       1  \n",
       "4  0b1e1539f2cc45b7b9fa7c272da2e1d7    1      1       0       0  \n",
       "5  2298d6c36e964ae4a3e7e9706d1fb8c2    1      1       1       1  \n",
       "6  fafdcd668e3743c1bb461111dcafc2a4    1      1       1       1  \n",
       "7  5a8bc65990b245e5a138643cd4eb9837    0      1       1       1  \n",
       "8  f19421c1d4aa40978ebb69ca19b0e20d    1      1       1       1  \n",
       "9  2906b810c7d4411798c6938adc9daaa5    1      1       0       1  "
      ]
     },
     "execution_count": 5,
     "metadata": {},
     "output_type": "execute_result"
    }
   ],
   "source": [
    "portfolio_v1"
   ]
  },
  {
   "cell_type": "markdown",
   "metadata": {},
   "source": [
    "### Offer types"
   ]
  },
  {
   "cell_type": "code",
   "execution_count": 6,
   "metadata": {},
   "outputs": [
    {
     "data": {
      "text/html": [
       "<div>\n",
       "<style scoped>\n",
       "    .dataframe tbody tr th:only-of-type {\n",
       "        vertical-align: middle;\n",
       "    }\n",
       "\n",
       "    .dataframe tbody tr th {\n",
       "        vertical-align: top;\n",
       "    }\n",
       "\n",
       "    .dataframe thead th {\n",
       "        text-align: right;\n",
       "    }\n",
       "</style>\n",
       "<table border=\"1\" class=\"dataframe\">\n",
       "  <thead>\n",
       "    <tr style=\"text-align: right;\">\n",
       "      <th></th>\n",
       "      <th>reward</th>\n",
       "      <th>difficulty</th>\n",
       "      <th>duration</th>\n",
       "      <th>web</th>\n",
       "      <th>email</th>\n",
       "      <th>social</th>\n",
       "      <th>mobile</th>\n",
       "    </tr>\n",
       "    <tr>\n",
       "      <th>offer_type</th>\n",
       "      <th></th>\n",
       "      <th></th>\n",
       "      <th></th>\n",
       "      <th></th>\n",
       "      <th></th>\n",
       "      <th></th>\n",
       "      <th></th>\n",
       "    </tr>\n",
       "  </thead>\n",
       "  <tbody>\n",
       "    <tr>\n",
       "      <th>bogo</th>\n",
       "      <td>7.5</td>\n",
       "      <td>7.50</td>\n",
       "      <td>6.0</td>\n",
       "      <td>0.75</td>\n",
       "      <td>1.0</td>\n",
       "      <td>0.75</td>\n",
       "      <td>1.00</td>\n",
       "    </tr>\n",
       "    <tr>\n",
       "      <th>discount</th>\n",
       "      <td>3.0</td>\n",
       "      <td>11.75</td>\n",
       "      <td>8.5</td>\n",
       "      <td>1.00</td>\n",
       "      <td>1.0</td>\n",
       "      <td>0.50</td>\n",
       "      <td>0.75</td>\n",
       "    </tr>\n",
       "    <tr>\n",
       "      <th>informational</th>\n",
       "      <td>0.0</td>\n",
       "      <td>0.00</td>\n",
       "      <td>3.5</td>\n",
       "      <td>0.50</td>\n",
       "      <td>1.0</td>\n",
       "      <td>0.50</td>\n",
       "      <td>1.00</td>\n",
       "    </tr>\n",
       "  </tbody>\n",
       "</table>\n",
       "</div>"
      ],
      "text/plain": [
       "               reward  difficulty  duration   web  email  social  mobile\n",
       "offer_type                                                              \n",
       "bogo              7.5        7.50       6.0  0.75    1.0    0.75    1.00\n",
       "discount          3.0       11.75       8.5  1.00    1.0    0.50    0.75\n",
       "informational     0.0        0.00       3.5  0.50    1.0    0.50    1.00"
      ]
     },
     "execution_count": 6,
     "metadata": {},
     "output_type": "execute_result"
    }
   ],
   "source": [
    "portfolio_v1.groupby('offer_type').mean()"
   ]
  },
  {
   "cell_type": "code",
   "execution_count": 7,
   "metadata": {},
   "outputs": [
    {
     "data": {
      "image/png": "[encoded data removed]",
      "text/plain": [
       "<Figure size 864x288 with 4 Axes>"
      ]
     },
     "metadata": {
      "needs_background": "light"
     },
     "output_type": "display_data"
    }
   ],
   "source": [
    "fig, (ax1, ax2) = plt.subplots(1,2, figsize=(12,4))\n",
    "\n",
    "sns.heatmap(portfolio_v1.iloc[:, :5].groupby('offer_type').mean().T, \n",
    "            annot=True, fmt='.2f', cmap='Oranges', ax=ax1);\n",
    "sns.heatmap(portfolio_v1.iloc[:, 3:].groupby('offer_type').mean().T, \n",
    "            annot=True, fmt='.2f', cmap='Blues', ax=ax2);\n",
    "\n",
    "ax1.set(title ='How does each offer type look?');\n",
    "ax2.set(title ='Which channel does each offer use?');"
   ]
  },
  {
   "cell_type": "markdown",
   "metadata": {},
   "source": [
    "`discount` offer requires the highest minium spends to get but has the longest duration, assuming customers feel the influence longer that the others. Regardless of offer type, `email` is always used when communicating the offer. `bogo` offer uses the widest number of channels. \n",
    "\n",
    "The analysis will be more meaningful when offer type is explored together with customer profile and transction data, which will be done later after mering the dataset."
   ]
  },
  {
   "cell_type": "markdown",
   "metadata": {},
   "source": [
    "###  Demographics"
   ]
  },
  {
   "cell_type": "code",
   "execution_count": 8,
   "metadata": {},
   "outputs": [
    {
     "data": {
      "text/plain": [
       "14825"
      ]
     },
     "execution_count": 8,
     "metadata": {},
     "output_type": "execute_result"
    }
   ],
   "source": [
    "profile_v1.shape[0] # total 14825 unique demographic data"
   ]
  },
  {
   "cell_type": "code",
   "execution_count": 9,
   "metadata": {},
   "outputs": [
    {
     "data": {
      "text/html": [
       "<div>\n",
       "<style scoped>\n",
       "    .dataframe tbody tr th:only-of-type {\n",
       "        vertical-align: middle;\n",
       "    }\n",
       "\n",
       "    .dataframe tbody tr th {\n",
       "        vertical-align: top;\n",
       "    }\n",
       "\n",
       "    .dataframe thead th {\n",
       "        text-align: right;\n",
       "    }\n",
       "</style>\n",
       "<table border=\"1\" class=\"dataframe\">\n",
       "  <thead>\n",
       "    <tr style=\"text-align: right;\">\n",
       "      <th></th>\n",
       "      <th>gender</th>\n",
       "      <th>age</th>\n",
       "      <th>id</th>\n",
       "      <th>became_member_on</th>\n",
       "      <th>income</th>\n",
       "    </tr>\n",
       "  </thead>\n",
       "  <tbody>\n",
       "    <tr>\n",
       "      <th>0</th>\n",
       "      <td>F</td>\n",
       "      <td>55</td>\n",
       "      <td>0610b486422d4921ae7d2bf64640c50b</td>\n",
       "      <td>2017-07-15</td>\n",
       "      <td>112000.0</td>\n",
       "    </tr>\n",
       "    <tr>\n",
       "      <th>1</th>\n",
       "      <td>F</td>\n",
       "      <td>75</td>\n",
       "      <td>78afa995795e4d85b5d9ceeca43f5fef</td>\n",
       "      <td>2017-05-09</td>\n",
       "      <td>100000.0</td>\n",
       "    </tr>\n",
       "    <tr>\n",
       "      <th>2</th>\n",
       "      <td>M</td>\n",
       "      <td>68</td>\n",
       "      <td>e2127556f4f64592b11af22de27a7932</td>\n",
       "      <td>2018-04-26</td>\n",
       "      <td>70000.0</td>\n",
       "    </tr>\n",
       "    <tr>\n",
       "      <th>3</th>\n",
       "      <td>M</td>\n",
       "      <td>65</td>\n",
       "      <td>389bc3fa690240e798340f5a15918d5c</td>\n",
       "      <td>2018-02-09</td>\n",
       "      <td>53000.0</td>\n",
       "    </tr>\n",
       "    <tr>\n",
       "      <th>4</th>\n",
       "      <td>M</td>\n",
       "      <td>58</td>\n",
       "      <td>2eeac8d8feae4a8cad5a6af0499a211d</td>\n",
       "      <td>2017-11-11</td>\n",
       "      <td>51000.0</td>\n",
       "    </tr>\n",
       "  </tbody>\n",
       "</table>\n",
       "</div>"
      ],
      "text/plain": [
       "  gender  age                                id became_member_on    income\n",
       "0      F   55  0610b486422d4921ae7d2bf64640c50b       2017-07-15  112000.0\n",
       "1      F   75  78afa995795e4d85b5d9ceeca43f5fef       2017-05-09  100000.0\n",
       "2      M   68  e2127556f4f64592b11af22de27a7932       2018-04-26   70000.0\n",
       "3      M   65  389bc3fa690240e798340f5a15918d5c       2018-02-09   53000.0\n",
       "4      M   58  2eeac8d8feae4a8cad5a6af0499a211d       2017-11-11   51000.0"
      ]
     },
     "execution_count": 9,
     "metadata": {},
     "output_type": "execute_result"
    }
   ],
   "source": [
    "profile_v1.head()"
   ]
  },
  {
   "cell_type": "code",
   "execution_count": 10,
   "metadata": {},
   "outputs": [],
   "source": [
    "# It looks that 'became_member_on' is still object... \n",
    "# Convert to datetime object\n",
    "profile_v1['became_member_on'] = pd.to_datetime(profile_v1['became_member_on'])"
   ]
  },
  {
   "cell_type": "code",
   "execution_count": 11,
   "metadata": {},
   "outputs": [
    {
     "data": {
      "image/png": "[encoded data removed]",
      "text/plain": [
       "<Figure size 864x576 with 4 Axes>"
      ]
     },
     "metadata": {
      "needs_background": "light"
     },
     "output_type": "display_data"
    }
   ],
   "source": [
    "base_color = sns.color_palette()[0]\n",
    "\n",
    "fig, axes = plt.subplots(2, 2, figsize=(12,8))\n",
    "\n",
    "fig1 = sns.countplot(x=profile_v1.gender, ax=axes[0,0], color=base_color)\n",
    "fig2 = sns.countplot(x=profile_v1.became_member_on.dt.year, ax=axes[0,1], color=base_color)\n",
    "fig3 = sns.histplot(x=profile_v1.age, binwidth=5, ax=axes[1,0])\n",
    "fig4 = sns.histplot(x=profile_v1.income, binwidth=5000, ax=axes[1,1])\n",
    "\n",
    "fig1.set(title='Count by gender', xlabel='', ylabel='')\n",
    "fig2.set(title='Count of new members by years', xlabel='', ylabel='')\n",
    "fig3.set(title='Age distribution of members', xlabel='', ylabel='')\n",
    "fig4.set(title='Income distribution of members\\n(unit: US dollars)', xlabel='', ylabel='')\n",
    "\n",
    "plt.tight_layout(pad=3.5)\n",
    "plt.show()"
   ]
  },
  {
   "cell_type": "code",
   "execution_count": 12,
   "metadata": {},
   "outputs": [
    {
     "data": {
      "text/plain": [
       "M    0.572277\n",
       "F    0.413423\n",
       "O    0.014300\n",
       "Name: gender, dtype: float64"
      ]
     },
     "execution_count": 12,
     "metadata": {},
     "output_type": "execute_result"
    }
   ],
   "source": [
    "# Percentage of male, female and others\n",
    "profile_v1.gender.value_counts() / profile_v1.shape[0]"
   ]
  },
  {
   "cell_type": "code",
   "execution_count": 13,
   "metadata": {},
   "outputs": [
    {
     "data": {
      "text/plain": [
       "count    14825.000000\n",
       "mean        54.393524\n",
       "std         17.383705\n",
       "min         18.000000\n",
       "25%         42.000000\n",
       "50%         55.000000\n",
       "75%         66.000000\n",
       "max        101.000000\n",
       "Name: age, dtype: float64"
      ]
     },
     "execution_count": 13,
     "metadata": {},
     "output_type": "execute_result"
    }
   ],
   "source": [
    "# Summary statistics for age\n",
    "profile_v1.age.describe()"
   ]
  },
  {
   "cell_type": "code",
   "execution_count": 14,
   "metadata": {},
   "outputs": [
    {
     "data": {
      "text/plain": [
       "count     14825.000000\n",
       "mean      65404.991568\n",
       "std       21598.299410\n",
       "min       30000.000000\n",
       "25%       49000.000000\n",
       "50%       64000.000000\n",
       "75%       80000.000000\n",
       "max      120000.000000\n",
       "Name: income, dtype: float64"
      ]
     },
     "execution_count": 14,
     "metadata": {},
     "output_type": "execute_result"
    }
   ],
   "source": [
    "# Summary statistics for income\n",
    "profile_v1.income.describe()"
   ]
  },
  {
   "cell_type": "markdown",
   "metadata": {},
   "source": [
    "**Gender:** based on this dataset, male customers accounts for 57% of total, more than female (or others). \n",
    "\n",
    "**Date:** The growth of new members has increased over time, but it may need better comparison against other metrics like the total visitor volume to validate the organic growth. Also, the data collection period is not clear so 2013 and 2018 data may be biased. \n",
    "\n",
    "**Age:** The minimum age is 18 which may be due to age restriction for members. With the median of 55, 50% of the members fall interquartile range is between 42 and 66. There are some members above 100, which may be true or caused by survey error.\n",
    "\n",
    "**Income:** Median income is $64,000. The distribution is skewed to the right which seems natural for income distribution."
   ]
  },
  {
   "cell_type": "code",
   "execution_count": null,
   "metadata": {},
   "outputs": [],
   "source": []
  }
 ],
 "metadata": {
  "kernelspec": {
   "display_name": "Python 3",
   "language": "python",
   "name": "python3"
  },
  "language_info": {
   "codemirror_mode": {
    "name": "ipython",
    "version": 3
   },
   "file_extension": ".py",
   "mimetype": "text/x-python",
   "name": "python",
   "nbconvert_exporter": "python",
   "pygments_lexer": "ipython3",
   "version": "3.8.5"
  }
 },
 "nbformat": 4,
 "nbformat_minor": 2
}
